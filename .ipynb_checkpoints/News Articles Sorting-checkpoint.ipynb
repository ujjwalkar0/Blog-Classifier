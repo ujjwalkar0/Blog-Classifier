{
 "cells": [
  {
   "cell_type": "code",
   "execution_count": 1,
   "id": "071b2249",
   "metadata": {},
   "outputs": [],
   "source": [
    "# !pip install pandas"
   ]
  },
  {
   "cell_type": "code",
   "execution_count": 9,
   "id": "849312bf",
   "metadata": {},
   "outputs": [],
   "source": [
    "import pandas as pd\n",
    "import numpy as np\n",
    "import seaborn as sns\n",
    "import matplotlib.pyplot as plt"
   ]
  },
  {
   "cell_type": "code",
   "execution_count": 4,
   "id": "ba2eed1c",
   "metadata": {
    "scrolled": true
   },
   "outputs": [
    {
     "data": {
      "text/html": [
       "<div>\n",
       "<style scoped>\n",
       "    .dataframe tbody tr th:only-of-type {\n",
       "        vertical-align: middle;\n",
       "    }\n",
       "\n",
       "    .dataframe tbody tr th {\n",
       "        vertical-align: top;\n",
       "    }\n",
       "\n",
       "    .dataframe thead th {\n",
       "        text-align: right;\n",
       "    }\n",
       "</style>\n",
       "<table border=\"1\" class=\"dataframe\">\n",
       "  <thead>\n",
       "    <tr style=\"text-align: right;\">\n",
       "      <th></th>\n",
       "      <th>ArticleId</th>\n",
       "      <th>Text</th>\n",
       "      <th>Category</th>\n",
       "    </tr>\n",
       "  </thead>\n",
       "  <tbody>\n",
       "    <tr>\n",
       "      <th>0</th>\n",
       "      <td>1833</td>\n",
       "      <td>worldcom ex-boss launches defence lawyers defe...</td>\n",
       "      <td>business</td>\n",
       "    </tr>\n",
       "    <tr>\n",
       "      <th>1</th>\n",
       "      <td>154</td>\n",
       "      <td>german business confidence slides german busin...</td>\n",
       "      <td>business</td>\n",
       "    </tr>\n",
       "    <tr>\n",
       "      <th>2</th>\n",
       "      <td>1101</td>\n",
       "      <td>bbc poll indicates economic gloom citizens in ...</td>\n",
       "      <td>business</td>\n",
       "    </tr>\n",
       "    <tr>\n",
       "      <th>3</th>\n",
       "      <td>1976</td>\n",
       "      <td>lifestyle  governs mobile choice  faster  bett...</td>\n",
       "      <td>tech</td>\n",
       "    </tr>\n",
       "    <tr>\n",
       "      <th>4</th>\n",
       "      <td>917</td>\n",
       "      <td>enron bosses in $168m payout eighteen former e...</td>\n",
       "      <td>business</td>\n",
       "    </tr>\n",
       "  </tbody>\n",
       "</table>\n",
       "</div>"
      ],
      "text/plain": [
       "   ArticleId                                               Text  Category\n",
       "0       1833  worldcom ex-boss launches defence lawyers defe...  business\n",
       "1        154  german business confidence slides german busin...  business\n",
       "2       1101  bbc poll indicates economic gloom citizens in ...  business\n",
       "3       1976  lifestyle  governs mobile choice  faster  bett...      tech\n",
       "4        917  enron bosses in $168m payout eighteen former e...  business"
      ]
     },
     "execution_count": 4,
     "metadata": {},
     "output_type": "execute_result"
    }
   ],
   "source": [
    "data = pd.read_csv(\"data.csv\")\n",
    "data.head()"
   ]
  },
  {
   "cell_type": "code",
   "execution_count": 5,
   "id": "df0cc761",
   "metadata": {},
   "outputs": [
    {
     "data": {
      "text/plain": [
       "(1490, 3)"
      ]
     },
     "execution_count": 5,
     "metadata": {},
     "output_type": "execute_result"
    }
   ],
   "source": [
    "data.shape"
   ]
  },
  {
   "cell_type": "code",
   "execution_count": 6,
   "id": "6d7a4bed",
   "metadata": {},
   "outputs": [],
   "source": [
    "y = data.Category"
   ]
  },
  {
   "cell_type": "code",
   "execution_count": 7,
   "id": "b053a9b0",
   "metadata": {},
   "outputs": [
    {
     "data": {
      "text/plain": [
       "sport            346\n",
       "business         336\n",
       "politics         274\n",
       "entertainment    273\n",
       "tech             261\n",
       "Name: Category, dtype: int64"
      ]
     },
     "execution_count": 7,
     "metadata": {},
     "output_type": "execute_result"
    }
   ],
   "source": [
    "y.value_counts()"
   ]
  },
  {
   "cell_type": "code",
   "execution_count": 10,
   "id": "5fe59aee",
   "metadata": {},
   "outputs": [
    {
     "data": {
      "image/png": "[encoded data removed]",
      "text/plain": [
       "<Figure size 432x288 with 1 Axes>"
      ]
     },
     "metadata": {
      "needs_background": "light"
     },
     "output_type": "display_data"
    }
   ],
   "source": [
    "sns.countplot(data=data, x='Category')\n",
    "plt.show()"
   ]
  },
  {
   "cell_type": "markdown",
   "id": "b37d0673",
   "metadata": {},
   "source": [
    "# Feature Engineering\n",
    "\n",
    "Feature Engineering is a very key part of Natural Language Processing. as we all know algorithms and machines can’t understand characters or words or sentences hence we need to encode these words into some specific form of numerical in order to interact with algorithms or machines. we can’t feed the text data containing words /sentences/characters to a machine learning model.\n",
    "\n",
    "There are various ways to perform feature extraction. some popular and mostly used are:-\n",
    "\n",
    "    1. Bag of Words model\n",
    "    2. TF-IDF"
   ]
  },
  {
   "cell_type": "markdown",
   "id": "289ba82f",
   "metadata": {},
   "source": [
    "## 1. Bag of Words model\n",
    "\n",
    "The idea is to take the whole text data and count their frequency of occurrence. and map the words with their frequency. This method doesn’t care about the order of the words, but it does care how many times a word occurs and the default bag of words model treats all words equally.\n",
    "\n",
    "## 2. TF-IDF Model\n",
    "\n",
    "The BOW model doesn’t give good results since it has a drawback. Assume that there is a particular word that is appearing in all the documents and it comes multiple times, eventually, it will have a higher frequency of occurrence and it will have a greater value that will cause a specific word to have more weightage in a sentence, that’s not good for our analysis.\n",
    "\n",
    "Term frequency (TF): Number of times a term has appeared in a document. The term frequency is a measure of how frequently or how common a word is for a given sentence.\n",
    "\n",
    "Inverse Document Frequency (IDF): The inverse document frequency (IDF ) is a measure of how rare a word is in a document. Words like “the”,” a” show up in all the documents but rare words will not occur in all the documents of the corpus.\n",
    "\n",
    "If a word appears in almost every document means it’s not significant for the classification.\n",
    "\n",
    "IDF of a word is = log(N/n)\n",
    "\n",
    "N: total number of documents.\n",
    "n: number of documents containing a term (word)\n",
    "\n",
    "TF-IDF Evaluates how relevant is a word to its sentence in a collection of sentences or documents."
   ]
  },
  {
   "cell_type": "code",
   "execution_count": 11,
   "id": "304a16ec",
   "metadata": {},
   "outputs": [
    {
     "ename": "AttributeError",
     "evalue": "'DataFrame' object has no attribute 'Tokens'",
     "output_type": "error",
     "traceback": [
      "\u001b[0;31m---------------------------------------------------------------------------\u001b[0m",
      "\u001b[0;31mAttributeError\u001b[0m                            Traceback (most recent call last)",
      "Input \u001b[0;32mIn [11]\u001b[0m, in \u001b[0;36m<cell line: 8>\u001b[0;34m()\u001b[0m\n\u001b[1;32m      4\u001b[0m token \u001b[38;5;241m=\u001b[39m RegexpTokenizer(\u001b[38;5;124mr\u001b[39m\u001b[38;5;124m'\u001b[39m\u001b[38;5;124m[a-zA-Z0-9]+\u001b[39m\u001b[38;5;124m'\u001b[39m)\n\u001b[1;32m      6\u001b[0m TfIdf_Vectorizer \u001b[38;5;241m=\u001b[39m TfidfVectorizer(tokenizer \u001b[38;5;241m=\u001b[39m token\u001b[38;5;241m.\u001b[39mtokenize)\n\u001b[0;32m----> 8\u001b[0m X \u001b[38;5;241m=\u001b[39m TfIdf_Vectorizer\u001b[38;5;241m.\u001b[39mfit_transform(\u001b[43mdata\u001b[49m\u001b[38;5;241;43m.\u001b[39;49m\u001b[43mTokens\u001b[49m)\n\u001b[1;32m     10\u001b[0m X_array \u001b[38;5;241m=\u001b[39m X\u001b[38;5;241m.\u001b[39mtoarray()\n\u001b[1;32m     12\u001b[0m pd\u001b[38;5;241m.\u001b[39mDataFrame(data\u001b[38;5;241m=\u001b[39mX_array, columns \u001b[38;5;241m=\u001b[39m TfIdf_Vectorizer\u001b[38;5;241m.\u001b[39mget_feature_names_out())\u001b[38;5;241m.\u001b[39mhead()\n",
      "File \u001b[0;32m~/anaconda3/lib/python3.9/site-packages/pandas/core/generic.py:5575\u001b[0m, in \u001b[0;36mNDFrame.__getattr__\u001b[0;34m(self, name)\u001b[0m\n\u001b[1;32m   5568\u001b[0m \u001b[38;5;28;01mif\u001b[39;00m (\n\u001b[1;32m   5569\u001b[0m     name \u001b[38;5;129;01mnot\u001b[39;00m \u001b[38;5;129;01min\u001b[39;00m \u001b[38;5;28mself\u001b[39m\u001b[38;5;241m.\u001b[39m_internal_names_set\n\u001b[1;32m   5570\u001b[0m     \u001b[38;5;129;01mand\u001b[39;00m name \u001b[38;5;129;01mnot\u001b[39;00m \u001b[38;5;129;01min\u001b[39;00m \u001b[38;5;28mself\u001b[39m\u001b[38;5;241m.\u001b[39m_metadata\n\u001b[1;32m   5571\u001b[0m     \u001b[38;5;129;01mand\u001b[39;00m name \u001b[38;5;129;01mnot\u001b[39;00m \u001b[38;5;129;01min\u001b[39;00m \u001b[38;5;28mself\u001b[39m\u001b[38;5;241m.\u001b[39m_accessors\n\u001b[1;32m   5572\u001b[0m     \u001b[38;5;129;01mand\u001b[39;00m \u001b[38;5;28mself\u001b[39m\u001b[38;5;241m.\u001b[39m_info_axis\u001b[38;5;241m.\u001b[39m_can_hold_identifiers_and_holds_name(name)\n\u001b[1;32m   5573\u001b[0m ):\n\u001b[1;32m   5574\u001b[0m     \u001b[38;5;28;01mreturn\u001b[39;00m \u001b[38;5;28mself\u001b[39m[name]\n\u001b[0;32m-> 5575\u001b[0m \u001b[38;5;28;01mreturn\u001b[39;00m \u001b[38;5;28;43mobject\u001b[39;49m\u001b[38;5;241;43m.\u001b[39;49m\u001b[38;5;21;43m__getattribute__\u001b[39;49m\u001b[43m(\u001b[49m\u001b[38;5;28;43mself\u001b[39;49m\u001b[43m,\u001b[49m\u001b[43m \u001b[49m\u001b[43mname\u001b[49m\u001b[43m)\u001b[49m\n",
      "\u001b[0;31mAttributeError\u001b[0m: 'DataFrame' object has no attribute 'Tokens'"
     ]
    }
   ],
   "source": [
    "from sklearn.feature_extraction.text import TfidfVectorizer\n",
    "from nltk.tokenize import RegexpTokenizer\n",
    "\n",
    "token = RegexpTokenizer(r'[a-zA-Z0-9]+')\n",
    "\n",
    "TfIdf_Vectorizer = TfidfVectorizer(tokenizer = token.tokenize)\n",
    "\n",
    "X = TfIdf_Vectorizer.fit_transform(data.Tokens)\n",
    "\n",
    "X_array = X.toarray()\n",
    "\n",
    "pd.DataFrame(data=X_array, columns = TfIdf_Vectorizer.get_feature_names_out()).head()"
   ]
  },
  {
   "cell_type": "code",
   "execution_count": 23,
   "id": "802ac9a6",
   "metadata": {},
   "outputs": [
    {
     "data": {
      "text/plain": [
       "(1490, 20531)"
      ]
     },
     "execution_count": 23,
     "metadata": {},
     "output_type": "execute_result"
    }
   ],
   "source": [
    "X_array.shape"
   ]
  },
  {
   "cell_type": "code",
   "execution_count": 24,
   "id": "f82658e5",
   "metadata": {},
   "outputs": [
    {
     "data": {
      "text/plain": [
       "(1490,)"
      ]
     },
     "execution_count": 24,
     "metadata": {},
     "output_type": "execute_result"
    }
   ],
   "source": [
    "y.shape"
   ]
  },
  {
   "cell_type": "code",
   "execution_count": 10,
   "id": "52e990ab",
   "metadata": {},
   "outputs": [],
   "source": [
    "# for i in TfIdf_Vectorizer.get_feature_names_out():\n",
    "#     print(i)"
   ]
  },
  {
   "cell_type": "code",
   "execution_count": null,
   "id": "e53bfba6",
   "metadata": {},
   "outputs": [],
   "source": []
  },
  {
   "cell_type": "markdown",
   "id": "e29ae312",
   "metadata": {},
   "source": [
    "# Model Building"
   ]
  },
  {
   "cell_type": "code",
   "execution_count": 10,
   "id": "1d136fba",
   "metadata": {},
   "outputs": [],
   "source": [
    "from sklearn.model_selection import train_test_split\n",
    "from sklearn.model_selection import cross_val_score\n",
    "from sklearn.metrics import classification_report, confusion_matrix, accuracy_score"
   ]
  },
  {
   "cell_type": "code",
   "execution_count": 11,
   "id": "87fa2535",
   "metadata": {},
   "outputs": [],
   "source": [
    "X_train, X_test, y_train, y_test = train_test_split(X,y, test_size=.33, random_state=40)"
   ]
  },
  {
   "cell_type": "markdown",
   "id": "97a5bfd1",
   "metadata": {},
   "source": [
    "## 1. Logistic Regression"
   ]
  },
  {
   "cell_type": "code",
   "execution_count": 112,
   "id": "cb217630",
   "metadata": {},
   "outputs": [
    {
     "data": {
      "text/plain": [
       "0.9664429530201343"
      ]
     },
     "execution_count": 112,
     "metadata": {},
     "output_type": "execute_result"
    }
   ],
   "source": [
    "from sklearn.linear_model import LogisticRegression\n",
    "\n",
    "# Check Cross Validation Score\n",
    "\n",
    "clf = LogisticRegression(random_state=42, max_iter=1000)\n",
    "np.average(cross_val_score(clf, X, y, cv=10))"
   ]
  },
  {
   "cell_type": "code",
   "execution_count": 115,
   "id": "801d6c45",
   "metadata": {},
   "outputs": [
    {
     "data": {
      "text/html": [
       "<style>#sk-container-id-4 {color: black;background-color: white;}#sk-container-id-4 pre{padding: 0;}#sk-container-id-4 div.sk-toggleable {background-color: white;}#sk-container-id-4 label.sk-toggleable__label {cursor: pointer;display: block;width: 100%;margin-bottom: 0;padding: 0.3em;box-sizing: border-box;text-align: center;}#sk-container-id-4 label.sk-toggleable__label-arrow:before {content: \"▸\";float: left;margin-right: 0.25em;color: #696969;}#sk-container-id-4 label.sk-toggleable__label-arrow:hover:before {color: black;}#sk-container-id-4 div.sk-estimator:hover label.sk-toggleable__label-arrow:before {color: black;}#sk-container-id-4 div.sk-toggleable__content {max-height: 0;max-width: 0;overflow: hidden;text-align: left;background-color: #f0f8ff;}#sk-container-id-4 div.sk-toggleable__content pre {margin: 0.2em;color: black;border-radius: 0.25em;background-color: #f0f8ff;}#sk-container-id-4 input.sk-toggleable__control:checked~div.sk-toggleable__content {max-height: 200px;max-width: 100%;overflow: auto;}#sk-container-id-4 input.sk-toggleable__control:checked~label.sk-toggleable__label-arrow:before {content: \"▾\";}#sk-container-id-4 div.sk-estimator input.sk-toggleable__control:checked~label.sk-toggleable__label {background-color: #d4ebff;}#sk-container-id-4 div.sk-label input.sk-toggleable__control:checked~label.sk-toggleable__label {background-color: #d4ebff;}#sk-container-id-4 input.sk-hidden--visually {border: 0;clip: rect(1px 1px 1px 1px);clip: rect(1px, 1px, 1px, 1px);height: 1px;margin: -1px;overflow: hidden;padding: 0;position: absolute;width: 1px;}#sk-container-id-4 div.sk-estimator {font-family: monospace;background-color: #f0f8ff;border: 1px dotted black;border-radius: 0.25em;box-sizing: border-box;margin-bottom: 0.5em;}#sk-container-id-4 div.sk-estimator:hover {background-color: #d4ebff;}#sk-container-id-4 div.sk-parallel-item::after {content: \"\";width: 100%;border-bottom: 1px solid gray;flex-grow: 1;}#sk-container-id-4 div.sk-label:hover label.sk-toggleable__label {background-color: #d4ebff;}#sk-container-id-4 div.sk-serial::before {content: \"\";position: absolute;border-left: 1px solid gray;box-sizing: border-box;top: 0;bottom: 0;left: 50%;z-index: 0;}#sk-container-id-4 div.sk-serial {display: flex;flex-direction: column;align-items: center;background-color: white;padding-right: 0.2em;padding-left: 0.2em;position: relative;}#sk-container-id-4 div.sk-item {position: relative;z-index: 1;}#sk-container-id-4 div.sk-parallel {display: flex;align-items: stretch;justify-content: center;background-color: white;position: relative;}#sk-container-id-4 div.sk-item::before, #sk-container-id-4 div.sk-parallel-item::before {content: \"\";position: absolute;border-left: 1px solid gray;box-sizing: border-box;top: 0;bottom: 0;left: 50%;z-index: -1;}#sk-container-id-4 div.sk-parallel-item {display: flex;flex-direction: column;z-index: 1;position: relative;background-color: white;}#sk-container-id-4 div.sk-parallel-item:first-child::after {align-self: flex-end;width: 50%;}#sk-container-id-4 div.sk-parallel-item:last-child::after {align-self: flex-start;width: 50%;}#sk-container-id-4 div.sk-parallel-item:only-child::after {width: 0;}#sk-container-id-4 div.sk-dashed-wrapped {border: 1px dashed gray;margin: 0 0.4em 0.5em 0.4em;box-sizing: border-box;padding-bottom: 0.4em;background-color: white;}#sk-container-id-4 div.sk-label label {font-family: monospace;font-weight: bold;display: inline-block;line-height: 1.2em;}#sk-container-id-4 div.sk-label-container {text-align: center;}#sk-container-id-4 div.sk-container {/* jupyter's `normalize.less` sets `[hidden] { display: none; }` but bootstrap.min.css set `[hidden] { display: none !important; }` so we also need the `!important` here to be able to override the default hidden behavior on the sphinx rendered scikit-learn.org. See: https://github.com/scikit-learn/scikit-learn/issues/21755 */display: inline-block !important;position: relative;}#sk-container-id-4 div.sk-text-repr-fallback {display: none;}</style><div id=\"sk-container-id-4\" class=\"sk-top-container\"><div class=\"sk-text-repr-fallback\"><pre>LogisticRegression(max_iter=1000, random_state=42)</pre><b>In a Jupyter environment, please rerun this cell to show the HTML representation or trust the notebook. <br />On GitHub, the HTML representation is unable to render, please try loading this page with nbviewer.org.</b></div><div class=\"sk-container\" hidden><div class=\"sk-item\"><div class=\"sk-estimator sk-toggleable\"><input class=\"sk-toggleable__control sk-hidden--visually\" id=\"sk-estimator-id-4\" type=\"checkbox\" checked><label for=\"sk-estimator-id-4\" class=\"sk-toggleable__label sk-toggleable__label-arrow\">LogisticRegression</label><div class=\"sk-toggleable__content\"><pre>LogisticRegression(max_iter=1000, random_state=42)</pre></div></div></div></div></div>"
      ],
      "text/plain": [
       "LogisticRegression(max_iter=1000, random_state=42)"
      ]
     },
     "execution_count": 115,
     "metadata": {},
     "output_type": "execute_result"
    }
   ],
   "source": [
    "# Model Building\n",
    "clf.fit(X_train, y_train)"
   ]
  },
  {
   "cell_type": "code",
   "execution_count": 29,
   "id": "00ba7463",
   "metadata": {},
   "outputs": [],
   "source": [
    "from sklearn.metrics import classification_report, confusion_matrix\n",
    "\n",
    "y_pred = clf.predict(X_test)"
   ]
  },
  {
   "cell_type": "code",
   "execution_count": 30,
   "id": "68d4406d",
   "metadata": {},
   "outputs": [
    {
     "name": "stdout",
     "output_type": "stream",
     "text": [
      "               precision    recall  f1-score   support\n",
      "\n",
      "     business       0.95      0.99      0.97       107\n",
      "entertainment       0.98      0.99      0.98        95\n",
      "     politics       0.99      0.96      0.98        85\n",
      "        sport       0.97      0.99      0.98       110\n",
      "         tech       1.00      0.95      0.97        95\n",
      "\n",
      "     accuracy                           0.98       492\n",
      "    macro avg       0.98      0.98      0.98       492\n",
      " weighted avg       0.98      0.98      0.98       492\n",
      "\n"
     ]
    }
   ],
   "source": [
    "print(classification_report(y_test, y_pred))"
   ]
  },
  {
   "cell_type": "code",
   "execution_count": 31,
   "id": "d73ecb7f",
   "metadata": {},
   "outputs": [
    {
     "name": "stdout",
     "output_type": "stream",
     "text": [
      "[[106   0   1   0   0]\n",
      " [  1  94   0   0   0]\n",
      " [  2   0  82   1   0]\n",
      " [  1   0   0 109   0]\n",
      " [  1   2   0   2  90]]\n"
     ]
    },
    {
     "data": {
      "image/png": "[encoded data removed]",
      "text/plain": [
       "<Figure size 432x288 with 2 Axes>"
      ]
     },
     "metadata": {
      "needs_background": "light"
     },
     "output_type": "display_data"
    }
   ],
   "source": [
    "print(confusion_matrix(y_test, y_pred))\n",
    "sns.heatmap(confusion_matrix(y_test, y_pred))\n",
    "plt.show()"
   ]
  },
  {
   "cell_type": "markdown",
   "id": "d332fe94",
   "metadata": {},
   "source": [
    "### Detect Catagory"
   ]
  },
  {
   "cell_type": "code",
   "execution_count": 113,
   "id": "c5b27c7b",
   "metadata": {},
   "outputs": [],
   "source": [
    "from nltk.stem import WordNetLemmatizer\n",
    "from textblob import TextBlob\n",
    "\n",
    "def detect_catagory(clf, sentence):\n",
    "    lm = WordNetLemmatizer()\n",
    "    s =  str(TextBlob(sentence).correct())\n",
    "    snt = ' '.join([lm.lemmatize(i) for i in s.split()])\n",
    "    print(clf.predict(TfIdf_Vectorizer.transform([snt])))"
   ]
  },
  {
   "cell_type": "code",
   "execution_count": 116,
   "id": "1bd1ff30",
   "metadata": {},
   "outputs": [
    {
     "name": "stdout",
     "output_type": "stream",
     "text": [
      "['sport']\n"
     ]
    }
   ],
   "source": [
    "detect_catagory(clf, \"this is veby interosting subjact. I feel very hapoy to read this\")"
   ]
  },
  {
   "cell_type": "markdown",
   "id": "1b927ddb",
   "metadata": {},
   "source": [
    "### Get Weight of a word"
   ]
  },
  {
   "cell_type": "code",
   "execution_count": 117,
   "id": "d0cb0bc6",
   "metadata": {},
   "outputs": [],
   "source": [
    "def get_weight(model, word):\n",
    "    try:\n",
    "        print(model.coef_[0][list(TfIdf_Vectorizer.get_feature_names_out()).index(word)])\n",
    "    except IndexError:\n",
    "        print(model.coef_.toarray()[0][list(TfIdf_Vectorizer.get_feature_names_out()).index(word)])\n",
    "    except ValueError:\n",
    "        pass"
   ]
  },
  {
   "cell_type": "code",
   "execution_count": 118,
   "id": "01fef0d3",
   "metadata": {},
   "outputs": [
    {
     "name": "stdout",
     "output_type": "stream",
     "text": [
      "-0.05571865204710517\n"
     ]
    }
   ],
   "source": [
    "get_weight(clf, \"interesting\")"
   ]
  },
  {
   "cell_type": "markdown",
   "id": "1aed50f8",
   "metadata": {},
   "source": [
    "## Using L2 Regularizations"
   ]
  },
  {
   "cell_type": "code",
   "execution_count": 122,
   "id": "2072dc89",
   "metadata": {},
   "outputs": [
    {
     "data": {
      "text/plain": [
       "0.9744966442953021"
      ]
     },
     "execution_count": 122,
     "metadata": {},
     "output_type": "execute_result"
    }
   ],
   "source": [
    "clf_l2 = LogisticRegression(penalty=\"l2\", C=50, random_state=42, max_iter=1000)\n",
    "\n",
    "np.average(cross_val_score(clf_l2, X, y, cv=10))"
   ]
  },
  {
   "cell_type": "code",
   "execution_count": 123,
   "id": "4f93ed32",
   "metadata": {},
   "outputs": [
    {
     "data": {
      "text/html": [
       "<style>#sk-container-id-5 {color: black;background-color: white;}#sk-container-id-5 pre{padding: 0;}#sk-container-id-5 div.sk-toggleable {background-color: white;}#sk-container-id-5 label.sk-toggleable__label {cursor: pointer;display: block;width: 100%;margin-bottom: 0;padding: 0.3em;box-sizing: border-box;text-align: center;}#sk-container-id-5 label.sk-toggleable__label-arrow:before {content: \"▸\";float: left;margin-right: 0.25em;color: #696969;}#sk-container-id-5 label.sk-toggleable__label-arrow:hover:before {color: black;}#sk-container-id-5 div.sk-estimator:hover label.sk-toggleable__label-arrow:before {color: black;}#sk-container-id-5 div.sk-toggleable__content {max-height: 0;max-width: 0;overflow: hidden;text-align: left;background-color: #f0f8ff;}#sk-container-id-5 div.sk-toggleable__content pre {margin: 0.2em;color: black;border-radius: 0.25em;background-color: #f0f8ff;}#sk-container-id-5 input.sk-toggleable__control:checked~div.sk-toggleable__content {max-height: 200px;max-width: 100%;overflow: auto;}#sk-container-id-5 input.sk-toggleable__control:checked~label.sk-toggleable__label-arrow:before {content: \"▾\";}#sk-container-id-5 div.sk-estimator input.sk-toggleable__control:checked~label.sk-toggleable__label {background-color: #d4ebff;}#sk-container-id-5 div.sk-label input.sk-toggleable__control:checked~label.sk-toggleable__label {background-color: #d4ebff;}#sk-container-id-5 input.sk-hidden--visually {border: 0;clip: rect(1px 1px 1px 1px);clip: rect(1px, 1px, 1px, 1px);height: 1px;margin: -1px;overflow: hidden;padding: 0;position: absolute;width: 1px;}#sk-container-id-5 div.sk-estimator {font-family: monospace;background-color: #f0f8ff;border: 1px dotted black;border-radius: 0.25em;box-sizing: border-box;margin-bottom: 0.5em;}#sk-container-id-5 div.sk-estimator:hover {background-color: #d4ebff;}#sk-container-id-5 div.sk-parallel-item::after {content: \"\";width: 100%;border-bottom: 1px solid gray;flex-grow: 1;}#sk-container-id-5 div.sk-label:hover label.sk-toggleable__label {background-color: #d4ebff;}#sk-container-id-5 div.sk-serial::before {content: \"\";position: absolute;border-left: 1px solid gray;box-sizing: border-box;top: 0;bottom: 0;left: 50%;z-index: 0;}#sk-container-id-5 div.sk-serial {display: flex;flex-direction: column;align-items: center;background-color: white;padding-right: 0.2em;padding-left: 0.2em;position: relative;}#sk-container-id-5 div.sk-item {position: relative;z-index: 1;}#sk-container-id-5 div.sk-parallel {display: flex;align-items: stretch;justify-content: center;background-color: white;position: relative;}#sk-container-id-5 div.sk-item::before, #sk-container-id-5 div.sk-parallel-item::before {content: \"\";position: absolute;border-left: 1px solid gray;box-sizing: border-box;top: 0;bottom: 0;left: 50%;z-index: -1;}#sk-container-id-5 div.sk-parallel-item {display: flex;flex-direction: column;z-index: 1;position: relative;background-color: white;}#sk-container-id-5 div.sk-parallel-item:first-child::after {align-self: flex-end;width: 50%;}#sk-container-id-5 div.sk-parallel-item:last-child::after {align-self: flex-start;width: 50%;}#sk-container-id-5 div.sk-parallel-item:only-child::after {width: 0;}#sk-container-id-5 div.sk-dashed-wrapped {border: 1px dashed gray;margin: 0 0.4em 0.5em 0.4em;box-sizing: border-box;padding-bottom: 0.4em;background-color: white;}#sk-container-id-5 div.sk-label label {font-family: monospace;font-weight: bold;display: inline-block;line-height: 1.2em;}#sk-container-id-5 div.sk-label-container {text-align: center;}#sk-container-id-5 div.sk-container {/* jupyter's `normalize.less` sets `[hidden] { display: none; }` but bootstrap.min.css set `[hidden] { display: none !important; }` so we also need the `!important` here to be able to override the default hidden behavior on the sphinx rendered scikit-learn.org. See: https://github.com/scikit-learn/scikit-learn/issues/21755 */display: inline-block !important;position: relative;}#sk-container-id-5 div.sk-text-repr-fallback {display: none;}</style><div id=\"sk-container-id-5\" class=\"sk-top-container\"><div class=\"sk-text-repr-fallback\"><pre>LogisticRegression(C=50, max_iter=1000, random_state=42)</pre><b>In a Jupyter environment, please rerun this cell to show the HTML representation or trust the notebook. <br />On GitHub, the HTML representation is unable to render, please try loading this page with nbviewer.org.</b></div><div class=\"sk-container\" hidden><div class=\"sk-item\"><div class=\"sk-estimator sk-toggleable\"><input class=\"sk-toggleable__control sk-hidden--visually\" id=\"sk-estimator-id-5\" type=\"checkbox\" checked><label for=\"sk-estimator-id-5\" class=\"sk-toggleable__label sk-toggleable__label-arrow\">LogisticRegression</label><div class=\"sk-toggleable__content\"><pre>LogisticRegression(C=50, max_iter=1000, random_state=42)</pre></div></div></div></div></div>"
      ],
      "text/plain": [
       "LogisticRegression(C=50, max_iter=1000, random_state=42)"
      ]
     },
     "execution_count": 123,
     "metadata": {},
     "output_type": "execute_result"
    }
   ],
   "source": [
    "clf_l2.fit(X_train, y_train)"
   ]
  },
  {
   "cell_type": "code",
   "execution_count": 124,
   "id": "5bff6000",
   "metadata": {},
   "outputs": [
    {
     "name": "stdout",
     "output_type": "stream",
     "text": [
      "               precision    recall  f1-score   support\n",
      "\n",
      "     business       0.98      0.97      0.98       107\n",
      "entertainment       0.98      0.99      0.98        95\n",
      "     politics       0.98      0.98      0.98        85\n",
      "        sport       0.98      0.99      0.99       110\n",
      "         tech       0.98      0.97      0.97        95\n",
      "\n",
      "     accuracy                           0.98       492\n",
      "    macro avg       0.98      0.98      0.98       492\n",
      " weighted avg       0.98      0.98      0.98       492\n",
      "\n"
     ]
    }
   ],
   "source": [
    "y_pred_l2 = clf_l2.predict(X_test)\n",
    "\n",
    "print(classification_report(y_test, y_pred_l2))"
   ]
  },
  {
   "cell_type": "code",
   "execution_count": 125,
   "id": "e76da464",
   "metadata": {},
   "outputs": [
    {
     "name": "stdout",
     "output_type": "stream",
     "text": [
      "[[104   0   2   0   1]\n",
      " [  1  94   0   0   0]\n",
      " [  0   0  83   1   1]\n",
      " [  1   0   0 109   0]\n",
      " [  0   2   0   1  92]]\n"
     ]
    },
    {
     "data": {
      "image/png": "[encoded data removed]",
      "text/plain": [
       "<Figure size 432x288 with 2 Axes>"
      ]
     },
     "metadata": {
      "needs_background": "light"
     },
     "output_type": "display_data"
    }
   ],
   "source": [
    "print(confusion_matrix(y_test, y_pred_l2))\n",
    "sns.heatmap(confusion_matrix(y_test, y_pred_l2))\n",
    "plt.show()"
   ]
  },
  {
   "cell_type": "code",
   "execution_count": 126,
   "id": "8b6135cc",
   "metadata": {},
   "outputs": [
    {
     "name": "stdout",
     "output_type": "stream",
     "text": [
      "['sport']\n"
     ]
    }
   ],
   "source": [
    "detect_emotion(clf_l2, \"hurrah! today i have cracked my interview. i feel very happy after that.\")"
   ]
  },
  {
   "cell_type": "code",
   "execution_count": 127,
   "id": "aabb0d40",
   "metadata": {},
   "outputs": [
    {
     "name": "stdout",
     "output_type": "stream",
     "text": [
      "['sport']\n"
     ]
    }
   ],
   "source": [
    "detect_emotion(clf, \"hurrah! today i have cracked my interview. i feel very happy after that.\")"
   ]
  },
  {
   "cell_type": "markdown",
   "id": "01eb10e6",
   "metadata": {},
   "source": [
    "Accuracy increase but Prediction not perfect."
   ]
  },
  {
   "cell_type": "markdown",
   "id": "af0a6d24",
   "metadata": {},
   "source": [
    "## Using L1 Regularizations"
   ]
  },
  {
   "cell_type": "code",
   "execution_count": 128,
   "id": "a47394e1",
   "metadata": {},
   "outputs": [
    {
     "data": {
      "text/plain": [
       "0.9583892617449663"
      ]
     },
     "execution_count": 128,
     "metadata": {},
     "output_type": "execute_result"
    }
   ],
   "source": [
    "clf_l1 = LogisticRegression(penalty=\"l1\", C=20, random_state=42, max_iter=1000, solver='liblinear')\n",
    "\n",
    "np.average(cross_val_score(clf_l1, X, y, cv=10))"
   ]
  },
  {
   "cell_type": "code",
   "execution_count": 129,
   "id": "a4c58d93",
   "metadata": {},
   "outputs": [
    {
     "data": {
      "text/html": [
       "<style>#sk-container-id-6 {color: black;background-color: white;}#sk-container-id-6 pre{padding: 0;}#sk-container-id-6 div.sk-toggleable {background-color: white;}#sk-container-id-6 label.sk-toggleable__label {cursor: pointer;display: block;width: 100%;margin-bottom: 0;padding: 0.3em;box-sizing: border-box;text-align: center;}#sk-container-id-6 label.sk-toggleable__label-arrow:before {content: \"▸\";float: left;margin-right: 0.25em;color: #696969;}#sk-container-id-6 label.sk-toggleable__label-arrow:hover:before {color: black;}#sk-container-id-6 div.sk-estimator:hover label.sk-toggleable__label-arrow:before {color: black;}#sk-container-id-6 div.sk-toggleable__content {max-height: 0;max-width: 0;overflow: hidden;text-align: left;background-color: #f0f8ff;}#sk-container-id-6 div.sk-toggleable__content pre {margin: 0.2em;color: black;border-radius: 0.25em;background-color: #f0f8ff;}#sk-container-id-6 input.sk-toggleable__control:checked~div.sk-toggleable__content {max-height: 200px;max-width: 100%;overflow: auto;}#sk-container-id-6 input.sk-toggleable__control:checked~label.sk-toggleable__label-arrow:before {content: \"▾\";}#sk-container-id-6 div.sk-estimator input.sk-toggleable__control:checked~label.sk-toggleable__label {background-color: #d4ebff;}#sk-container-id-6 div.sk-label input.sk-toggleable__control:checked~label.sk-toggleable__label {background-color: #d4ebff;}#sk-container-id-6 input.sk-hidden--visually {border: 0;clip: rect(1px 1px 1px 1px);clip: rect(1px, 1px, 1px, 1px);height: 1px;margin: -1px;overflow: hidden;padding: 0;position: absolute;width: 1px;}#sk-container-id-6 div.sk-estimator {font-family: monospace;background-color: #f0f8ff;border: 1px dotted black;border-radius: 0.25em;box-sizing: border-box;margin-bottom: 0.5em;}#sk-container-id-6 div.sk-estimator:hover {background-color: #d4ebff;}#sk-container-id-6 div.sk-parallel-item::after {content: \"\";width: 100%;border-bottom: 1px solid gray;flex-grow: 1;}#sk-container-id-6 div.sk-label:hover label.sk-toggleable__label {background-color: #d4ebff;}#sk-container-id-6 div.sk-serial::before {content: \"\";position: absolute;border-left: 1px solid gray;box-sizing: border-box;top: 0;bottom: 0;left: 50%;z-index: 0;}#sk-container-id-6 div.sk-serial {display: flex;flex-direction: column;align-items: center;background-color: white;padding-right: 0.2em;padding-left: 0.2em;position: relative;}#sk-container-id-6 div.sk-item {position: relative;z-index: 1;}#sk-container-id-6 div.sk-parallel {display: flex;align-items: stretch;justify-content: center;background-color: white;position: relative;}#sk-container-id-6 div.sk-item::before, #sk-container-id-6 div.sk-parallel-item::before {content: \"\";position: absolute;border-left: 1px solid gray;box-sizing: border-box;top: 0;bottom: 0;left: 50%;z-index: -1;}#sk-container-id-6 div.sk-parallel-item {display: flex;flex-direction: column;z-index: 1;position: relative;background-color: white;}#sk-container-id-6 div.sk-parallel-item:first-child::after {align-self: flex-end;width: 50%;}#sk-container-id-6 div.sk-parallel-item:last-child::after {align-self: flex-start;width: 50%;}#sk-container-id-6 div.sk-parallel-item:only-child::after {width: 0;}#sk-container-id-6 div.sk-dashed-wrapped {border: 1px dashed gray;margin: 0 0.4em 0.5em 0.4em;box-sizing: border-box;padding-bottom: 0.4em;background-color: white;}#sk-container-id-6 div.sk-label label {font-family: monospace;font-weight: bold;display: inline-block;line-height: 1.2em;}#sk-container-id-6 div.sk-label-container {text-align: center;}#sk-container-id-6 div.sk-container {/* jupyter's `normalize.less` sets `[hidden] { display: none; }` but bootstrap.min.css set `[hidden] { display: none !important; }` so we also need the `!important` here to be able to override the default hidden behavior on the sphinx rendered scikit-learn.org. See: https://github.com/scikit-learn/scikit-learn/issues/21755 */display: inline-block !important;position: relative;}#sk-container-id-6 div.sk-text-repr-fallback {display: none;}</style><div id=\"sk-container-id-6\" class=\"sk-top-container\"><div class=\"sk-text-repr-fallback\"><pre>LogisticRegression(C=20, max_iter=1000, penalty=&#x27;l1&#x27;, random_state=42,\n",
       "                   solver=&#x27;liblinear&#x27;)</pre><b>In a Jupyter environment, please rerun this cell to show the HTML representation or trust the notebook. <br />On GitHub, the HTML representation is unable to render, please try loading this page with nbviewer.org.</b></div><div class=\"sk-container\" hidden><div class=\"sk-item\"><div class=\"sk-estimator sk-toggleable\"><input class=\"sk-toggleable__control sk-hidden--visually\" id=\"sk-estimator-id-6\" type=\"checkbox\" checked><label for=\"sk-estimator-id-6\" class=\"sk-toggleable__label sk-toggleable__label-arrow\">LogisticRegression</label><div class=\"sk-toggleable__content\"><pre>LogisticRegression(C=20, max_iter=1000, penalty=&#x27;l1&#x27;, random_state=42,\n",
       "                   solver=&#x27;liblinear&#x27;)</pre></div></div></div></div></div>"
      ],
      "text/plain": [
       "LogisticRegression(C=20, max_iter=1000, penalty='l1', random_state=42,\n",
       "                   solver='liblinear')"
      ]
     },
     "execution_count": 129,
     "metadata": {},
     "output_type": "execute_result"
    }
   ],
   "source": [
    "clf_l1.fit(X_train, y_train)"
   ]
  },
  {
   "cell_type": "code",
   "execution_count": 130,
   "id": "c195311b",
   "metadata": {},
   "outputs": [
    {
     "name": "stdout",
     "output_type": "stream",
     "text": [
      "               precision    recall  f1-score   support\n",
      "\n",
      "     business       0.94      0.97      0.95       107\n",
      "entertainment       0.97      0.98      0.97        95\n",
      "     politics       0.97      0.98      0.97        85\n",
      "        sport       0.96      0.98      0.97       110\n",
      "         tech       1.00      0.92      0.96        95\n",
      "\n",
      "     accuracy                           0.97       492\n",
      "    macro avg       0.97      0.96      0.97       492\n",
      " weighted avg       0.97      0.97      0.97       492\n",
      "\n"
     ]
    }
   ],
   "source": [
    "y_pred_l1 = clf_l1.predict(X_test)\n",
    "print(classification_report(y_test, y_pred_l1))"
   ]
  },
  {
   "cell_type": "code",
   "execution_count": 131,
   "id": "5bf4b1ca",
   "metadata": {},
   "outputs": [
    {
     "name": "stdout",
     "output_type": "stream",
     "text": [
      "[[104   1   2   0   0]\n",
      " [  2  93   0   0   0]\n",
      " [  2   0  83   0   0]\n",
      " [  1   0   1 108   0]\n",
      " [  2   2   0   4  87]]\n"
     ]
    },
    {
     "data": {
      "image/png": "[encoded data removed]",
      "text/plain": [
       "<Figure size 432x288 with 2 Axes>"
      ]
     },
     "metadata": {
      "needs_background": "light"
     },
     "output_type": "display_data"
    }
   ],
   "source": [
    "print(confusion_matrix(y_test, y_pred_l1))\n",
    "sns.heatmap(confusion_matrix(y_test, y_pred_l1))\n",
    "plt.show()"
   ]
  },
  {
   "cell_type": "code",
   "execution_count": 132,
   "id": "b736c42c",
   "metadata": {},
   "outputs": [
    {
     "name": "stdout",
     "output_type": "stream",
     "text": [
      "['sport']\n"
     ]
    }
   ],
   "source": [
    "detect_emotion(clf_l1, \"hurrah! today i have cracked my interview. i feel very happy after that.\")"
   ]
  },
  {
   "cell_type": "code",
   "execution_count": 136,
   "id": "40652230",
   "metadata": {},
   "outputs": [
    {
     "name": "stdout",
     "output_type": "stream",
     "text": [
      "['tech']\n"
     ]
    }
   ],
   "source": [
    "detect_emotion(clf_l2, \"people call me only when they need\")"
   ]
  },
  {
   "cell_type": "markdown",
   "id": "f068643b",
   "metadata": {},
   "source": [
    "Accuracy increase but Prediction not perfect."
   ]
  },
  {
   "cell_type": "markdown",
   "id": "529e928f",
   "metadata": {},
   "source": [
    "# 2. Support Vector Machine"
   ]
  },
  {
   "cell_type": "markdown",
   "id": "be3a1c92",
   "metadata": {},
   "source": [
    "### 1. Linear Kernal\n",
    "\n",
    "Linear Kernel is used when the data is Linearly separable, that is, it can be separated using a single Line. It is mostly used when there are a Large number of Features in a particular Data Set. One of the examples where there are a lot of features, is Text Classification, as each alphabet is a new feature. So we mostly use Linear Kernel in Text Classification"
   ]
  },
  {
   "cell_type": "code",
   "execution_count": 137,
   "id": "07c282ac",
   "metadata": {},
   "outputs": [
    {
     "data": {
      "text/plain": [
       "0.9796747967479674"
      ]
     },
     "execution_count": 137,
     "metadata": {},
     "output_type": "execute_result"
    }
   ],
   "source": [
    "from sklearn import svm\n",
    "\n",
    "svc_linear = svm.SVC(kernel ='linear', C = 1)\n",
    "svc_linear.fit(X_train, y_train)\n",
    "\n",
    "y_pred = svc_linear.predict(X_test)\n",
    "\n",
    "accuracy_score(y_pred, y_test)"
   ]
  },
  {
   "cell_type": "code",
   "execution_count": 141,
   "id": "efe54c80",
   "metadata": {},
   "outputs": [
    {
     "name": "stdout",
     "output_type": "stream",
     "text": [
      "               precision    recall  f1-score   support\n",
      "\n",
      "     business       0.97      0.98      0.98       107\n",
      "entertainment       0.97      0.99      0.98        95\n",
      "     politics       0.98      0.98      0.98        85\n",
      "        sport       0.99      0.99      0.99       110\n",
      "         tech       0.99      0.96      0.97        95\n",
      "\n",
      "     accuracy                           0.98       492\n",
      "    macro avg       0.98      0.98      0.98       492\n",
      " weighted avg       0.98      0.98      0.98       492\n",
      "\n"
     ]
    }
   ],
   "source": [
    "print(classification_report(y_test, y_pred))"
   ]
  },
  {
   "cell_type": "code",
   "execution_count": 142,
   "id": "9e38404a",
   "metadata": {},
   "outputs": [
    {
     "name": "stdout",
     "output_type": "stream",
     "text": [
      "[[105   0   2   0   0]\n",
      " [  1  94   0   0   0]\n",
      " [  1   0  83   0   1]\n",
      " [  1   0   0 109   0]\n",
      " [  0   3   0   1  91]]\n"
     ]
    },
    {
     "data": {
      "image/png": "[encoded data removed]",
      "text/plain": [
       "<Figure size 432x288 with 2 Axes>"
      ]
     },
     "metadata": {
      "needs_background": "light"
     },
     "output_type": "display_data"
    }
   ],
   "source": [
    "print(confusion_matrix(y_test, y_pred))\n",
    "sns.heatmap(confusion_matrix(y_test, y_pred))\n",
    "plt.show()"
   ]
  },
  {
   "cell_type": "markdown",
   "id": "42102052",
   "metadata": {},
   "source": [
    "### 2. Polynomial Kernal"
   ]
  },
  {
   "cell_type": "code",
   "execution_count": 143,
   "id": "c790ffdf",
   "metadata": {},
   "outputs": [],
   "source": [
    "# from sklearn import svm\n",
    "\n",
    "# svc_poly = svm.SVC(kernel ='poly', C = 1)\n",
    "# svc_poly.fit(X_train, y_train)\n",
    "\n",
    "# y_pred = svc_poly.predict(X_test)\n",
    "\n",
    "# accuracy_score(y_pred, y_test)"
   ]
  },
  {
   "cell_type": "code",
   "execution_count": 144,
   "id": "6af249fc",
   "metadata": {},
   "outputs": [],
   "source": [
    "# detect_emotion(svc_poly, \"today i got very excited after geting this offer\")"
   ]
  },
  {
   "cell_type": "code",
   "execution_count": null,
   "id": "1cfc7148",
   "metadata": {},
   "outputs": [],
   "source": []
  },
  {
   "cell_type": "markdown",
   "id": "2459dbd0",
   "metadata": {},
   "source": [
    "# 3. Random Forest Classifier"
   ]
  },
  {
   "cell_type": "code",
   "execution_count": 145,
   "id": "61574685",
   "metadata": {},
   "outputs": [
    {
     "name": "stdout",
     "output_type": "stream",
     "text": [
      "Accuracy : 0.959349593495935\n"
     ]
    }
   ],
   "source": [
    "from sklearn.ensemble import RandomForestClassifier\n",
    "\n",
    "rfc1 = RandomForestClassifier(max_depth=10, random_state=18)\n",
    "\n",
    "rfc1.fit(X_train, y_train)\n",
    "y_predicted = rfc1.predict(X_test)\n",
    "print(\"Accuracy :\",accuracy_score(y_test, y_predicted))"
   ]
  },
  {
   "cell_type": "code",
   "execution_count": 146,
   "id": "62fd3977",
   "metadata": {},
   "outputs": [
    {
     "name": "stdout",
     "output_type": "stream",
     "text": [
      "Accuracy : 0.9634146341463414\n"
     ]
    }
   ],
   "source": [
    "rfc2 = RandomForestClassifier(max_depth=20, random_state=25)\n",
    "\n",
    "rfc2.fit(X_train, y_train)\n",
    "y_predicted = rfc2.predict(X_test)\n",
    "print(\"Accuracy :\",accuracy_score(y_test, y_predicted))"
   ]
  },
  {
   "cell_type": "code",
   "execution_count": 147,
   "id": "51b41a49",
   "metadata": {},
   "outputs": [
    {
     "name": "stdout",
     "output_type": "stream",
     "text": [
      "Accuracy : 0.9613821138211383\n"
     ]
    }
   ],
   "source": [
    "rfc3 = RandomForestClassifier(max_depth=50, random_state=38)\n",
    "\n",
    "rfc3.fit(X_train, y_train)\n",
    "y_predicted = rfc3.predict(X_test)\n",
    "print(\"Accuracy :\",accuracy_score(y_test, y_predicted))"
   ]
  },
  {
   "cell_type": "code",
   "execution_count": 148,
   "id": "d1f0d2ca",
   "metadata": {},
   "outputs": [
    {
     "name": "stdout",
     "output_type": "stream",
     "text": [
      "Accuracy : 0.967479674796748\n"
     ]
    }
   ],
   "source": [
    "rfc4 = RandomForestClassifier(max_depth=100, random_state=80)\n",
    "\n",
    "rfc4.fit(X_train, y_train)\n",
    "y_predicted = rfc4.predict(X_test)\n",
    "print(\"Accuracy :\",accuracy_score(y_test, y_predicted))"
   ]
  },
  {
   "cell_type": "code",
   "execution_count": 149,
   "id": "d98818be",
   "metadata": {},
   "outputs": [
    {
     "name": "stdout",
     "output_type": "stream",
     "text": [
      "Accuracy : 0.9634146341463414\n"
     ]
    }
   ],
   "source": [
    "rfc5 = RandomForestClassifier(max_depth=200, random_state=150)\n",
    "\n",
    "rfc5.fit(X_train, y_train)\n",
    "y_predicted = rfc5.predict(X_test)\n",
    "print(\"Accuracy :\",accuracy_score(y_test, y_predicted))"
   ]
  },
  {
   "cell_type": "code",
   "execution_count": 150,
   "id": "69d538e1",
   "metadata": {},
   "outputs": [
    {
     "name": "stdout",
     "output_type": "stream",
     "text": [
      "Accuracy : 0.9695121951219512\n"
     ]
    }
   ],
   "source": [
    "rfc6 = RandomForestClassifier(max_depth=300, random_state=280)\n",
    "\n",
    "rfc6.fit(X_train, y_train)\n",
    "y_predicted = rfc6.predict(X_test)\n",
    "print(\"Accuracy :\",accuracy_score(y_test, y_predicted))"
   ]
  },
  {
   "cell_type": "code",
   "execution_count": 151,
   "id": "10c7ce49",
   "metadata": {},
   "outputs": [
    {
     "name": "stdout",
     "output_type": "stream",
     "text": [
      "Accuracy : 0.9634146341463414\n"
     ]
    }
   ],
   "source": [
    "rfc7 = RandomForestClassifier(max_depth=400, random_state=320)\n",
    "\n",
    "rfc7.fit(X_train, y_train)\n",
    "y_predicted = rfc7.predict(X_test)\n",
    "print(\"Accuracy :\",accuracy_score(y_test, y_predicted))"
   ]
  },
  {
   "cell_type": "code",
   "execution_count": 152,
   "id": "b303ec1d",
   "metadata": {},
   "outputs": [
    {
     "name": "stdout",
     "output_type": "stream",
     "text": [
      "Accuracy : 0.9654471544715447\n"
     ]
    }
   ],
   "source": [
    "rfc8 = RandomForestClassifier(max_depth=800, random_state=500)\n",
    "\n",
    "rfc8.fit(X_train, y_train)\n",
    "y_predicted = rfc8.predict(X_test)\n",
    "print(\"Accuracy :\",accuracy_score(y_test, y_predicted))"
   ]
  },
  {
   "cell_type": "code",
   "execution_count": 153,
   "id": "044d19c8",
   "metadata": {},
   "outputs": [
    {
     "name": "stdout",
     "output_type": "stream",
     "text": [
      "Accuracy : 0.9613821138211383\n"
     ]
    }
   ],
   "source": [
    "rfc9 = RandomForestClassifier(max_depth=500, random_state=480)\n",
    "\n",
    "rfc9.fit(X_train, y_train)\n",
    "y_predicted = rfc9.predict(X_test)\n",
    "print(\"Accuracy :\",accuracy_score(y_test, y_predicted))"
   ]
  },
  {
   "cell_type": "code",
   "execution_count": 154,
   "id": "a9137512",
   "metadata": {},
   "outputs": [
    {
     "data": {
      "text/plain": [
       "0.9583892617449665"
      ]
     },
     "execution_count": 154,
     "metadata": {},
     "output_type": "execute_result"
    }
   ],
   "source": [
    "np.average(cross_val_score(rfc8, X, y, cv=10))"
   ]
  },
  {
   "cell_type": "code",
   "execution_count": 155,
   "id": "dcba3be6",
   "metadata": {},
   "outputs": [
    {
     "name": "stdout",
     "output_type": "stream",
     "text": [
      "['sport']\n"
     ]
    }
   ],
   "source": [
    "detect_emotion(rfc8, \"hurrah! today i have cracked my interview. i feel very happy after that.\")"
   ]
  },
  {
   "cell_type": "code",
   "execution_count": 156,
   "id": "49d52283",
   "metadata": {},
   "outputs": [
    {
     "name": "stdout",
     "output_type": "stream",
     "text": [
      "['business']\n"
     ]
    }
   ],
   "source": [
    "detect_emotion(rfc8, \"people call me only when they need\")"
   ]
  },
  {
   "cell_type": "code",
   "execution_count": null,
   "id": "4d4317bc",
   "metadata": {},
   "outputs": [],
   "source": []
  },
  {
   "cell_type": "markdown",
   "id": "224758ac",
   "metadata": {},
   "source": [
    "# 4. K Nearest Neighbors"
   ]
  },
  {
   "cell_type": "code",
   "execution_count": 157,
   "id": "05a10013",
   "metadata": {},
   "outputs": [
    {
     "name": "stdout",
     "output_type": "stream",
     "text": [
      "Accuracy : 0.9004065040650406\n",
      "               precision    recall  f1-score   support\n",
      "\n",
      "     business       0.84      0.92      0.88       107\n",
      "entertainment       0.92      0.92      0.92        95\n",
      "     politics       0.82      0.94      0.88        85\n",
      "        sport       0.99      0.88      0.93       110\n",
      "         tech       0.95      0.85      0.90        95\n",
      "\n",
      "     accuracy                           0.90       492\n",
      "    macro avg       0.90      0.90      0.90       492\n",
      " weighted avg       0.91      0.90      0.90       492\n",
      "\n",
      "[[98  1  6  1  1]\n",
      " [ 5 87  1  0  2]\n",
      " [ 4  0 80  0  1]\n",
      " [ 7  2  4 97  0]\n",
      " [ 3  5  6  0 81]]\n"
     ]
    },
    {
     "data": {
      "image/png": "[encoded data removed]",
      "text/plain": [
       "<Figure size 432x288 with 2 Axes>"
      ]
     },
     "metadata": {
      "needs_background": "light"
     },
     "output_type": "display_data"
    }
   ],
   "source": [
    "from sklearn.neighbors import KNeighborsClassifier\n",
    "\n",
    "neigh = KNeighborsClassifier(n_neighbors=2)\n",
    "neigh.fit(X_train, y_train)\n",
    "\n",
    "y_pred = neigh.predict(X_test)\n",
    "\n",
    "print(\"Accuracy :\",accuracy_score(y_test, y_pred))\n",
    "\n",
    "print(classification_report(y_test, y_pred))\n",
    "\n",
    "print(confusion_matrix(y_test, y_pred))\n",
    "sns.heatmap(confusion_matrix(y_test, y_pred))\n",
    "plt.show()"
   ]
  },
  {
   "cell_type": "markdown",
   "id": "4f6ec5f6",
   "metadata": {},
   "source": [
    "# 5. Naive Bayes\n",
    "\n",
    "\n",
    "1. Gaussian Naive Bayes\n",
    "2. Multinomial Naive Bayes\n",
    "3. Complement Naive Bayes\n",
    "4. Bernoulli Naive Bayes\n",
    "5. Categorical Naive Bayes\n",
    "6. Out-of-core naive Bayes model fitting\n"
   ]
  },
  {
   "cell_type": "markdown",
   "id": "1b31c391",
   "metadata": {},
   "source": [
    "### 1. Gaussian Naive Bayes"
   ]
  },
  {
   "cell_type": "code",
   "execution_count": 158,
   "id": "5a4b43ff",
   "metadata": {},
   "outputs": [
    {
     "name": "stdout",
     "output_type": "stream",
     "text": [
      "Accuracy : 0.9085365853658537\n",
      "               precision    recall  f1-score   support\n",
      "\n",
      "     business       0.87      0.84      0.86       107\n",
      "entertainment       0.89      0.97      0.93        95\n",
      "     politics       0.93      0.91      0.92        85\n",
      "        sport       0.96      0.93      0.94       110\n",
      "         tech       0.89      0.91      0.90        95\n",
      "\n",
      "     accuracy                           0.91       492\n",
      "    macro avg       0.91      0.91      0.91       492\n",
      " weighted avg       0.91      0.91      0.91       492\n",
      "\n",
      "[[ 90   4   4   3   6]\n",
      " [  1  92   0   0   2]\n",
      " [  4   2  77   0   2]\n",
      " [  5   1   1 102   1]\n",
      " [  3   4   1   1  86]]\n"
     ]
    },
    {
     "data": {
      "image/png": "[encoded data removed]",
      "text/plain": [
       "<Figure size 432x288 with 2 Axes>"
      ]
     },
     "metadata": {
      "needs_background": "light"
     },
     "output_type": "display_data"
    }
   ],
   "source": [
    "from sklearn.naive_bayes import GaussianNB\n",
    "\n",
    "gnb = GaussianNB()\n",
    "gnb.fit(X_train.toarray(), y_train)\n",
    "y_predicted = gnb.predict(X_test.toarray())\n",
    "print(\"Accuracy :\",accuracy_score(y_test, y_predicted))\n",
    "\n",
    "print(classification_report(y_test, y_predicted))\n",
    "\n",
    "print(confusion_matrix(y_test, y_predicted))\n",
    "sns.heatmap(confusion_matrix(y_test, y_predicted))\n",
    "plt.show()"
   ]
  },
  {
   "cell_type": "markdown",
   "id": "0a08b626",
   "metadata": {},
   "source": [
    "### 2. Multinomial Naive Bayes\n"
   ]
  },
  {
   "cell_type": "code",
   "execution_count": 159,
   "id": "83eee1c0",
   "metadata": {},
   "outputs": [
    {
     "name": "stdout",
     "output_type": "stream",
     "text": [
      "Accuracy : 0.9715447154471545\n",
      "               precision    recall  f1-score   support\n",
      "\n",
      "     business       0.96      0.98      0.97       107\n",
      "entertainment       0.99      0.97      0.98        95\n",
      "     politics       0.93      0.96      0.95        85\n",
      "        sport       0.97      0.99      0.98       110\n",
      "         tech       1.00      0.95      0.97        95\n",
      "\n",
      "     accuracy                           0.97       492\n",
      "    macro avg       0.97      0.97      0.97       492\n",
      " weighted avg       0.97      0.97      0.97       492\n",
      "\n",
      "[[105   0   2   0   0]\n",
      " [  1  92   2   0   0]\n",
      " [  2   0  82   1   0]\n",
      " [  1   0   0 109   0]\n",
      " [  0   1   2   2  90]]\n"
     ]
    },
    {
     "data": {
      "image/png": "[encoded data removed]",
      "text/plain": [
       "<Figure size 432x288 with 2 Axes>"
      ]
     },
     "metadata": {
      "needs_background": "light"
     },
     "output_type": "display_data"
    }
   ],
   "source": [
    "from sklearn.naive_bayes import MultinomialNB\n",
    "\n",
    "mnb = MultinomialNB()\n",
    "mnb.fit(X_train.toarray(), y_train)\n",
    "y_predicted = mnb.predict(X_test.toarray())\n",
    "print(\"Accuracy :\",accuracy_score(y_test, y_predicted))\n",
    "\n",
    "print(classification_report(y_test, y_predicted))\n",
    "\n",
    "print(confusion_matrix(y_test, y_predicted))\n",
    "sns.heatmap(confusion_matrix(y_test, y_predicted))\n",
    "plt.show()"
   ]
  },
  {
   "cell_type": "markdown",
   "id": "e821c34e",
   "metadata": {},
   "source": [
    "### 3. Complement Naive Bayes"
   ]
  },
  {
   "cell_type": "code",
   "execution_count": 13,
   "id": "6ce1fca0",
   "metadata": {},
   "outputs": [
    {
     "name": "stdout",
     "output_type": "stream",
     "text": [
      "Accuracy : 0.9796747967479674\n",
      "               precision    recall  f1-score   support\n",
      "\n",
      "     business       0.98      0.96      0.97       107\n",
      "entertainment       0.99      0.98      0.98        95\n",
      "     politics       0.95      0.99      0.97        85\n",
      "        sport       0.99      0.99      0.99       110\n",
      "         tech       0.98      0.98      0.98        95\n",
      "\n",
      "     accuracy                           0.98       492\n",
      "    macro avg       0.98      0.98      0.98       492\n",
      " weighted avg       0.98      0.98      0.98       492\n",
      "\n",
      "[[103   0   3   0   1]\n",
      " [  1  93   1   0   0]\n",
      " [  0   0  84   0   1]\n",
      " [  1   0   0 109   0]\n",
      " [  0   1   0   1  93]]\n"
     ]
    }
   ],
   "source": [
    "from sklearn.naive_bayes import ComplementNB\n",
    "\n",
    "cnb = ComplementNB()\n",
    "cnb.fit(X_train, y_train)\n",
    "y_predicted = cnb.predict(X_test.toarray())\n",
    "print(\"Accuracy :\",accuracy_score(y_test, y_predicted))\n",
    "\n",
    "print(classification_report(y_test, y_predicted))\n",
    "\n",
    "print(confusion_matrix(y_test, y_predicted))\n",
    "# sns.heatmap(confusion_matrix(y_test, y_predicted))\n",
    "# plt.show()"
   ]
  },
  {
   "cell_type": "markdown",
   "id": "6aaddb61",
   "metadata": {},
   "source": [
    "### 4. Bernoulli Naive Bayes"
   ]
  },
  {
   "cell_type": "code",
   "execution_count": 162,
   "id": "8e4f1647",
   "metadata": {},
   "outputs": [
    {
     "name": "stdout",
     "output_type": "stream",
     "text": [
      "Accuracy : 0.9390243902439024\n",
      "               precision    recall  f1-score   support\n",
      "\n",
      "     business       0.82      0.99      0.89       107\n",
      "entertainment       0.98      0.97      0.97        95\n",
      "     politics       0.97      0.87      0.92        85\n",
      "        sport       0.99      0.99      0.99       110\n",
      "         tech       0.99      0.85      0.92        95\n",
      "\n",
      "     accuracy                           0.94       492\n",
      "    macro avg       0.95      0.93      0.94       492\n",
      " weighted avg       0.95      0.94      0.94       492\n",
      "\n",
      "[[106   0   1   0   0]\n",
      " [  1  92   1   0   1]\n",
      " [ 11   0  74   0   0]\n",
      " [  1   0   0 109   0]\n",
      " [ 11   2   0   1  81]]\n"
     ]
    },
    {
     "data": {
      "image/png": "[encoded data removed]",
      "text/plain": [
       "<Figure size 432x288 with 2 Axes>"
      ]
     },
     "metadata": {
      "needs_background": "light"
     },
     "output_type": "display_data"
    }
   ],
   "source": [
    "from sklearn.naive_bayes import BernoulliNB\n",
    "\n",
    "bnb = BernoulliNB()\n",
    "bnb.fit(X_train, y_train)\n",
    "y_predicted = bnb.predict(X_test)\n",
    "print(\"Accuracy :\",accuracy_score(y_test, y_predicted))\n",
    "\n",
    "print(classification_report(y_test, y_predicted))\n",
    "\n",
    "print(confusion_matrix(y_test, y_predicted))\n",
    "sns.heatmap(confusion_matrix(y_test, y_predicted))\n",
    "plt.show()"
   ]
  },
  {
   "cell_type": "markdown",
   "id": "f4fabfe0",
   "metadata": {},
   "source": [
    "### 5. Categorical Naive Bayes\n"
   ]
  },
  {
   "cell_type": "code",
   "execution_count": 169,
   "id": "941d160a",
   "metadata": {},
   "outputs": [
    {
     "name": "stdout",
     "output_type": "stream",
     "text": [
      "Accuracy : 0.22357723577235772\n",
      "               precision    recall  f1-score   support\n",
      "\n",
      "     business       0.00      0.00      0.00       107\n",
      "entertainment       0.00      0.00      0.00        95\n",
      "     politics       0.00      0.00      0.00        85\n",
      "        sport       0.22      1.00      0.37       110\n",
      "         tech       0.00      0.00      0.00        95\n",
      "\n",
      "     accuracy                           0.22       492\n",
      "    macro avg       0.04      0.20      0.07       492\n",
      " weighted avg       0.05      0.22      0.08       492\n",
      "\n",
      "[[  0   0   0 107   0]\n",
      " [  0   0   0  95   0]\n",
      " [  0   0   0  85   0]\n",
      " [  0   0   0 110   0]\n",
      " [  0   0   0  95   0]]\n"
     ]
    },
    {
     "data": {
      "image/png": "[encoded data removed]",
      "text/plain": [
       "<Figure size 432x288 with 2 Axes>"
      ]
     },
     "metadata": {
      "needs_background": "light"
     },
     "output_type": "display_data"
    }
   ],
   "source": [
    "from sklearn.naive_bayes import CategoricalNB\n",
    "\n",
    "ctnb = CategoricalNB()\n",
    "ctnb.fit(X_train.toarray(), y_train)\n",
    "y_predicted = ctnb.predict(X_test.toarray())\n",
    "print(\"Accuracy :\",accuracy_score(y_test, y_predicted))\n",
    "\n",
    "print(classification_report(y_test, y_predicted))\n",
    "\n",
    "print(confusion_matrix(y_test, y_predicted))\n",
    "sns.heatmap(confusion_matrix(y_test, y_predicted))\n",
    "plt.show()"
   ]
  },
  {
   "cell_type": "code",
   "execution_count": null,
   "id": "1cb7afcc",
   "metadata": {},
   "outputs": [],
   "source": []
  },
  {
   "cell_type": "code",
   "execution_count": 166,
   "id": "9c07800b",
   "metadata": {},
   "outputs": [],
   "source": [
    "import warnings\n",
    "warnings.filterwarnings(\"ignore\")"
   ]
  },
  {
   "cell_type": "code",
   "execution_count": 20,
   "id": "80c32bbb",
   "metadata": {},
   "outputs": [],
   "source": [
    "import re\n",
    "from bs4 import BeautifulSoup\n",
    "import string\n",
    "from nltk.stem import WordNetLemmatizer\n",
    "\n",
    "def detect_mental_health(model, sentence):\n",
    "\n",
    "    # make smallercase\n",
    "    sentence = sentence.lower()\n",
    "        \n",
    "    # remove emails\n",
    "    sentence = re.sub(r\"([a-zA-Z0-9_.+-]+@[a-zA-Z0-9-]+\\.[a-zA-Z0-9-.]+$)\", '', sentence)\n",
    "\n",
    "    # remove mentions\n",
    "    sentence = re.sub(r\"@[A-Za-z0-9]+\",\"\", sentence)\n",
    "    \n",
    "    # Remove html\n",
    "    sentence = BeautifulSoup(sentence, 'lxml').get_text().strip()\n",
    "    \n",
    "    # Remove URL\n",
    "    sentence = re.sub(r'https?://\\S+|www\\.\\S+', '', sentence)\n",
    "        \n",
    "    # Removing punctutation, string.punctuation in python consists of !\"#$%&\\'()*+,-./:;<=>?@[\\\\]^_\n",
    "    sentence = sentence.translate(str.maketrans('', '', string.punctuation))\n",
    "    \n",
    "    # Remove non-alphabetic characters\n",
    "    sentence = re.sub(r'[^a-zA-Z ]', '', sentence)\n",
    "\n",
    "    # Spliting words into two meaningful word\n",
    "    sentence = ' '.join(wn.split(str(sentence)))\n",
    "\n",
    "    # Correct the sentence\n",
    "    sentence =  str(TextBlob(sentence).correct())\n",
    "    \n",
    "    # decontracted\n",
    "    \n",
    "    ## specific\n",
    "    sentence = re.sub(r\"wont\", \"will not\", sentence)\n",
    "    sentence = re.sub(r\"wouldnt\", \"would not\", sentence)\n",
    "    sentence = re.sub(r\"shouldnt\", \"should not\", sentence)\n",
    "    sentence = re.sub(r\"couldnt\", \"could not\", sentence)\n",
    "    sentence = re.sub(r\"cudnt\", \"could not\", sentence)\n",
    "    sentence = re.sub(r\"cant\", \"can not\", sentence)\n",
    "    sentence = re.sub(r\"dont\", \"do not\", sentence)\n",
    "    sentence = re.sub(r\"doesnt\", \"does not\", sentence)\n",
    "    sentence = re.sub(r\"didnt\", \"did not\", sentence)\n",
    "    sentence = re.sub(r\"wasnt\", \"was not\", sentence)\n",
    "    sentence = re.sub(r\"werent\", \"were not\", sentence)\n",
    "    sentence = re.sub(r\"havent\", \"have not\", sentence)\n",
    "    sentence = re.sub(r\"hadnt\", \"had not\", sentence)\n",
    "\n",
    "    ## general\n",
    "    sentence = re.sub(r\"n\\ t\", \" not\", sentence)\n",
    "    #sentence = re.sub(r\"\\re\", \" are\", sentence)\n",
    "    sentence = re.sub(r\"\\ s \", \" is \", sentence) \n",
    "    sentence = re.sub(r\"\\ d \", \" would \", sentence)\n",
    "    sentence = re.sub(r\"\\ ll \", \" will \", sentence)\n",
    "    sentence = re.sub(r\"\\dunno\", \"do not \", sentence)\n",
    "    sentence = re.sub(r\"ive \", \"i have \", sentence)\n",
    "    sentence = re.sub(r\"im \", \"i am \", sentence)\n",
    "    sentence = re.sub(r\"i m \", \"i am \", sentence)\n",
    "    sentence = re.sub(r\" w \", \" with \", sentence)\n",
    "\n",
    "\n",
    "    # Lemmatize\n",
    "    lm = WordNetLemmatizer()\n",
    "    snt = ' '.join([lm.lemmatize(i) for i in sentence.split()])\n",
    "    print(snt)\n",
    "    \n",
    "    return model.predict(TfIdf_Vectorizer.transform([snt]))[0]"
   ]
  },
  {
   "cell_type": "code",
   "execution_count": 21,
   "id": "f4bca531",
   "metadata": {},
   "outputs": [
    {
     "ename": "FeatureNotFound",
     "evalue": "Couldn't find a tree builder with the features you requested: lxml. Do you need to install a parser library?",
     "output_type": "error",
     "traceback": [
      "\u001b[0;31m---------------------------------------------------------------------------\u001b[0m",
      "\u001b[0;31mFeatureNotFound\u001b[0m                           Traceback (most recent call last)",
      "Input \u001b[0;32mIn [21]\u001b[0m, in \u001b[0;36m<cell line: 1>\u001b[0;34m()\u001b[0m\n\u001b[0;32m----> 1\u001b[0m \u001b[43mdetect_mental_health\u001b[49m\u001b[43m(\u001b[49m\u001b[43mcnb\u001b[49m\u001b[43m,\u001b[49m\u001b[43m \u001b[49m\u001b[38;5;124;43m\"\u001b[39;49m\u001b[38;5;124;43mhappybirthdayyy Helloworld World4646 http://hello.c ac@gmail.com\u001b[39;49m\u001b[38;5;124;43m\"\u001b[39;49m\u001b[43m)\u001b[49m\n",
      "Input \u001b[0;32mIn [20]\u001b[0m, in \u001b[0;36mdetect_mental_health\u001b[0;34m(model, sentence)\u001b[0m\n\u001b[1;32m     15\u001b[0m sentence \u001b[38;5;241m=\u001b[39m re\u001b[38;5;241m.\u001b[39msub(\u001b[38;5;124mr\u001b[39m\u001b[38;5;124m\"\u001b[39m\u001b[38;5;124m@[A-Za-z0-9]+\u001b[39m\u001b[38;5;124m\"\u001b[39m,\u001b[38;5;124m\"\u001b[39m\u001b[38;5;124m\"\u001b[39m, sentence)\n\u001b[1;32m     17\u001b[0m \u001b[38;5;66;03m# Remove html\u001b[39;00m\n\u001b[0;32m---> 18\u001b[0m sentence \u001b[38;5;241m=\u001b[39m \u001b[43mBeautifulSoup\u001b[49m\u001b[43m(\u001b[49m\u001b[43msentence\u001b[49m\u001b[43m,\u001b[49m\u001b[43m \u001b[49m\u001b[38;5;124;43m'\u001b[39;49m\u001b[38;5;124;43mlxml\u001b[39;49m\u001b[38;5;124;43m'\u001b[39;49m\u001b[43m)\u001b[49m\u001b[38;5;241m.\u001b[39mget_text()\u001b[38;5;241m.\u001b[39mstrip()\n\u001b[1;32m     20\u001b[0m \u001b[38;5;66;03m# Remove URL\u001b[39;00m\n\u001b[1;32m     21\u001b[0m sentence \u001b[38;5;241m=\u001b[39m re\u001b[38;5;241m.\u001b[39msub(\u001b[38;5;124mr\u001b[39m\u001b[38;5;124m'\u001b[39m\u001b[38;5;124mhttps?://\u001b[39m\u001b[38;5;124m\\\u001b[39m\u001b[38;5;124mS+|www\u001b[39m\u001b[38;5;124m\\\u001b[39m\u001b[38;5;124m.\u001b[39m\u001b[38;5;124m\\\u001b[39m\u001b[38;5;124mS+\u001b[39m\u001b[38;5;124m'\u001b[39m, \u001b[38;5;124m'\u001b[39m\u001b[38;5;124m'\u001b[39m, sentence)\n",
      "File \u001b[0;32m~/Desktop/News/package/venv/lib/python3.10/site-packages/bs4/__init__.py:248\u001b[0m, in \u001b[0;36mBeautifulSoup.__init__\u001b[0;34m(self, markup, features, builder, parse_only, from_encoding, exclude_encodings, element_classes, **kwargs)\u001b[0m\n\u001b[1;32m    246\u001b[0m     builder_class \u001b[38;5;241m=\u001b[39m builder_registry\u001b[38;5;241m.\u001b[39mlookup(\u001b[38;5;241m*\u001b[39mfeatures)\n\u001b[1;32m    247\u001b[0m     \u001b[38;5;28;01mif\u001b[39;00m builder_class \u001b[38;5;129;01mis\u001b[39;00m \u001b[38;5;28;01mNone\u001b[39;00m:\n\u001b[0;32m--> 248\u001b[0m         \u001b[38;5;28;01mraise\u001b[39;00m FeatureNotFound(\n\u001b[1;32m    249\u001b[0m             \u001b[38;5;124m\"\u001b[39m\u001b[38;5;124mCouldn\u001b[39m\u001b[38;5;124m'\u001b[39m\u001b[38;5;124mt find a tree builder with the features you \u001b[39m\u001b[38;5;124m\"\u001b[39m\n\u001b[1;32m    250\u001b[0m             \u001b[38;5;124m\"\u001b[39m\u001b[38;5;124mrequested: \u001b[39m\u001b[38;5;132;01m%s\u001b[39;00m\u001b[38;5;124m. Do you need to install a parser library?\u001b[39m\u001b[38;5;124m\"\u001b[39m\n\u001b[1;32m    251\u001b[0m             \u001b[38;5;241m%\u001b[39m \u001b[38;5;124m\"\u001b[39m\u001b[38;5;124m,\u001b[39m\u001b[38;5;124m\"\u001b[39m\u001b[38;5;241m.\u001b[39mjoin(features))\n\u001b[1;32m    253\u001b[0m \u001b[38;5;66;03m# At this point either we have a TreeBuilder instance in\u001b[39;00m\n\u001b[1;32m    254\u001b[0m \u001b[38;5;66;03m# builder, or we have a builder_class that we can instantiate\u001b[39;00m\n\u001b[1;32m    255\u001b[0m \u001b[38;5;66;03m# with the remaining **kwargs.\u001b[39;00m\n\u001b[1;32m    256\u001b[0m \u001b[38;5;28;01mif\u001b[39;00m builder \u001b[38;5;129;01mis\u001b[39;00m \u001b[38;5;28;01mNone\u001b[39;00m:\n",
      "\u001b[0;31mFeatureNotFound\u001b[0m: Couldn't find a tree builder with the features you requested: lxml. Do you need to install a parser library?"
     ]
    }
   ],
   "source": [
    "detect_mental_health(cnb, \"happybirthdayyy Helloworld World4646 http://hello.c ac@gmail.com\")"
   ]
  },
  {
   "cell_type": "markdown",
   "id": "c8419c71",
   "metadata": {},
   "source": [
    "## Save Model"
   ]
  },
  {
   "cell_type": "code",
   "execution_count": 15,
   "id": "6311714a",
   "metadata": {},
   "outputs": [],
   "source": [
    "import pickle as pk"
   ]
  },
  {
   "cell_type": "code",
   "execution_count": 16,
   "id": "58a8fede",
   "metadata": {},
   "outputs": [],
   "source": [
    "with open(\"cnb.pk\", \"wb\") as f:\n",
    "    pk.dump(cnb, f)"
   ]
  },
  {
   "cell_type": "code",
   "execution_count": 17,
   "id": "e0e2664d",
   "metadata": {},
   "outputs": [],
   "source": [
    "with open(\"cnb.pk\", \"rb\") as f:\n",
    "    Y = pk.load(f)"
   ]
  },
  {
   "cell_type": "code",
   "execution_count": 18,
   "id": "186efacd",
   "metadata": {},
   "outputs": [
    {
     "ename": "NameError",
     "evalue": "name 'detect_mental_health' is not defined",
     "output_type": "error",
     "traceback": [
      "\u001b[0;31m---------------------------------------------------------------------------\u001b[0m",
      "\u001b[0;31mNameError\u001b[0m                                 Traceback (most recent call last)",
      "Input \u001b[0;32mIn [18]\u001b[0m, in \u001b[0;36m<cell line: 1>\u001b[0;34m()\u001b[0m\n\u001b[0;32m----> 1\u001b[0m \u001b[43mdetect_mental_health\u001b[49m(Y, \u001b[38;5;124m\"\u001b[39m\u001b[38;5;124mhappybirthdayyy Helloworld World4646 http://hello.c ac@gmail.com\u001b[39m\u001b[38;5;124m\"\u001b[39m)\n",
      "\u001b[0;31mNameError\u001b[0m: name 'detect_mental_health' is not defined"
     ]
    }
   ],
   "source": [
    "detect_mental_health(Y, \"happybirthdayyy Helloworld World4646 http://hello.c ac@gmail.com\")"
   ]
  },
  {
   "cell_type": "code",
   "execution_count": 180,
   "id": "60141c94",
   "metadata": {},
   "outputs": [],
   "source": [
    "with open(\"TfIdf_Vectorizer.pk\", \"wb\") as f:\n",
    "    pk.dump(TfIdf_Vectorizer, f)"
   ]
  },
  {
   "cell_type": "code",
   "execution_count": 183,
   "id": "2965361b",
   "metadata": {},
   "outputs": [],
   "source": [
    "with open(\"TfIdf_Vectorizer.pk\", \"rb\") as f:\n",
    "    pk.load(f)"
   ]
  },
  {
   "cell_type": "code",
   "execution_count": null,
   "id": "4fe3a44a",
   "metadata": {},
   "outputs": [],
   "source": []
  }
 ],
 "metadata": {
  "kernelspec": {
   "display_name": "Python 3 (ipykernel)",
   "language": "python",
   "name": "python3"
  },
  "language_info": {
   "codemirror_mode": {
    "name": "ipython",
    "version": 3
   },
   "file_extension": ".py",
   "mimetype": "text/x-python",
   "name": "python",
   "nbconvert_exporter": "python",
   "pygments_lexer": "ipython3",
   "version": "3.9.12"
  }
 },
 "nbformat": 4,
 "nbformat_minor": 5
}

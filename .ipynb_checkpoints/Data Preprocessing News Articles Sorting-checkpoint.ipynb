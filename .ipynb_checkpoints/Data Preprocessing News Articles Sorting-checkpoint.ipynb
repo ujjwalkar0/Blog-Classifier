{
 "cells": [
  {
   "cell_type": "code",
   "execution_count": 1,
   "id": "861ebbfd",
   "metadata": {},
   "outputs": [],
   "source": [
    "# !pip install pandas"
   ]
  },
  {
   "cell_type": "code",
   "execution_count": 2,
   "id": "f1ae40d7",
   "metadata": {},
   "outputs": [],
   "source": [
    "import pandas as pd\n",
    "import numpy as np\n",
    "import matplotlib.pyplot as plt\n",
    "import seaborn as sns"
   ]
  },
  {
   "cell_type": "code",
   "execution_count": 3,
   "id": "7036f353",
   "metadata": {},
   "outputs": [],
   "source": [
    "from tqdm import tqdm\n",
    "tqdm.pandas()"
   ]
  },
  {
   "cell_type": "code",
   "execution_count": 4,
   "id": "533afdd5",
   "metadata": {},
   "outputs": [],
   "source": [
    "data = pd.read_csv(\"data.csv\")"
   ]
  },
  {
   "cell_type": "code",
   "execution_count": 5,
   "id": "7e7de8f2",
   "metadata": {},
   "outputs": [],
   "source": [
    "data.drop(columns=[\"ArticleId\"], inplace=True)"
   ]
  },
  {
   "cell_type": "code",
   "execution_count": 6,
   "id": "416c912d",
   "metadata": {},
   "outputs": [
    {
     "data": {
      "text/html": [
       "<div>\n",
       "<style scoped>\n",
       "    .dataframe tbody tr th:only-of-type {\n",
       "        vertical-align: middle;\n",
       "    }\n",
       "\n",
       "    .dataframe tbody tr th {\n",
       "        vertical-align: top;\n",
       "    }\n",
       "\n",
       "    .dataframe thead th {\n",
       "        text-align: right;\n",
       "    }\n",
       "</style>\n",
       "<table border=\"1\" class=\"dataframe\">\n",
       "  <thead>\n",
       "    <tr style=\"text-align: right;\">\n",
       "      <th></th>\n",
       "      <th>Text</th>\n",
       "      <th>Category</th>\n",
       "    </tr>\n",
       "  </thead>\n",
       "  <tbody>\n",
       "    <tr>\n",
       "      <th>0</th>\n",
       "      <td>worldcom ex-boss launches defence lawyers defe...</td>\n",
       "      <td>business</td>\n",
       "    </tr>\n",
       "    <tr>\n",
       "      <th>1</th>\n",
       "      <td>german business confidence slides german busin...</td>\n",
       "      <td>business</td>\n",
       "    </tr>\n",
       "    <tr>\n",
       "      <th>2</th>\n",
       "      <td>bbc poll indicates economic gloom citizens in ...</td>\n",
       "      <td>business</td>\n",
       "    </tr>\n",
       "    <tr>\n",
       "      <th>3</th>\n",
       "      <td>lifestyle  governs mobile choice  faster  bett...</td>\n",
       "      <td>tech</td>\n",
       "    </tr>\n",
       "    <tr>\n",
       "      <th>4</th>\n",
       "      <td>enron bosses in $168m payout eighteen former e...</td>\n",
       "      <td>business</td>\n",
       "    </tr>\n",
       "    <tr>\n",
       "      <th>...</th>\n",
       "      <td>...</td>\n",
       "      <td>...</td>\n",
       "    </tr>\n",
       "    <tr>\n",
       "      <th>1485</th>\n",
       "      <td>double eviction from big brother model caprice...</td>\n",
       "      <td>entertainment</td>\n",
       "    </tr>\n",
       "    <tr>\n",
       "      <th>1486</th>\n",
       "      <td>dj double act revamp chart show dj duo jk and ...</td>\n",
       "      <td>entertainment</td>\n",
       "    </tr>\n",
       "    <tr>\n",
       "      <th>1487</th>\n",
       "      <td>weak dollar hits reuters revenues at media gro...</td>\n",
       "      <td>business</td>\n",
       "    </tr>\n",
       "    <tr>\n",
       "      <th>1488</th>\n",
       "      <td>apple ipod family expands market apple has exp...</td>\n",
       "      <td>tech</td>\n",
       "    </tr>\n",
       "    <tr>\n",
       "      <th>1489</th>\n",
       "      <td>santy worm makes unwelcome visit thousands of ...</td>\n",
       "      <td>tech</td>\n",
       "    </tr>\n",
       "  </tbody>\n",
       "</table>\n",
       "<p>1490 rows × 2 columns</p>\n",
       "</div>"
      ],
      "text/plain": [
       "                                                   Text       Category\n",
       "0     worldcom ex-boss launches defence lawyers defe...       business\n",
       "1     german business confidence slides german busin...       business\n",
       "2     bbc poll indicates economic gloom citizens in ...       business\n",
       "3     lifestyle  governs mobile choice  faster  bett...           tech\n",
       "4     enron bosses in $168m payout eighteen former e...       business\n",
       "...                                                 ...            ...\n",
       "1485  double eviction from big brother model caprice...  entertainment\n",
       "1486  dj double act revamp chart show dj duo jk and ...  entertainment\n",
       "1487  weak dollar hits reuters revenues at media gro...       business\n",
       "1488  apple ipod family expands market apple has exp...           tech\n",
       "1489  santy worm makes unwelcome visit thousands of ...           tech\n",
       "\n",
       "[1490 rows x 2 columns]"
      ]
     },
     "execution_count": 6,
     "metadata": {},
     "output_type": "execute_result"
    }
   ],
   "source": [
    "data"
   ]
  },
  {
   "cell_type": "code",
   "execution_count": 7,
   "id": "1a755e69",
   "metadata": {},
   "outputs": [],
   "source": [
    "import re\n",
    "from bs4 import BeautifulSoup\n",
    "import string\n",
    "import wordninja as wn\n",
    "from nltk.stem import WordNetLemmatizer\n",
    "from textblob import TextBlob\n",
    "import string\n",
    "import nltk \n",
    "# nltk.download('stopwords') \n",
    "from nltk.corpus import stopwords\n",
    "allstopwords = stopwords.words('english')\n",
    "\n",
    "def preprocessing(sentence):\n",
    "    # make smallercase\n",
    "    sentence = sentence.lower()\n",
    "\n",
    "#     # remove emails\n",
    "#     sentence = re.sub(r\"([a-zA-Z0-9_.+-]+@[a-zA-Z0-9-]+\\.[a-zA-Z0-9-.]+$)\", '', sentence)\n",
    "\n",
    "#     # remove mentions\n",
    "#     sentence = re.sub(r\"@[A-Za-z0-9]+\",\"\", sentence)\n",
    "\n",
    "#     # Remove html\n",
    "#     sentence = BeautifulSoup(sentence, 'lxml').get_text().strip()\n",
    "\n",
    "#     # Remove URL\n",
    "#     sentence = re.sub(r'https?://\\S+|www\\.\\S+', '', sentence)\n",
    "\n",
    "    # Removing punctutation\n",
    "    sentence = sentence.translate(str.maketrans('', '', string.punctuation))\n",
    "\n",
    "    # Remove non-alphabetic characters\n",
    "    sentence = re.sub(r'[^a-zA-Z ]', '', sentence)\n",
    "\n",
    "#     # Spliting words into two meaningful word\n",
    "#     sentence = ' '.join(wn.split(str(sentence)))\n",
    "\n",
    "#     # Correct the sentence\n",
    "#     sentence =  str(TextBlob(sentence).correct())\n",
    "\n",
    "    # decontracted\n",
    "\n",
    "    ## specific\n",
    "    sentence = re.sub(r\"wont\", \"will not\", sentence)\n",
    "    sentence = re.sub(r\"wouldnt\", \"would not\", sentence)\n",
    "    sentence = re.sub(r\"shouldnt\", \"should not\", sentence)\n",
    "    sentence = re.sub(r\"couldnt\", \"could not\", sentence)\n",
    "    sentence = re.sub(r\"cudnt\", \"could not\", sentence)\n",
    "    sentence = re.sub(r\"cant\", \"can not\", sentence)\n",
    "    sentence = re.sub(r\"dont\", \"do not\", sentence)\n",
    "    sentence = re.sub(r\"doesnt\", \"does not\", sentence)\n",
    "    sentence = re.sub(r\"didnt\", \"did not\", sentence)\n",
    "    sentence = re.sub(r\"wasnt\", \"was not\", sentence)\n",
    "    sentence = re.sub(r\"werent\", \"were not\", sentence)\n",
    "    sentence = re.sub(r\"havent\", \"have not\", sentence)\n",
    "    sentence = re.sub(r\"hadnt\", \"had not\", sentence)\n",
    "\n",
    "    ## general\n",
    "    sentence = re.sub(r\"n\\ t\", \" not\", sentence)\n",
    "    #sentence = re.sub(r\"\\re\", \" are\", sentence)\n",
    "    sentence = re.sub(r\"\\ s \", \" is \", sentence) \n",
    "    sentence = re.sub(r\"\\ d \", \" would \", sentence)\n",
    "    sentence = re.sub(r\"\\ ll \", \" will \", sentence)\n",
    "    sentence = re.sub(r\"\\dunno\", \"do not \", sentence)\n",
    "    sentence = re.sub(r\"ive \", \"i have \", sentence)\n",
    "    sentence = re.sub(r\"im \", \"i am \", sentence)\n",
    "    sentence = re.sub(r\"i m \", \"i am \", sentence)\n",
    "    sentence = re.sub(r\" w \", \" with \", sentence)\n",
    "    \n",
    "    # Punctuation Removal\n",
    "    sentence = \"\".join(i for i in sentence if i not in string.punctuation)\n",
    "    \n",
    "    # Stop Word Removal\n",
    "    sentence = \" \".join(i for i in sentence.split() if i not in allstopwords)\n",
    "\n",
    "\n",
    "    # Lemmatize\n",
    "    lm = WordNetLemmatizer()\n",
    "    snt = [lm.lemmatize(i) for i in sentence.split()]\n",
    "    return snt"
   ]
  },
  {
   "cell_type": "code",
   "execution_count": null,
   "id": "de23055d",
   "metadata": {},
   "outputs": [],
   "source": []
  },
  {
   "cell_type": "code",
   "execution_count": 8,
   "id": "7927ad33",
   "metadata": {
    "scrolled": true
   },
   "outputs": [
    {
     "name": "stderr",
     "output_type": "stream",
     "text": [
      "100%|███████████████████████████████████████████████████████████████████████████████████| 1490/1490 [00:07<00:00, 193.11it/s]\n"
     ]
    }
   ],
   "source": [
    "data[\"Tokens\"] = data.Text.progress_apply(lambda x: preprocessing(x)) "
   ]
  },
  {
   "cell_type": "code",
   "execution_count": 9,
   "id": "f0684f10",
   "metadata": {
    "scrolled": true
   },
   "outputs": [
    {
     "data": {
      "text/html": [
       "<div>\n",
       "<style scoped>\n",
       "    .dataframe tbody tr th:only-of-type {\n",
       "        vertical-align: middle;\n",
       "    }\n",
       "\n",
       "    .dataframe tbody tr th {\n",
       "        vertical-align: top;\n",
       "    }\n",
       "\n",
       "    .dataframe thead th {\n",
       "        text-align: right;\n",
       "    }\n",
       "</style>\n",
       "<table border=\"1\" class=\"dataframe\">\n",
       "  <thead>\n",
       "    <tr style=\"text-align: right;\">\n",
       "      <th></th>\n",
       "      <th>Text</th>\n",
       "      <th>Category</th>\n",
       "      <th>Tokens</th>\n",
       "    </tr>\n",
       "  </thead>\n",
       "  <tbody>\n",
       "    <tr>\n",
       "      <th>0</th>\n",
       "      <td>worldcom ex-boss launches defence lawyers defe...</td>\n",
       "      <td>business</td>\n",
       "      <td>[worldcom, exboss, launch, defence, lawyer, de...</td>\n",
       "    </tr>\n",
       "    <tr>\n",
       "      <th>1</th>\n",
       "      <td>german business confidence slides german busin...</td>\n",
       "      <td>business</td>\n",
       "      <td>[german, business, confidence, slide, german, ...</td>\n",
       "    </tr>\n",
       "    <tr>\n",
       "      <th>2</th>\n",
       "      <td>bbc poll indicates economic gloom citizens in ...</td>\n",
       "      <td>business</td>\n",
       "      <td>[bbc, poll, indicates, economic, gloom, citize...</td>\n",
       "    </tr>\n",
       "    <tr>\n",
       "      <th>3</th>\n",
       "      <td>lifestyle  governs mobile choice  faster  bett...</td>\n",
       "      <td>tech</td>\n",
       "      <td>[lifestyle, governs, mobile, choice, faster, b...</td>\n",
       "    </tr>\n",
       "    <tr>\n",
       "      <th>4</th>\n",
       "      <td>enron bosses in $168m payout eighteen former e...</td>\n",
       "      <td>business</td>\n",
       "      <td>[enron, boss, payout, eighteen, former, enron,...</td>\n",
       "    </tr>\n",
       "    <tr>\n",
       "      <th>...</th>\n",
       "      <td>...</td>\n",
       "      <td>...</td>\n",
       "      <td>...</td>\n",
       "    </tr>\n",
       "    <tr>\n",
       "      <th>1485</th>\n",
       "      <td>double eviction from big brother model caprice...</td>\n",
       "      <td>entertainment</td>\n",
       "      <td>[double, eviction, big, brother, model, capric...</td>\n",
       "    </tr>\n",
       "    <tr>\n",
       "      <th>1486</th>\n",
       "      <td>dj double act revamp chart show dj duo jk and ...</td>\n",
       "      <td>entertainment</td>\n",
       "      <td>[dj, double, act, revamp, chart, show, dj, duo...</td>\n",
       "    </tr>\n",
       "    <tr>\n",
       "      <th>1487</th>\n",
       "      <td>weak dollar hits reuters revenues at media gro...</td>\n",
       "      <td>business</td>\n",
       "      <td>[weak, dollar, hit, reuters, revenue, medium, ...</td>\n",
       "    </tr>\n",
       "    <tr>\n",
       "      <th>1488</th>\n",
       "      <td>apple ipod family expands market apple has exp...</td>\n",
       "      <td>tech</td>\n",
       "      <td>[apple, ipod, family, expands, market, apple, ...</td>\n",
       "    </tr>\n",
       "    <tr>\n",
       "      <th>1489</th>\n",
       "      <td>santy worm makes unwelcome visit thousands of ...</td>\n",
       "      <td>tech</td>\n",
       "      <td>[santy, worm, make, unwelcome, visit, thousand...</td>\n",
       "    </tr>\n",
       "  </tbody>\n",
       "</table>\n",
       "<p>1490 rows × 3 columns</p>\n",
       "</div>"
      ],
      "text/plain": [
       "                                                   Text       Category  \\\n",
       "0     worldcom ex-boss launches defence lawyers defe...       business   \n",
       "1     german business confidence slides german busin...       business   \n",
       "2     bbc poll indicates economic gloom citizens in ...       business   \n",
       "3     lifestyle  governs mobile choice  faster  bett...           tech   \n",
       "4     enron bosses in $168m payout eighteen former e...       business   \n",
       "...                                                 ...            ...   \n",
       "1485  double eviction from big brother model caprice...  entertainment   \n",
       "1486  dj double act revamp chart show dj duo jk and ...  entertainment   \n",
       "1487  weak dollar hits reuters revenues at media gro...       business   \n",
       "1488  apple ipod family expands market apple has exp...           tech   \n",
       "1489  santy worm makes unwelcome visit thousands of ...           tech   \n",
       "\n",
       "                                                 Tokens  \n",
       "0     [worldcom, exboss, launch, defence, lawyer, de...  \n",
       "1     [german, business, confidence, slide, german, ...  \n",
       "2     [bbc, poll, indicates, economic, gloom, citize...  \n",
       "3     [lifestyle, governs, mobile, choice, faster, b...  \n",
       "4     [enron, boss, payout, eighteen, former, enron,...  \n",
       "...                                                 ...  \n",
       "1485  [double, eviction, big, brother, model, capric...  \n",
       "1486  [dj, double, act, revamp, chart, show, dj, duo...  \n",
       "1487  [weak, dollar, hit, reuters, revenue, medium, ...  \n",
       "1488  [apple, ipod, family, expands, market, apple, ...  \n",
       "1489  [santy, worm, make, unwelcome, visit, thousand...  \n",
       "\n",
       "[1490 rows x 3 columns]"
      ]
     },
     "execution_count": 9,
     "metadata": {},
     "output_type": "execute_result"
    }
   ],
   "source": [
    "data"
   ]
  },
  {
   "cell_type": "code",
   "execution_count": 10,
   "id": "ccba21fc",
   "metadata": {},
   "outputs": [],
   "source": [
    "# Data Visualization"
   ]
  },
  {
   "cell_type": "code",
   "execution_count": 11,
   "id": "e9b8860a",
   "metadata": {
    "scrolled": true
   },
   "outputs": [
    {
     "data": {
      "image/png": "[encoded data removed]",
      "text/plain": [
       "<Figure size 432x288 with 1 Axes>"
      ]
     },
     "metadata": {
      "needs_background": "light"
     },
     "output_type": "display_data"
    }
   ],
   "source": [
    "sns.countplot(data=data, x='Category')\n",
    "plt.show()"
   ]
  },
  {
   "cell_type": "code",
   "execution_count": 12,
   "id": "1f1d6fe6",
   "metadata": {},
   "outputs": [],
   "source": [
    "data.to_csv('news_article_sorting.csv', index=False)"
   ]
  },
  {
   "cell_type": "markdown",
   "id": "4412acfc",
   "metadata": {},
   "source": [
    "# TF-IDF"
   ]
  },
  {
   "cell_type": "code",
   "execution_count": 57,
   "id": "50e85f01",
   "metadata": {},
   "outputs": [
    {
     "data": {
      "text/html": [
       "<div>\n",
       "<style scoped>\n",
       "    .dataframe tbody tr th:only-of-type {\n",
       "        vertical-align: middle;\n",
       "    }\n",
       "\n",
       "    .dataframe tbody tr th {\n",
       "        vertical-align: top;\n",
       "    }\n",
       "\n",
       "    .dataframe thead th {\n",
       "        text-align: right;\n",
       "    }\n",
       "</style>\n",
       "<table border=\"1\" class=\"dataframe\">\n",
       "  <thead>\n",
       "    <tr style=\"text-align: right;\">\n",
       "      <th></th>\n",
       "      <th>aaa</th>\n",
       "      <th>aac</th>\n",
       "      <th>aaliyah</th>\n",
       "      <th>aamir</th>\n",
       "      <th>aaron</th>\n",
       "      <th>ab</th>\n",
       "      <th>aba</th>\n",
       "      <th>abacus</th>\n",
       "      <th>abandon</th>\n",
       "      <th>abandoned</th>\n",
       "      <th>...</th>\n",
       "      <th>zonealarm</th>\n",
       "      <th>zoom</th>\n",
       "      <th>zorro</th>\n",
       "      <th>zulu</th>\n",
       "      <th>zur</th>\n",
       "      <th>zurich</th>\n",
       "      <th>zutons</th>\n",
       "      <th>zvonareva</th>\n",
       "      <th>zyk</th>\n",
       "      <th>zz</th>\n",
       "    </tr>\n",
       "  </thead>\n",
       "  <tbody>\n",
       "    <tr>\n",
       "      <th>0</th>\n",
       "      <td>0.0</td>\n",
       "      <td>0.0</td>\n",
       "      <td>0.0</td>\n",
       "      <td>0.0</td>\n",
       "      <td>0.0</td>\n",
       "      <td>0.0</td>\n",
       "      <td>0.0</td>\n",
       "      <td>0.0</td>\n",
       "      <td>0.0</td>\n",
       "      <td>0.0</td>\n",
       "      <td>...</td>\n",
       "      <td>0.0</td>\n",
       "      <td>0.0</td>\n",
       "      <td>0.0</td>\n",
       "      <td>0.0</td>\n",
       "      <td>0.0</td>\n",
       "      <td>0.0</td>\n",
       "      <td>0.0</td>\n",
       "      <td>0.0</td>\n",
       "      <td>0.0</td>\n",
       "      <td>0.0</td>\n",
       "    </tr>\n",
       "    <tr>\n",
       "      <th>1</th>\n",
       "      <td>0.0</td>\n",
       "      <td>0.0</td>\n",
       "      <td>0.0</td>\n",
       "      <td>0.0</td>\n",
       "      <td>0.0</td>\n",
       "      <td>0.0</td>\n",
       "      <td>0.0</td>\n",
       "      <td>0.0</td>\n",
       "      <td>0.0</td>\n",
       "      <td>0.0</td>\n",
       "      <td>...</td>\n",
       "      <td>0.0</td>\n",
       "      <td>0.0</td>\n",
       "      <td>0.0</td>\n",
       "      <td>0.0</td>\n",
       "      <td>0.0</td>\n",
       "      <td>0.0</td>\n",
       "      <td>0.0</td>\n",
       "      <td>0.0</td>\n",
       "      <td>0.0</td>\n",
       "      <td>0.0</td>\n",
       "    </tr>\n",
       "    <tr>\n",
       "      <th>2</th>\n",
       "      <td>0.0</td>\n",
       "      <td>0.0</td>\n",
       "      <td>0.0</td>\n",
       "      <td>0.0</td>\n",
       "      <td>0.0</td>\n",
       "      <td>0.0</td>\n",
       "      <td>0.0</td>\n",
       "      <td>0.0</td>\n",
       "      <td>0.0</td>\n",
       "      <td>0.0</td>\n",
       "      <td>...</td>\n",
       "      <td>0.0</td>\n",
       "      <td>0.0</td>\n",
       "      <td>0.0</td>\n",
       "      <td>0.0</td>\n",
       "      <td>0.0</td>\n",
       "      <td>0.0</td>\n",
       "      <td>0.0</td>\n",
       "      <td>0.0</td>\n",
       "      <td>0.0</td>\n",
       "      <td>0.0</td>\n",
       "    </tr>\n",
       "  </tbody>\n",
       "</table>\n",
       "<p>3 rows × 20400 columns</p>\n",
       "</div>"
      ],
      "text/plain": [
       "   aaa  aac  aaliyah  aamir  aaron   ab  aba  abacus  abandon  abandoned  ...  \\\n",
       "0  0.0  0.0      0.0    0.0    0.0  0.0  0.0     0.0      0.0        0.0  ...   \n",
       "1  0.0  0.0      0.0    0.0    0.0  0.0  0.0     0.0      0.0        0.0  ...   \n",
       "2  0.0  0.0      0.0    0.0    0.0  0.0  0.0     0.0      0.0        0.0  ...   \n",
       "\n",
       "   zonealarm  zoom  zorro  zulu  zur  zurich  zutons  zvonareva  zyk   zz  \n",
       "0        0.0   0.0    0.0   0.0  0.0     0.0     0.0        0.0  0.0  0.0  \n",
       "1        0.0   0.0    0.0   0.0  0.0     0.0     0.0        0.0  0.0  0.0  \n",
       "2        0.0   0.0    0.0   0.0  0.0     0.0     0.0        0.0  0.0  0.0  \n",
       "\n",
       "[3 rows x 20400 columns]"
      ]
     },
     "execution_count": 57,
     "metadata": {},
     "output_type": "execute_result"
    }
   ],
   "source": [
    "from sklearn.feature_extraction.text import TfidfVectorizer\n",
    "from nltk.tokenize import RegexpTokenizer\n",
    "\n",
    "token = RegexpTokenizer(r'[a-zA-Z0-9]+')\n",
    "\n",
    "Tfidf_Vectorizer = TfidfVectorizer()\n",
    "\n",
    "X = Tfidf_Vectorizer.fit_transform(data.Text)\n",
    "\n",
    "X_array = X_TFIDF.toarray()\n",
    "\n",
    "pd.DataFrame(data=X_array, columns = Tfidf_Vectorizer.get_feature_names_out()).head(3)"
   ]
  },
  {
   "cell_type": "markdown",
   "id": "0c05070c",
   "metadata": {},
   "source": [
    "## Train Test Split"
   ]
  },
  {
   "cell_type": "code",
   "execution_count": 58,
   "id": "7d51d257",
   "metadata": {},
   "outputs": [],
   "source": [
    "from sklearn.model_selection import train_test_split\n",
    "from sklearn.model_selection import cross_val_score\n",
    "from sklearn.metrics import classification_report, confusion_matrix, accuracy_score"
   ]
  },
  {
   "cell_type": "code",
   "execution_count": 61,
   "id": "c4bc9169",
   "metadata": {},
   "outputs": [],
   "source": [
    "X_train, X_test, y_train, y_test = train_test_split(X,y, test_size=.33, random_state=40)"
   ]
  },
  {
   "cell_type": "code",
   "execution_count": 63,
   "id": "32510f77",
   "metadata": {},
   "outputs": [
    {
     "data": {
      "text/plain": [
       "(998, 20400)"
      ]
     },
     "execution_count": 63,
     "metadata": {},
     "output_type": "execute_result"
    }
   ],
   "source": [
    "X_train.shape"
   ]
  },
  {
   "cell_type": "code",
   "execution_count": 64,
   "id": "fae124ba",
   "metadata": {},
   "outputs": [
    {
     "data": {
      "text/plain": [
       "(492, 20400)"
      ]
     },
     "execution_count": 64,
     "metadata": {},
     "output_type": "execute_result"
    }
   ],
   "source": [
    "X_test.shape"
   ]
  },
  {
   "cell_type": "markdown",
   "id": "d78b6e49",
   "metadata": {},
   "source": [
    "## Model Building"
   ]
  },
  {
   "cell_type": "code",
   "execution_count": 65,
   "id": "c826fb95",
   "metadata": {},
   "outputs": [
    {
     "data": {
      "text/plain": [
       "0.9677852348993289"
      ]
     },
     "execution_count": 65,
     "metadata": {},
     "output_type": "execute_result"
    }
   ],
   "source": [
    "from sklearn.linear_model import LogisticRegression\n",
    "\n",
    "# Check Cross Validation Score\n",
    "\n",
    "clf = LogisticRegression(random_state=42, max_iter=1000)\n",
    "np.average(cross_val_score(clf, X, y, cv=10))"
   ]
  },
  {
   "cell_type": "code",
   "execution_count": 66,
   "id": "b2d67544",
   "metadata": {},
   "outputs": [
    {
     "data": {
      "text/plain": [
       "0.9724832214765101"
      ]
     },
     "execution_count": 66,
     "metadata": {},
     "output_type": "execute_result"
    }
   ],
   "source": [
    "clf_l2 = LogisticRegression(penalty=\"l2\", C=50, random_state=42, max_iter=1000)\n",
    "\n",
    "np.average(cross_val_score(clf_l2, X, y, cv=10))"
   ]
  },
  {
   "cell_type": "code",
   "execution_count": 67,
   "id": "1270645d",
   "metadata": {},
   "outputs": [
    {
     "data": {
      "text/plain": [
       "0.9731543624161075"
      ]
     },
     "execution_count": 67,
     "metadata": {},
     "output_type": "execute_result"
    }
   ],
   "source": [
    "clf_l2 = LogisticRegression(penalty=\"l2\", C=20, random_state=42, max_iter=1000)\n",
    "\n",
    "np.average(cross_val_score(clf_l2, X, y, cv=10))"
   ]
  },
  {
   "cell_type": "code",
   "execution_count": 68,
   "id": "5044cd25",
   "metadata": {},
   "outputs": [
    {
     "data": {
      "text/plain": [
       "0.9731543624161075"
      ]
     },
     "execution_count": 68,
     "metadata": {},
     "output_type": "execute_result"
    }
   ],
   "source": [
    "clf_l2 = LogisticRegression(penalty=\"l2\", C=10, random_state=42, max_iter=1000)\n",
    "\n",
    "np.average(cross_val_score(clf_l2, X, y, cv=10))"
   ]
  },
  {
   "cell_type": "code",
   "execution_count": 69,
   "id": "eca08d8f",
   "metadata": {},
   "outputs": [
    {
     "data": {
      "text/plain": [
       "0.9724832214765101"
      ]
     },
     "execution_count": 69,
     "metadata": {},
     "output_type": "execute_result"
    }
   ],
   "source": [
    "clf_l2 = LogisticRegression(penalty=\"l2\", C=100, random_state=42, max_iter=1000)\n",
    "\n",
    "np.average(cross_val_score(clf_l2, X, y, cv=10))"
   ]
  },
  {
   "cell_type": "code",
   "execution_count": 70,
   "id": "d205c366",
   "metadata": {},
   "outputs": [
    {
     "data": {
      "text/plain": [
       "0.9583892617449663"
      ]
     },
     "execution_count": 70,
     "metadata": {},
     "output_type": "execute_result"
    }
   ],
   "source": [
    "clf_l1 = LogisticRegression(penalty=\"l1\", C=20, random_state=42, max_iter=1000, solver='liblinear')\n",
    "\n",
    "np.average(cross_val_score(clf_l1, X, y, cv=10))"
   ]
  },
  {
   "cell_type": "code",
   "execution_count": 71,
   "id": "612d8efe",
   "metadata": {},
   "outputs": [
    {
     "data": {
      "text/plain": [
       "0.9610738255033556"
      ]
     },
     "execution_count": 71,
     "metadata": {},
     "output_type": "execute_result"
    }
   ],
   "source": [
    "clf_l1 = LogisticRegression(penalty=\"l1\", C=50, random_state=42, max_iter=1000, solver='liblinear')\n",
    "\n",
    "np.average(cross_val_score(clf_l1, X, y, cv=10))"
   ]
  },
  {
   "cell_type": "code",
   "execution_count": 72,
   "id": "f21a7e86",
   "metadata": {},
   "outputs": [
    {
     "data": {
      "text/plain": [
       "0.959731543624161"
      ]
     },
     "execution_count": 72,
     "metadata": {},
     "output_type": "execute_result"
    }
   ],
   "source": [
    "clf_l1 = LogisticRegression(penalty=\"l1\", C=35, random_state=42, max_iter=1000, solver='liblinear')\n",
    "\n",
    "np.average(cross_val_score(clf_l1, X, y, cv=10))"
   ]
  },
  {
   "cell_type": "code",
   "execution_count": 73,
   "id": "7bd8738b",
   "metadata": {},
   "outputs": [
    {
     "data": {
      "text/plain": [
       "0.9604026845637582"
      ]
     },
     "execution_count": 73,
     "metadata": {},
     "output_type": "execute_result"
    }
   ],
   "source": [
    "clf_l1 = LogisticRegression(penalty=\"l1\", C=40, random_state=42, max_iter=1000, solver='liblinear')\n",
    "\n",
    "np.average(cross_val_score(clf_l1, X, y, cv=10))"
   ]
  },
  {
   "cell_type": "code",
   "execution_count": null,
   "id": "d1490378",
   "metadata": {},
   "outputs": [],
   "source": []
  },
  {
   "cell_type": "markdown",
   "id": "718f031b",
   "metadata": {},
   "source": [
    "# 2. Random Forest Classifier"
   ]
  },
  {
   "cell_type": "code",
   "execution_count": 74,
   "id": "ef29ced1",
   "metadata": {},
   "outputs": [
    {
     "name": "stdout",
     "output_type": "stream",
     "text": [
      "Accuracy : 0.943089430894309\n"
     ]
    }
   ],
   "source": [
    "from sklearn.ensemble import RandomForestClassifier\n",
    "\n",
    "rfc1 = RandomForestClassifier(max_depth=10, random_state=18)\n",
    "\n",
    "rfc1.fit(X_train, y_train)\n",
    "y_predicted = rfc1.predict(X_test)\n",
    "print(\"Accuracy :\",accuracy_score(y_test, y_predicted))"
   ]
  },
  {
   "cell_type": "code",
   "execution_count": 75,
   "id": "344855ee",
   "metadata": {},
   "outputs": [
    {
     "name": "stdout",
     "output_type": "stream",
     "text": [
      "Accuracy : 0.9715447154471545\n"
     ]
    }
   ],
   "source": [
    "rfc2 = RandomForestClassifier(max_depth=20, random_state=25)\n",
    "\n",
    "rfc2.fit(X_train, y_train)\n",
    "y_predicted = rfc2.predict(X_test)\n",
    "print(\"Accuracy :\",accuracy_score(y_test, y_predicted))"
   ]
  },
  {
   "cell_type": "code",
   "execution_count": 76,
   "id": "01e61e00",
   "metadata": {},
   "outputs": [
    {
     "name": "stdout",
     "output_type": "stream",
     "text": [
      "Accuracy : 0.9735772357723578\n"
     ]
    }
   ],
   "source": [
    "rfc3 = RandomForestClassifier(max_depth=50, random_state=38)\n",
    "\n",
    "rfc3.fit(X_train, y_train)\n",
    "y_predicted = rfc3.predict(X_test)\n",
    "print(\"Accuracy :\",accuracy_score(y_test, y_predicted))"
   ]
  },
  {
   "cell_type": "code",
   "execution_count": 77,
   "id": "bbf53aed",
   "metadata": {},
   "outputs": [
    {
     "name": "stdout",
     "output_type": "stream",
     "text": [
      "Accuracy : 0.9695121951219512\n"
     ]
    }
   ],
   "source": [
    "rfc4 = RandomForestClassifier(max_depth=100, random_state=80)\n",
    "\n",
    "rfc4.fit(X_train, y_train)\n",
    "y_predicted = rfc4.predict(X_test)\n",
    "print(\"Accuracy :\",accuracy_score(y_test, y_predicted))"
   ]
  },
  {
   "cell_type": "code",
   "execution_count": 78,
   "id": "06c9e1d3",
   "metadata": {},
   "outputs": [
    {
     "name": "stdout",
     "output_type": "stream",
     "text": [
      "Accuracy : 0.9654471544715447\n"
     ]
    }
   ],
   "source": [
    "rfc5 = RandomForestClassifier(max_depth=200, random_state=150)\n",
    "\n",
    "rfc5.fit(X_train, y_train)\n",
    "y_predicted = rfc5.predict(X_test)\n",
    "print(\"Accuracy :\",accuracy_score(y_test, y_predicted))"
   ]
  },
  {
   "cell_type": "code",
   "execution_count": 79,
   "id": "4063e69f",
   "metadata": {},
   "outputs": [
    {
     "name": "stdout",
     "output_type": "stream",
     "text": [
      "Accuracy : 0.967479674796748\n"
     ]
    }
   ],
   "source": [
    "rfc6 = RandomForestClassifier(max_depth=300, random_state=280)\n",
    "\n",
    "rfc6.fit(X_train, y_train)\n",
    "y_predicted = rfc6.predict(X_test)\n",
    "print(\"Accuracy :\",accuracy_score(y_test, y_predicted))"
   ]
  },
  {
   "cell_type": "code",
   "execution_count": 80,
   "id": "7a218d01",
   "metadata": {},
   "outputs": [
    {
     "name": "stdout",
     "output_type": "stream",
     "text": [
      "Accuracy : 0.9573170731707317\n"
     ]
    }
   ],
   "source": [
    "rfc7 = RandomForestClassifier(max_depth=400, random_state=320)\n",
    "\n",
    "rfc7.fit(X_train, y_train)\n",
    "y_predicted = rfc7.predict(X_test)\n",
    "print(\"Accuracy :\",accuracy_score(y_test, y_predicted))"
   ]
  },
  {
   "cell_type": "code",
   "execution_count": 81,
   "id": "fc887f4c",
   "metadata": {},
   "outputs": [
    {
     "name": "stdout",
     "output_type": "stream",
     "text": [
      "Accuracy : 0.967479674796748\n"
     ]
    }
   ],
   "source": [
    "rfc8 = RandomForestClassifier(max_depth=800, random_state=500)\n",
    "\n",
    "rfc8.fit(X_train, y_train)\n",
    "y_predicted = rfc8.predict(X_test)\n",
    "print(\"Accuracy :\",accuracy_score(y_test, y_predicted))"
   ]
  },
  {
   "cell_type": "code",
   "execution_count": 82,
   "id": "9444312d",
   "metadata": {},
   "outputs": [
    {
     "name": "stdout",
     "output_type": "stream",
     "text": [
      "Accuracy : 0.9654471544715447\n"
     ]
    }
   ],
   "source": [
    "rfc9 = RandomForestClassifier(max_depth=500, random_state=480)\n",
    "\n",
    "rfc9.fit(X_train, y_train)\n",
    "y_predicted = rfc9.predict(X_test)\n",
    "print(\"Accuracy :\",accuracy_score(y_test, y_predicted))"
   ]
  },
  {
   "cell_type": "code",
   "execution_count": null,
   "id": "51b2fb09",
   "metadata": {},
   "outputs": [],
   "source": []
  }
 ],
 "metadata": {
  "kernelspec": {
   "display_name": "Python 3 (ipykernel)",
   "language": "python",
   "name": "python3"
  },
  "language_info": {
   "codemirror_mode": {
    "name": "ipython",
    "version": 3
   },
   "file_extension": ".py",
   "mimetype": "text/x-python",
   "name": "python",
   "nbconvert_exporter": "python",
   "pygments_lexer": "ipython3",
   "version": "3.9.12"
  }
 },
 "nbformat": 4,
 "nbformat_minor": 5
}

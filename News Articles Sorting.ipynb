{
 "cells": [
  {
   "cell_type": "code",
   "execution_count": 9,
   "id": "849312bf",
   "metadata": {},
   "outputs": [],
   "source": [
    "import pandas as pd\n",
    "import numpy as np\n",
    "import seaborn as sns\n",
    "import matplotlib.pyplot as plt"
   ]
  },
  {
   "cell_type": "code",
   "execution_count": 17,
   "id": "96c6f9ec",
   "metadata": {},
   "outputs": [],
   "source": [
    "from tqdm import tqdm\n",
    "tqdm.pandas()"
   ]
  },
  {
   "cell_type": "code",
   "execution_count": 18,
   "id": "6ac91e21",
   "metadata": {},
   "outputs": [],
   "source": [
    "data = pd.read_csv(\"data.csv\")"
   ]
  },
  {
   "cell_type": "code",
   "execution_count": 19,
   "id": "125b5d39",
   "metadata": {},
   "outputs": [],
   "source": [
    "data.drop(columns=[\"ArticleId\"], inplace=True)"
   ]
  },
  {
   "cell_type": "code",
   "execution_count": 20,
   "id": "149fa9df",
   "metadata": {},
   "outputs": [
    {
     "data": {
      "text/html": [
       "<div>\n",
       "<style scoped>\n",
       "    .dataframe tbody tr th:only-of-type {\n",
       "        vertical-align: middle;\n",
       "    }\n",
       "\n",
       "    .dataframe tbody tr th {\n",
       "        vertical-align: top;\n",
       "    }\n",
       "\n",
       "    .dataframe thead th {\n",
       "        text-align: right;\n",
       "    }\n",
       "</style>\n",
       "<table border=\"1\" class=\"dataframe\">\n",
       "  <thead>\n",
       "    <tr style=\"text-align: right;\">\n",
       "      <th></th>\n",
       "      <th>Text</th>\n",
       "      <th>Category</th>\n",
       "    </tr>\n",
       "  </thead>\n",
       "  <tbody>\n",
       "    <tr>\n",
       "      <th>0</th>\n",
       "      <td>worldcom ex-boss launches defence lawyers defe...</td>\n",
       "      <td>business</td>\n",
       "    </tr>\n",
       "    <tr>\n",
       "      <th>1</th>\n",
       "      <td>german business confidence slides german busin...</td>\n",
       "      <td>business</td>\n",
       "    </tr>\n",
       "    <tr>\n",
       "      <th>2</th>\n",
       "      <td>bbc poll indicates economic gloom citizens in ...</td>\n",
       "      <td>business</td>\n",
       "    </tr>\n",
       "    <tr>\n",
       "      <th>3</th>\n",
       "      <td>lifestyle  governs mobile choice  faster  bett...</td>\n",
       "      <td>tech</td>\n",
       "    </tr>\n",
       "    <tr>\n",
       "      <th>4</th>\n",
       "      <td>enron bosses in $168m payout eighteen former e...</td>\n",
       "      <td>business</td>\n",
       "    </tr>\n",
       "  </tbody>\n",
       "</table>\n",
       "</div>"
      ],
      "text/plain": [
       "                                                Text  Category\n",
       "0  worldcom ex-boss launches defence lawyers defe...  business\n",
       "1  german business confidence slides german busin...  business\n",
       "2  bbc poll indicates economic gloom citizens in ...  business\n",
       "3  lifestyle  governs mobile choice  faster  bett...      tech\n",
       "4  enron bosses in $168m payout eighteen former e...  business"
      ]
     },
     "execution_count": 20,
     "metadata": {},
     "output_type": "execute_result"
    }
   ],
   "source": [
    "data.head()"
   ]
  },
  {
   "cell_type": "code",
   "execution_count": 28,
   "id": "b94e3b03",
   "metadata": {},
   "outputs": [],
   "source": [
    "import re\n",
    "from bs4 import BeautifulSoup\n",
    "import string\n",
    "import wordninja as wn\n",
    "from nltk.stem import WordNetLemmatizer\n",
    "from textblob import TextBlob\n",
    "import string\n",
    "import nltk \n",
    "# nltk.download('stopwords') \n",
    "from nltk.corpus import stopwords\n",
    "allstopwords = stopwords.words('english')\n",
    "\n",
    "def preprocessing(sentence):\n",
    "    # make smallercase\n",
    "    sentence = sentence.lower()\n",
    "\n",
    "    # remove emails\n",
    "    sentence = re.sub(r\"([a-zA-Z0-9_.+-]+@[a-zA-Z0-9-]+\\.[a-zA-Z0-9-.]+$)\", '', sentence)\n",
    "\n",
    "    # remove mentions\n",
    "    sentence = re.sub(r\"@[A-Za-z0-9]+\",\"\", sentence)\n",
    "\n",
    "    # Remove html\n",
    "    sentence = BeautifulSoup(sentence, 'lxml').get_text().strip()\n",
    "\n",
    "    # Remove URL\n",
    "    sentence = re.sub(r'https?://\\S+|www\\.\\S+', '', sentence)\n",
    "\n",
    "    # Removing punctutation\n",
    "    sentence = sentence.translate(str.maketrans('', '', string.punctuation))\n",
    "\n",
    "    # Remove non-alphabetic characters\n",
    "    sentence = re.sub(r'[^a-zA-Z ]', '', sentence)\n",
    "\n",
    "    # Spliting words into two meaningful word\n",
    "#     sentence = ' '.join(wn.split(str(sentence)))\n",
    "\n",
    "    # Correct the sentence\n",
    "#     sentence =  str(TextBlob(sentence).correct())\n",
    "\n",
    "    # decontracted\n",
    "\n",
    "    ## specific\n",
    "    sentence = re.sub(r\"wont\", \"will not\", sentence)\n",
    "    sentence = re.sub(r\"wouldnt\", \"would not\", sentence)\n",
    "    sentence = re.sub(r\"shouldnt\", \"should not\", sentence)\n",
    "    sentence = re.sub(r\"couldnt\", \"could not\", sentence)\n",
    "    sentence = re.sub(r\"cudnt\", \"could not\", sentence)\n",
    "    sentence = re.sub(r\"cant\", \"can not\", sentence)\n",
    "    sentence = re.sub(r\"dont\", \"do not\", sentence)\n",
    "    sentence = re.sub(r\"doesnt\", \"does not\", sentence)\n",
    "    sentence = re.sub(r\"didnt\", \"did not\", sentence)\n",
    "    sentence = re.sub(r\"wasnt\", \"was not\", sentence)\n",
    "    sentence = re.sub(r\"werent\", \"were not\", sentence)\n",
    "    sentence = re.sub(r\"havent\", \"have not\", sentence)\n",
    "    sentence = re.sub(r\"hadnt\", \"had not\", sentence)\n",
    "\n",
    "    ## general\n",
    "    sentence = re.sub(r\"n\\ t\", \" not\", sentence)\n",
    "    #sentence = re.sub(r\"\\re\", \" are\", sentence)\n",
    "    sentence = re.sub(r\"\\ s \", \" is \", sentence) \n",
    "    sentence = re.sub(r\"\\ d \", \" would \", sentence)\n",
    "    sentence = re.sub(r\"\\ ll \", \" will \", sentence)\n",
    "    sentence = re.sub(r\"\\dunno\", \"do not \", sentence)\n",
    "    sentence = re.sub(r\"ive \", \"i have \", sentence)\n",
    "    sentence = re.sub(r\"im \", \"i am \", sentence)\n",
    "    sentence = re.sub(r\"i m \", \"i am \", sentence)\n",
    "    sentence = re.sub(r\" w \", \" with \", sentence)\n",
    "    \n",
    "    # Punctuation Removal\n",
    "    sentence = \"\".join(i for i in sentence if i not in string.punctuation)\n",
    "    \n",
    "    # Stop Word Removal\n",
    "    sentence = \" \".join(i for i in sentence.split() if i not in allstopwords)\n",
    "\n",
    "\n",
    "    # Lemmatize\n",
    "    lm = WordNetLemmatizer()\n",
    "    snt = ' '.join([lm.lemmatize(i) for i in sentence.split()])\n",
    "    return snt"
   ]
  },
  {
   "cell_type": "code",
   "execution_count": 29,
   "id": "724f4b43",
   "metadata": {},
   "outputs": [
    {
     "name": "stderr",
     "output_type": "stream",
     "text": [
      "100%|███████████████████████████████████████████████████████████████████████████████████| 1490/1490 [00:06<00:00, 220.13it/s]\n"
     ]
    }
   ],
   "source": [
    "data[\"Tokens\"] = data.Text.progress_apply(lambda x: preprocessing(x)) "
   ]
  },
  {
   "cell_type": "code",
   "execution_count": 30,
   "id": "1be23bb9",
   "metadata": {},
   "outputs": [
    {
     "data": {
      "text/html": [
       "<div>\n",
       "<style scoped>\n",
       "    .dataframe tbody tr th:only-of-type {\n",
       "        vertical-align: middle;\n",
       "    }\n",
       "\n",
       "    .dataframe tbody tr th {\n",
       "        vertical-align: top;\n",
       "    }\n",
       "\n",
       "    .dataframe thead th {\n",
       "        text-align: right;\n",
       "    }\n",
       "</style>\n",
       "<table border=\"1\" class=\"dataframe\">\n",
       "  <thead>\n",
       "    <tr style=\"text-align: right;\">\n",
       "      <th></th>\n",
       "      <th>Text</th>\n",
       "      <th>Category</th>\n",
       "      <th>Tokens</th>\n",
       "    </tr>\n",
       "  </thead>\n",
       "  <tbody>\n",
       "    <tr>\n",
       "      <th>0</th>\n",
       "      <td>worldcom ex-boss launches defence lawyers defe...</td>\n",
       "      <td>business</td>\n",
       "      <td>worldcom exboss launch defence lawyer defendin...</td>\n",
       "    </tr>\n",
       "    <tr>\n",
       "      <th>1</th>\n",
       "      <td>german business confidence slides german busin...</td>\n",
       "      <td>business</td>\n",
       "      <td>german business confidence slide german busine...</td>\n",
       "    </tr>\n",
       "    <tr>\n",
       "      <th>2</th>\n",
       "      <td>bbc poll indicates economic gloom citizens in ...</td>\n",
       "      <td>business</td>\n",
       "      <td>bbc poll indicates economic gloom citizen majo...</td>\n",
       "    </tr>\n",
       "    <tr>\n",
       "      <th>3</th>\n",
       "      <td>lifestyle  governs mobile choice  faster  bett...</td>\n",
       "      <td>tech</td>\n",
       "      <td>lifestyle governs mobile choice faster better ...</td>\n",
       "    </tr>\n",
       "    <tr>\n",
       "      <th>4</th>\n",
       "      <td>enron bosses in $168m payout eighteen former e...</td>\n",
       "      <td>business</td>\n",
       "      <td>enron boss payout eighteen former enron direct...</td>\n",
       "    </tr>\n",
       "  </tbody>\n",
       "</table>\n",
       "</div>"
      ],
      "text/plain": [
       "                                                Text  Category  \\\n",
       "0  worldcom ex-boss launches defence lawyers defe...  business   \n",
       "1  german business confidence slides german busin...  business   \n",
       "2  bbc poll indicates economic gloom citizens in ...  business   \n",
       "3  lifestyle  governs mobile choice  faster  bett...      tech   \n",
       "4  enron bosses in $168m payout eighteen former e...  business   \n",
       "\n",
       "                                              Tokens  \n",
       "0  worldcom exboss launch defence lawyer defendin...  \n",
       "1  german business confidence slide german busine...  \n",
       "2  bbc poll indicates economic gloom citizen majo...  \n",
       "3  lifestyle governs mobile choice faster better ...  \n",
       "4  enron boss payout eighteen former enron direct...  "
      ]
     },
     "execution_count": 30,
     "metadata": {},
     "output_type": "execute_result"
    }
   ],
   "source": [
    "data.head()"
   ]
  },
  {
   "cell_type": "code",
   "execution_count": 31,
   "id": "33ba2d60",
   "metadata": {},
   "outputs": [
    {
     "data": {
      "image/png": "[encoded data removed]",
      "text/plain": [
       "<Figure size 432x288 with 1 Axes>"
      ]
     },
     "metadata": {
      "needs_background": "light"
     },
     "output_type": "display_data"
    }
   ],
   "source": [
    "sns.countplot(data=data, x='Category')\n",
    "plt.show()"
   ]
  },
  {
   "cell_type": "markdown",
   "id": "b37d0673",
   "metadata": {},
   "source": [
    "# Feature Engineering\n",
    "\n",
    "Feature Engineering is a very key part of Natural Language Processing. as we all know algorithms and machines can’t understand characters or words or sentences hence we need to encode these words into some specific form of numerical in order to interact with algorithms or machines. we can’t feed the text data containing words /sentences/characters to a machine learning model.\n",
    "\n",
    "There are various ways to perform feature extraction. some popular and mostly used are:-\n",
    "\n",
    "    1. Bag of Words model\n",
    "    2. TF-IDF"
   ]
  },
  {
   "cell_type": "markdown",
   "id": "289ba82f",
   "metadata": {},
   "source": [
    "## 1. Bag of Words model\n",
    "\n",
    "The idea is to take the whole text data and count their frequency of occurrence. and map the words with their frequency. This method doesn’t care about the order of the words, but it does care how many times a word occurs and the default bag of words model treats all words equally.\n",
    "\n",
    "## 2. TF-IDF Model\n",
    "\n",
    "The BOW model doesn’t give good results since it has a drawback. Assume that there is a particular word that is appearing in all the documents and it comes multiple times, eventually, it will have a higher frequency of occurrence and it will have a greater value that will cause a specific word to have more weightage in a sentence, that’s not good for our analysis.\n",
    "\n",
    "Term frequency (TF): Number of times a term has appeared in a document. The term frequency is a measure of how frequently or how common a word is for a given sentence.\n",
    "\n",
    "Inverse Document Frequency (IDF): The inverse document frequency (IDF ) is a measure of how rare a word is in a document. Words like “the”,” a” show up in all the documents but rare words will not occur in all the documents of the corpus.\n",
    "\n",
    "If a word appears in almost every document means it’s not significant for the classification.\n",
    "\n",
    "IDF of a word is = log(N/n)\n",
    "\n",
    "N: total number of documents.\n",
    "n: number of documents containing a term (word)\n",
    "\n",
    "TF-IDF Evaluates how relevant is a word to its sentence in a collection of sentences or documents."
   ]
  },
  {
   "cell_type": "code",
   "execution_count": 32,
   "id": "304a16ec",
   "metadata": {},
   "outputs": [
    {
     "data": {
      "text/html": [
       "<div>\n",
       "<style scoped>\n",
       "    .dataframe tbody tr th:only-of-type {\n",
       "        vertical-align: middle;\n",
       "    }\n",
       "\n",
       "    .dataframe tbody tr th {\n",
       "        vertical-align: top;\n",
       "    }\n",
       "\n",
       "    .dataframe thead th {\n",
       "        text-align: right;\n",
       "    }\n",
       "</style>\n",
       "<table border=\"1\" class=\"dataframe\">\n",
       "  <thead>\n",
       "    <tr style=\"text-align: right;\">\n",
       "      <th></th>\n",
       "      <th>aa</th>\n",
       "      <th>aaa</th>\n",
       "      <th>aac</th>\n",
       "      <th>aadc</th>\n",
       "      <th>aaliyah</th>\n",
       "      <th>aaltra</th>\n",
       "      <th>aamir</th>\n",
       "      <th>aaron</th>\n",
       "      <th>aashare</th>\n",
       "      <th>ab</th>\n",
       "      <th>...</th>\n",
       "      <th>zombie</th>\n",
       "      <th>zone</th>\n",
       "      <th>zonealarm</th>\n",
       "      <th>zoom</th>\n",
       "      <th>zooropa</th>\n",
       "      <th>zorro</th>\n",
       "      <th>zuluaga</th>\n",
       "      <th>zurich</th>\n",
       "      <th>zutons</th>\n",
       "      <th>zvonareva</th>\n",
       "    </tr>\n",
       "  </thead>\n",
       "  <tbody>\n",
       "    <tr>\n",
       "      <th>0</th>\n",
       "      <td>0.0</td>\n",
       "      <td>0.0</td>\n",
       "      <td>0.0</td>\n",
       "      <td>0.0</td>\n",
       "      <td>0.0</td>\n",
       "      <td>0.0</td>\n",
       "      <td>0.0</td>\n",
       "      <td>0.0</td>\n",
       "      <td>0.0</td>\n",
       "      <td>0.0</td>\n",
       "      <td>...</td>\n",
       "      <td>0.0</td>\n",
       "      <td>0.0</td>\n",
       "      <td>0.0</td>\n",
       "      <td>0.0</td>\n",
       "      <td>0.0</td>\n",
       "      <td>0.0</td>\n",
       "      <td>0.0</td>\n",
       "      <td>0.0</td>\n",
       "      <td>0.0</td>\n",
       "      <td>0.0</td>\n",
       "    </tr>\n",
       "    <tr>\n",
       "      <th>1</th>\n",
       "      <td>0.0</td>\n",
       "      <td>0.0</td>\n",
       "      <td>0.0</td>\n",
       "      <td>0.0</td>\n",
       "      <td>0.0</td>\n",
       "      <td>0.0</td>\n",
       "      <td>0.0</td>\n",
       "      <td>0.0</td>\n",
       "      <td>0.0</td>\n",
       "      <td>0.0</td>\n",
       "      <td>...</td>\n",
       "      <td>0.0</td>\n",
       "      <td>0.0</td>\n",
       "      <td>0.0</td>\n",
       "      <td>0.0</td>\n",
       "      <td>0.0</td>\n",
       "      <td>0.0</td>\n",
       "      <td>0.0</td>\n",
       "      <td>0.0</td>\n",
       "      <td>0.0</td>\n",
       "      <td>0.0</td>\n",
       "    </tr>\n",
       "    <tr>\n",
       "      <th>2</th>\n",
       "      <td>0.0</td>\n",
       "      <td>0.0</td>\n",
       "      <td>0.0</td>\n",
       "      <td>0.0</td>\n",
       "      <td>0.0</td>\n",
       "      <td>0.0</td>\n",
       "      <td>0.0</td>\n",
       "      <td>0.0</td>\n",
       "      <td>0.0</td>\n",
       "      <td>0.0</td>\n",
       "      <td>...</td>\n",
       "      <td>0.0</td>\n",
       "      <td>0.0</td>\n",
       "      <td>0.0</td>\n",
       "      <td>0.0</td>\n",
       "      <td>0.0</td>\n",
       "      <td>0.0</td>\n",
       "      <td>0.0</td>\n",
       "      <td>0.0</td>\n",
       "      <td>0.0</td>\n",
       "      <td>0.0</td>\n",
       "    </tr>\n",
       "    <tr>\n",
       "      <th>3</th>\n",
       "      <td>0.0</td>\n",
       "      <td>0.0</td>\n",
       "      <td>0.0</td>\n",
       "      <td>0.0</td>\n",
       "      <td>0.0</td>\n",
       "      <td>0.0</td>\n",
       "      <td>0.0</td>\n",
       "      <td>0.0</td>\n",
       "      <td>0.0</td>\n",
       "      <td>0.0</td>\n",
       "      <td>...</td>\n",
       "      <td>0.0</td>\n",
       "      <td>0.0</td>\n",
       "      <td>0.0</td>\n",
       "      <td>0.0</td>\n",
       "      <td>0.0</td>\n",
       "      <td>0.0</td>\n",
       "      <td>0.0</td>\n",
       "      <td>0.0</td>\n",
       "      <td>0.0</td>\n",
       "      <td>0.0</td>\n",
       "    </tr>\n",
       "    <tr>\n",
       "      <th>4</th>\n",
       "      <td>0.0</td>\n",
       "      <td>0.0</td>\n",
       "      <td>0.0</td>\n",
       "      <td>0.0</td>\n",
       "      <td>0.0</td>\n",
       "      <td>0.0</td>\n",
       "      <td>0.0</td>\n",
       "      <td>0.0</td>\n",
       "      <td>0.0</td>\n",
       "      <td>0.0</td>\n",
       "      <td>...</td>\n",
       "      <td>0.0</td>\n",
       "      <td>0.0</td>\n",
       "      <td>0.0</td>\n",
       "      <td>0.0</td>\n",
       "      <td>0.0</td>\n",
       "      <td>0.0</td>\n",
       "      <td>0.0</td>\n",
       "      <td>0.0</td>\n",
       "      <td>0.0</td>\n",
       "      <td>0.0</td>\n",
       "    </tr>\n",
       "  </tbody>\n",
       "</table>\n",
       "<p>5 rows × 23434 columns</p>\n",
       "</div>"
      ],
      "text/plain": [
       "    aa  aaa  aac  aadc  aaliyah  aaltra  aamir  aaron  aashare   ab  ...  \\\n",
       "0  0.0  0.0  0.0   0.0      0.0     0.0    0.0    0.0      0.0  0.0  ...   \n",
       "1  0.0  0.0  0.0   0.0      0.0     0.0    0.0    0.0      0.0  0.0  ...   \n",
       "2  0.0  0.0  0.0   0.0      0.0     0.0    0.0    0.0      0.0  0.0  ...   \n",
       "3  0.0  0.0  0.0   0.0      0.0     0.0    0.0    0.0      0.0  0.0  ...   \n",
       "4  0.0  0.0  0.0   0.0      0.0     0.0    0.0    0.0      0.0  0.0  ...   \n",
       "\n",
       "   zombie  zone  zonealarm  zoom  zooropa  zorro  zuluaga  zurich  zutons  \\\n",
       "0     0.0   0.0        0.0   0.0      0.0    0.0      0.0     0.0     0.0   \n",
       "1     0.0   0.0        0.0   0.0      0.0    0.0      0.0     0.0     0.0   \n",
       "2     0.0   0.0        0.0   0.0      0.0    0.0      0.0     0.0     0.0   \n",
       "3     0.0   0.0        0.0   0.0      0.0    0.0      0.0     0.0     0.0   \n",
       "4     0.0   0.0        0.0   0.0      0.0    0.0      0.0     0.0     0.0   \n",
       "\n",
       "   zvonareva  \n",
       "0        0.0  \n",
       "1        0.0  \n",
       "2        0.0  \n",
       "3        0.0  \n",
       "4        0.0  \n",
       "\n",
       "[5 rows x 23434 columns]"
      ]
     },
     "execution_count": 32,
     "metadata": {},
     "output_type": "execute_result"
    }
   ],
   "source": [
    "from sklearn.feature_extraction.text import TfidfVectorizer\n",
    "from nltk.tokenize import RegexpTokenizer\n",
    "\n",
    "token = RegexpTokenizer(r'[a-zA-Z0-9]+')\n",
    "\n",
    "TfIdf_Vectorizer = TfidfVectorizer(tokenizer = token.tokenize)\n",
    "\n",
    "X = TfIdf_Vectorizer.fit_transform(data.Tokens)\n",
    "\n",
    "X_array = X.toarray()\n",
    "\n",
    "pd.DataFrame(data=X_array, columns = TfIdf_Vectorizer.get_feature_names_out()).head()"
   ]
  },
  {
   "cell_type": "code",
   "execution_count": 33,
   "id": "802ac9a6",
   "metadata": {},
   "outputs": [
    {
     "data": {
      "text/plain": [
       "(1490, 23434)"
      ]
     },
     "execution_count": 33,
     "metadata": {},
     "output_type": "execute_result"
    }
   ],
   "source": [
    "X_array.shape"
   ]
  },
  {
   "cell_type": "code",
   "execution_count": 34,
   "id": "f82658e5",
   "metadata": {},
   "outputs": [
    {
     "data": {
      "text/plain": [
       "(1490,)"
      ]
     },
     "execution_count": 34,
     "metadata": {},
     "output_type": "execute_result"
    }
   ],
   "source": [
    "y.shape"
   ]
  },
  {
   "cell_type": "markdown",
   "id": "b8ad6002",
   "metadata": {},
   "source": [
    "# Articles"
   ]
  },
  {
   "cell_type": "code",
   "execution_count": 131,
   "id": "1bd1ff30",
   "metadata": {},
   "outputs": [],
   "source": [
    "article = \"\"\"\n",
    "New Delhi:\n",
    "\n",
    "SpiceJet employees on Wednesday alleged delay in the disbursal of salaries for the second straight month, with the budget airline saying the payments were being made in a \"graded format\".\n",
    "\n",
    "There was a delay in disbursal of salary for staff, including flight crew, for the month of July and many are yet to get the Form 16 for the financial year 2021-22 as well, SpiceJet employees claimed.\n",
    "\n",
    "\"The salary disbursal was timely for June. Also, the salaries are yet to match the pre-COVID-19 levels. The salaries being disbursed to captains and first officers are not even 50 per cent of what they used to be before the pandemic outbreak in March 2020,\" an employee told PTI.\n",
    "\n",
    "However, SpiceJet claimed it has started salary disbursal in a \"graded format\".\n",
    "\n",
    "\"We have started crediting salaries from today. Like the previous month, salary will be credited in a graded format,\" the airline said in a statement to PTI.\n",
    "\n",
    "In an internal communication Wednesday, the SpiceJet's Human Resources team informed employees about the delays citing that the \"previous few months have been difficult\" due to \"superlative fuel price hike\" and also \"historically lean period of July-September\".\n",
    "\n",
    "\"We have started to see some green shoots of relief with reduction in fuel price effective August 1. Passenger demand is also expected to be strong as we enter our traditional strong season in end-September,\" the communication read.\n",
    "\"\"\""
   ]
  },
  {
   "cell_type": "markdown",
   "id": "08bc347f",
   "metadata": {},
   "source": [
    "# Detect Catagory"
   ]
  },
  {
   "cell_type": "code",
   "execution_count": 132,
   "id": "c5b27c7b",
   "metadata": {},
   "outputs": [],
   "source": [
    "import re\n",
    "from bs4 import BeautifulSoup\n",
    "import string\n",
    "from nltk.stem import WordNetLemmatizer\n",
    "\n",
    "def detect_catagory(model, sentence):\n",
    "\n",
    "    # make smallercase\n",
    "    sentence = sentence.lower()\n",
    "        \n",
    "    # remove emails\n",
    "    sentence = re.sub(r\"([a-zA-Z0-9_.+-]+@[a-zA-Z0-9-]+\\.[a-zA-Z0-9-.]+$)\", '', sentence)\n",
    "\n",
    "    # remove mentions\n",
    "    sentence = re.sub(r\"@[A-Za-z0-9]+\",\"\", sentence)\n",
    "    \n",
    "    # Remove html\n",
    "    sentence = BeautifulSoup(sentence, 'lxml').get_text().strip()\n",
    "    \n",
    "    # Remove URL\n",
    "    sentence = re.sub(r'https?://\\S+|www\\.\\S+', '', sentence)\n",
    "        \n",
    "    # Removing punctutation, string.punctuation in python consists of !\"#$%&\\'()*+,-./:;<=>?@[\\\\]^_\n",
    "    sentence = sentence.translate(str.maketrans('', '', string.punctuation))\n",
    "    \n",
    "    # Remove non-alphabetic characters\n",
    "    sentence = re.sub(r'[^a-zA-Z ]', '', sentence)\n",
    "\n",
    "    # Spliting words into two meaningful word\n",
    "    sentence = ' '.join(wn.split(str(sentence)))\n",
    "\n",
    "    # Correct the sentence\n",
    "    sentence =  str(TextBlob(sentence).correct())\n",
    "    \n",
    "    # decontracted\n",
    "    \n",
    "    ## specific\n",
    "    sentence = re.sub(r\"wont\", \"will not\", sentence)\n",
    "    sentence = re.sub(r\"wouldnt\", \"would not\", sentence)\n",
    "    sentence = re.sub(r\"shouldnt\", \"should not\", sentence)\n",
    "    sentence = re.sub(r\"couldnt\", \"could not\", sentence)\n",
    "    sentence = re.sub(r\"cudnt\", \"could not\", sentence)\n",
    "    sentence = re.sub(r\"cant\", \"can not\", sentence)\n",
    "    sentence = re.sub(r\"dont\", \"do not\", sentence)\n",
    "    sentence = re.sub(r\"doesnt\", \"does not\", sentence)\n",
    "    sentence = re.sub(r\"didnt\", \"did not\", sentence)\n",
    "    sentence = re.sub(r\"wasnt\", \"was not\", sentence)\n",
    "    sentence = re.sub(r\"werent\", \"were not\", sentence)\n",
    "    sentence = re.sub(r\"havent\", \"have not\", sentence)\n",
    "    sentence = re.sub(r\"hadnt\", \"had not\", sentence)\n",
    "\n",
    "    ## general\n",
    "    sentence = re.sub(r\"n\\ t\", \" not\", sentence)\n",
    "    #sentence = re.sub(r\"\\re\", \" are\", sentence)\n",
    "    sentence = re.sub(r\"\\ s \", \" is \", sentence) \n",
    "    sentence = re.sub(r\"\\ d \", \" would \", sentence)\n",
    "    sentence = re.sub(r\"\\ ll \", \" will \", sentence)\n",
    "    sentence = re.sub(r\"\\dunno\", \"do not \", sentence)\n",
    "    sentence = re.sub(r\"ive \", \"i have \", sentence)\n",
    "    sentence = re.sub(r\"im \", \"i am \", sentence)\n",
    "    sentence = re.sub(r\"i m \", \"i am \", sentence)\n",
    "    sentence = re.sub(r\" w \", \" with \", sentence)\n",
    "\n",
    "\n",
    "    # Lemmatize\n",
    "    lm = WordNetLemmatizer()\n",
    "    snt = ' '.join([lm.lemmatize(i) for i in sentence.split()])\n",
    "    \n",
    "    return model.predict(TfIdf_Vectorizer.transform([snt]))[0]"
   ]
  },
  {
   "cell_type": "markdown",
   "id": "1b927ddb",
   "metadata": {},
   "source": [
    "# Get Weight of a word"
   ]
  },
  {
   "cell_type": "code",
   "execution_count": 46,
   "id": "d0cb0bc6",
   "metadata": {},
   "outputs": [],
   "source": [
    "def get_weight(model, word):\n",
    "    try:\n",
    "        print(model.coef_[0][list(TfIdf_Vectorizer.get_feature_names_out()).index(word)])\n",
    "    except IndexError:\n",
    "        print(model.coef_.toarray()[0][list(TfIdf_Vectorizer.get_feature_names_out()).index(word)])\n",
    "    except ValueError:\n",
    "        pass"
   ]
  },
  {
   "cell_type": "markdown",
   "id": "e29ae312",
   "metadata": {},
   "source": [
    "# Model Building"
   ]
  },
  {
   "cell_type": "code",
   "execution_count": 35,
   "id": "1d136fba",
   "metadata": {},
   "outputs": [],
   "source": [
    "from sklearn.model_selection import train_test_split\n",
    "from sklearn.model_selection import cross_val_score\n",
    "from sklearn.metrics import classification_report, confusion_matrix, accuracy_score"
   ]
  },
  {
   "cell_type": "code",
   "execution_count": 36,
   "id": "87fa2535",
   "metadata": {},
   "outputs": [],
   "source": [
    "X_train, X_test, y_train, y_test = train_test_split(X,y, test_size=.33, random_state=40)"
   ]
  },
  {
   "cell_type": "markdown",
   "id": "97a5bfd1",
   "metadata": {},
   "source": [
    "## 1. Logistic Regression"
   ]
  },
  {
   "cell_type": "code",
   "execution_count": 37,
   "id": "cb217630",
   "metadata": {},
   "outputs": [
    {
     "data": {
      "text/plain": [
       "0.9691275167785234"
      ]
     },
     "execution_count": 37,
     "metadata": {},
     "output_type": "execute_result"
    }
   ],
   "source": [
    "from sklearn.linear_model import LogisticRegression\n",
    "\n",
    "# Check Cross Validation Score\n",
    "\n",
    "clf = LogisticRegression(random_state=42, max_iter=1000)\n",
    "np.average(cross_val_score(clf, X, y, cv=10))"
   ]
  },
  {
   "cell_type": "code",
   "execution_count": 38,
   "id": "801d6c45",
   "metadata": {},
   "outputs": [
    {
     "data": {
      "text/html": [
       "<style>#sk-container-id-1 {color: black;background-color: white;}#sk-container-id-1 pre{padding: 0;}#sk-container-id-1 div.sk-toggleable {background-color: white;}#sk-container-id-1 label.sk-toggleable__label {cursor: pointer;display: block;width: 100%;margin-bottom: 0;padding: 0.3em;box-sizing: border-box;text-align: center;}#sk-container-id-1 label.sk-toggleable__label-arrow:before {content: \"▸\";float: left;margin-right: 0.25em;color: #696969;}#sk-container-id-1 label.sk-toggleable__label-arrow:hover:before {color: black;}#sk-container-id-1 div.sk-estimator:hover label.sk-toggleable__label-arrow:before {color: black;}#sk-container-id-1 div.sk-toggleable__content {max-height: 0;max-width: 0;overflow: hidden;text-align: left;background-color: #f0f8ff;}#sk-container-id-1 div.sk-toggleable__content pre {margin: 0.2em;color: black;border-radius: 0.25em;background-color: #f0f8ff;}#sk-container-id-1 input.sk-toggleable__control:checked~div.sk-toggleable__content {max-height: 200px;max-width: 100%;overflow: auto;}#sk-container-id-1 input.sk-toggleable__control:checked~label.sk-toggleable__label-arrow:before {content: \"▾\";}#sk-container-id-1 div.sk-estimator input.sk-toggleable__control:checked~label.sk-toggleable__label {background-color: #d4ebff;}#sk-container-id-1 div.sk-label input.sk-toggleable__control:checked~label.sk-toggleable__label {background-color: #d4ebff;}#sk-container-id-1 input.sk-hidden--visually {border: 0;clip: rect(1px 1px 1px 1px);clip: rect(1px, 1px, 1px, 1px);height: 1px;margin: -1px;overflow: hidden;padding: 0;position: absolute;width: 1px;}#sk-container-id-1 div.sk-estimator {font-family: monospace;background-color: #f0f8ff;border: 1px dotted black;border-radius: 0.25em;box-sizing: border-box;margin-bottom: 0.5em;}#sk-container-id-1 div.sk-estimator:hover {background-color: #d4ebff;}#sk-container-id-1 div.sk-parallel-item::after {content: \"\";width: 100%;border-bottom: 1px solid gray;flex-grow: 1;}#sk-container-id-1 div.sk-label:hover label.sk-toggleable__label {background-color: #d4ebff;}#sk-container-id-1 div.sk-serial::before {content: \"\";position: absolute;border-left: 1px solid gray;box-sizing: border-box;top: 0;bottom: 0;left: 50%;z-index: 0;}#sk-container-id-1 div.sk-serial {display: flex;flex-direction: column;align-items: center;background-color: white;padding-right: 0.2em;padding-left: 0.2em;position: relative;}#sk-container-id-1 div.sk-item {position: relative;z-index: 1;}#sk-container-id-1 div.sk-parallel {display: flex;align-items: stretch;justify-content: center;background-color: white;position: relative;}#sk-container-id-1 div.sk-item::before, #sk-container-id-1 div.sk-parallel-item::before {content: \"\";position: absolute;border-left: 1px solid gray;box-sizing: border-box;top: 0;bottom: 0;left: 50%;z-index: -1;}#sk-container-id-1 div.sk-parallel-item {display: flex;flex-direction: column;z-index: 1;position: relative;background-color: white;}#sk-container-id-1 div.sk-parallel-item:first-child::after {align-self: flex-end;width: 50%;}#sk-container-id-1 div.sk-parallel-item:last-child::after {align-self: flex-start;width: 50%;}#sk-container-id-1 div.sk-parallel-item:only-child::after {width: 0;}#sk-container-id-1 div.sk-dashed-wrapped {border: 1px dashed gray;margin: 0 0.4em 0.5em 0.4em;box-sizing: border-box;padding-bottom: 0.4em;background-color: white;}#sk-container-id-1 div.sk-label label {font-family: monospace;font-weight: bold;display: inline-block;line-height: 1.2em;}#sk-container-id-1 div.sk-label-container {text-align: center;}#sk-container-id-1 div.sk-container {/* jupyter's `normalize.less` sets `[hidden] { display: none; }` but bootstrap.min.css set `[hidden] { display: none !important; }` so we also need the `!important` here to be able to override the default hidden behavior on the sphinx rendered scikit-learn.org. See: https://github.com/scikit-learn/scikit-learn/issues/21755 */display: inline-block !important;position: relative;}#sk-container-id-1 div.sk-text-repr-fallback {display: none;}</style><div id=\"sk-container-id-1\" class=\"sk-top-container\"><div class=\"sk-text-repr-fallback\"><pre>LogisticRegression(max_iter=1000, random_state=42)</pre><b>In a Jupyter environment, please rerun this cell to show the HTML representation or trust the notebook. <br />On GitHub, the HTML representation is unable to render, please try loading this page with nbviewer.org.</b></div><div class=\"sk-container\" hidden><div class=\"sk-item\"><div class=\"sk-estimator sk-toggleable\"><input class=\"sk-toggleable__control sk-hidden--visually\" id=\"sk-estimator-id-1\" type=\"checkbox\" checked><label for=\"sk-estimator-id-1\" class=\"sk-toggleable__label sk-toggleable__label-arrow\">LogisticRegression</label><div class=\"sk-toggleable__content\"><pre>LogisticRegression(max_iter=1000, random_state=42)</pre></div></div></div></div></div>"
      ],
      "text/plain": [
       "LogisticRegression(max_iter=1000, random_state=42)"
      ]
     },
     "execution_count": 38,
     "metadata": {},
     "output_type": "execute_result"
    }
   ],
   "source": [
    "# Model Building\n",
    "clf.fit(X_train, y_train)"
   ]
  },
  {
   "cell_type": "code",
   "execution_count": 39,
   "id": "00ba7463",
   "metadata": {},
   "outputs": [],
   "source": [
    "from sklearn.metrics import classification_report, confusion_matrix\n",
    "\n",
    "y_pred = clf.predict(X_test)"
   ]
  },
  {
   "cell_type": "code",
   "execution_count": 40,
   "id": "68d4406d",
   "metadata": {},
   "outputs": [
    {
     "name": "stdout",
     "output_type": "stream",
     "text": [
      "               precision    recall  f1-score   support\n",
      "\n",
      "     business       0.96      0.99      0.98       107\n",
      "entertainment       0.98      0.99      0.98        95\n",
      "     politics       0.99      0.98      0.98        85\n",
      "        sport       0.97      0.99      0.98       110\n",
      "         tech       1.00      0.95      0.97        95\n",
      "\n",
      "     accuracy                           0.98       492\n",
      "    macro avg       0.98      0.98      0.98       492\n",
      " weighted avg       0.98      0.98      0.98       492\n",
      "\n"
     ]
    }
   ],
   "source": [
    "print(classification_report(y_test, y_pred))"
   ]
  },
  {
   "cell_type": "code",
   "execution_count": 50,
   "id": "9314e2eb",
   "metadata": {},
   "outputs": [],
   "source": [
    "# Plot Matrix"
   ]
  },
  {
   "cell_type": "code",
   "execution_count": 42,
   "id": "9f8c57d5",
   "metadata": {},
   "outputs": [],
   "source": [
    "def plot_matrix(y_test, y_pred, color=\"Oranges\"):\n",
    "    labels = np.unique(y_pred)\n",
    "    cm_df = pd.DataFrame(confusion_matrix(y_test, y_pred), index=labels, columns=labels)\n",
    "    sns.heatmap(cm_df, annot=True, fmt='g', cmap=color)\n",
    "    plt.xlabel(\"Actual\")\n",
    "    plt.ylabel(\"Predicted\")\n",
    "    plt.show()"
   ]
  },
  {
   "cell_type": "code",
   "execution_count": 43,
   "id": "e8e2906f",
   "metadata": {},
   "outputs": [
    {
     "data": {
      "image/png": "[encoded data removed]",
      "text/plain": [
       "<Figure size 432x288 with 2 Axes>"
      ]
     },
     "metadata": {
      "needs_background": "light"
     },
     "output_type": "display_data"
    }
   ],
   "source": [
    "plot_matrix(y_test, y_pred)"
   ]
  },
  {
   "cell_type": "code",
   "execution_count": 133,
   "id": "a89369cb",
   "metadata": {},
   "outputs": [
    {
     "name": "stdout",
     "output_type": "stream",
     "text": [
      "business\n"
     ]
    }
   ],
   "source": [
    "print(detect_catagory(clf, article))"
   ]
  },
  {
   "cell_type": "code",
   "execution_count": 47,
   "id": "01fef0d3",
   "metadata": {},
   "outputs": [
    {
     "name": "stdout",
     "output_type": "stream",
     "text": [
      "-0.05634771899789285\n"
     ]
    }
   ],
   "source": [
    "get_weight(clf, \"interesting\")"
   ]
  },
  {
   "cell_type": "markdown",
   "id": "1aed50f8",
   "metadata": {},
   "source": [
    "## Using L2 Regularizations"
   ]
  },
  {
   "cell_type": "code",
   "execution_count": 48,
   "id": "2072dc89",
   "metadata": {},
   "outputs": [
    {
     "data": {
      "text/plain": [
       "0.9738255033557047"
      ]
     },
     "execution_count": 48,
     "metadata": {},
     "output_type": "execute_result"
    }
   ],
   "source": [
    "clf_l2 = LogisticRegression(penalty=\"l2\", C=50, random_state=42, max_iter=1000)\n",
    "\n",
    "np.average(cross_val_score(clf_l2, X, y, cv=10))"
   ]
  },
  {
   "cell_type": "code",
   "execution_count": 51,
   "id": "4f93ed32",
   "metadata": {},
   "outputs": [
    {
     "data": {
      "text/html": [
       "<style>#sk-container-id-3 {color: black;background-color: white;}#sk-container-id-3 pre{padding: 0;}#sk-container-id-3 div.sk-toggleable {background-color: white;}#sk-container-id-3 label.sk-toggleable__label {cursor: pointer;display: block;width: 100%;margin-bottom: 0;padding: 0.3em;box-sizing: border-box;text-align: center;}#sk-container-id-3 label.sk-toggleable__label-arrow:before {content: \"▸\";float: left;margin-right: 0.25em;color: #696969;}#sk-container-id-3 label.sk-toggleable__label-arrow:hover:before {color: black;}#sk-container-id-3 div.sk-estimator:hover label.sk-toggleable__label-arrow:before {color: black;}#sk-container-id-3 div.sk-toggleable__content {max-height: 0;max-width: 0;overflow: hidden;text-align: left;background-color: #f0f8ff;}#sk-container-id-3 div.sk-toggleable__content pre {margin: 0.2em;color: black;border-radius: 0.25em;background-color: #f0f8ff;}#sk-container-id-3 input.sk-toggleable__control:checked~div.sk-toggleable__content {max-height: 200px;max-width: 100%;overflow: auto;}#sk-container-id-3 input.sk-toggleable__control:checked~label.sk-toggleable__label-arrow:before {content: \"▾\";}#sk-container-id-3 div.sk-estimator input.sk-toggleable__control:checked~label.sk-toggleable__label {background-color: #d4ebff;}#sk-container-id-3 div.sk-label input.sk-toggleable__control:checked~label.sk-toggleable__label {background-color: #d4ebff;}#sk-container-id-3 input.sk-hidden--visually {border: 0;clip: rect(1px 1px 1px 1px);clip: rect(1px, 1px, 1px, 1px);height: 1px;margin: -1px;overflow: hidden;padding: 0;position: absolute;width: 1px;}#sk-container-id-3 div.sk-estimator {font-family: monospace;background-color: #f0f8ff;border: 1px dotted black;border-radius: 0.25em;box-sizing: border-box;margin-bottom: 0.5em;}#sk-container-id-3 div.sk-estimator:hover {background-color: #d4ebff;}#sk-container-id-3 div.sk-parallel-item::after {content: \"\";width: 100%;border-bottom: 1px solid gray;flex-grow: 1;}#sk-container-id-3 div.sk-label:hover label.sk-toggleable__label {background-color: #d4ebff;}#sk-container-id-3 div.sk-serial::before {content: \"\";position: absolute;border-left: 1px solid gray;box-sizing: border-box;top: 0;bottom: 0;left: 50%;z-index: 0;}#sk-container-id-3 div.sk-serial {display: flex;flex-direction: column;align-items: center;background-color: white;padding-right: 0.2em;padding-left: 0.2em;position: relative;}#sk-container-id-3 div.sk-item {position: relative;z-index: 1;}#sk-container-id-3 div.sk-parallel {display: flex;align-items: stretch;justify-content: center;background-color: white;position: relative;}#sk-container-id-3 div.sk-item::before, #sk-container-id-3 div.sk-parallel-item::before {content: \"\";position: absolute;border-left: 1px solid gray;box-sizing: border-box;top: 0;bottom: 0;left: 50%;z-index: -1;}#sk-container-id-3 div.sk-parallel-item {display: flex;flex-direction: column;z-index: 1;position: relative;background-color: white;}#sk-container-id-3 div.sk-parallel-item:first-child::after {align-self: flex-end;width: 50%;}#sk-container-id-3 div.sk-parallel-item:last-child::after {align-self: flex-start;width: 50%;}#sk-container-id-3 div.sk-parallel-item:only-child::after {width: 0;}#sk-container-id-3 div.sk-dashed-wrapped {border: 1px dashed gray;margin: 0 0.4em 0.5em 0.4em;box-sizing: border-box;padding-bottom: 0.4em;background-color: white;}#sk-container-id-3 div.sk-label label {font-family: monospace;font-weight: bold;display: inline-block;line-height: 1.2em;}#sk-container-id-3 div.sk-label-container {text-align: center;}#sk-container-id-3 div.sk-container {/* jupyter's `normalize.less` sets `[hidden] { display: none; }` but bootstrap.min.css set `[hidden] { display: none !important; }` so we also need the `!important` here to be able to override the default hidden behavior on the sphinx rendered scikit-learn.org. See: https://github.com/scikit-learn/scikit-learn/issues/21755 */display: inline-block !important;position: relative;}#sk-container-id-3 div.sk-text-repr-fallback {display: none;}</style><div id=\"sk-container-id-3\" class=\"sk-top-container\"><div class=\"sk-text-repr-fallback\"><pre>LogisticRegression(C=50, max_iter=1000, random_state=42)</pre><b>In a Jupyter environment, please rerun this cell to show the HTML representation or trust the notebook. <br />On GitHub, the HTML representation is unable to render, please try loading this page with nbviewer.org.</b></div><div class=\"sk-container\" hidden><div class=\"sk-item\"><div class=\"sk-estimator sk-toggleable\"><input class=\"sk-toggleable__control sk-hidden--visually\" id=\"sk-estimator-id-3\" type=\"checkbox\" checked><label for=\"sk-estimator-id-3\" class=\"sk-toggleable__label sk-toggleable__label-arrow\">LogisticRegression</label><div class=\"sk-toggleable__content\"><pre>LogisticRegression(C=50, max_iter=1000, random_state=42)</pre></div></div></div></div></div>"
      ],
      "text/plain": [
       "LogisticRegression(C=50, max_iter=1000, random_state=42)"
      ]
     },
     "execution_count": 51,
     "metadata": {},
     "output_type": "execute_result"
    }
   ],
   "source": [
    "clf_l2.fit(X_train, y_train)"
   ]
  },
  {
   "cell_type": "code",
   "execution_count": 52,
   "id": "5bff6000",
   "metadata": {},
   "outputs": [
    {
     "name": "stdout",
     "output_type": "stream",
     "text": [
      "               precision    recall  f1-score   support\n",
      "\n",
      "     business       0.98      0.97      0.98       107\n",
      "entertainment       0.98      0.99      0.98        95\n",
      "     politics       0.98      0.98      0.98        85\n",
      "        sport       0.98      0.99      0.99       110\n",
      "         tech       0.98      0.97      0.97        95\n",
      "\n",
      "     accuracy                           0.98       492\n",
      "    macro avg       0.98      0.98      0.98       492\n",
      " weighted avg       0.98      0.98      0.98       492\n",
      "\n"
     ]
    }
   ],
   "source": [
    "y_pred_l2 = clf_l2.predict(X_test)\n",
    "\n",
    "print(classification_report(y_test, y_pred_l2))"
   ]
  },
  {
   "cell_type": "code",
   "execution_count": 55,
   "id": "79c0d76e",
   "metadata": {},
   "outputs": [
    {
     "data": {
      "image/png": "[encoded data removed]",
      "text/plain": [
       "<Figure size 432x288 with 2 Axes>"
      ]
     },
     "metadata": {
      "needs_background": "light"
     },
     "output_type": "display_data"
    }
   ],
   "source": [
    "plot_matrix(y_test, y_pred_l2)"
   ]
  },
  {
   "cell_type": "code",
   "execution_count": 134,
   "id": "8b6135cc",
   "metadata": {},
   "outputs": [
    {
     "data": {
      "text/plain": [
       "'business'"
      ]
     },
     "execution_count": 134,
     "metadata": {},
     "output_type": "execute_result"
    }
   ],
   "source": [
    "detect_catagory(clf_l2, article)"
   ]
  },
  {
   "cell_type": "code",
   "execution_count": 135,
   "id": "aabb0d40",
   "metadata": {},
   "outputs": [
    {
     "data": {
      "text/plain": [
       "'business'"
      ]
     },
     "execution_count": 135,
     "metadata": {},
     "output_type": "execute_result"
    }
   ],
   "source": [
    "detect_catagory(clf, article)"
   ]
  },
  {
   "cell_type": "markdown",
   "id": "af0a6d24",
   "metadata": {},
   "source": [
    "## Using L1 Regularizations"
   ]
  },
  {
   "cell_type": "code",
   "execution_count": 59,
   "id": "a47394e1",
   "metadata": {},
   "outputs": [
    {
     "data": {
      "text/plain": [
       "0.9604026845637584"
      ]
     },
     "execution_count": 59,
     "metadata": {},
     "output_type": "execute_result"
    }
   ],
   "source": [
    "clf_l1 = LogisticRegression(penalty=\"l1\", C=20, random_state=42, max_iter=1000, solver='liblinear')\n",
    "\n",
    "np.average(cross_val_score(clf_l1, X, y, cv=10))"
   ]
  },
  {
   "cell_type": "code",
   "execution_count": 60,
   "id": "a4c58d93",
   "metadata": {},
   "outputs": [
    {
     "data": {
      "text/html": [
       "<style>#sk-container-id-4 {color: black;background-color: white;}#sk-container-id-4 pre{padding: 0;}#sk-container-id-4 div.sk-toggleable {background-color: white;}#sk-container-id-4 label.sk-toggleable__label {cursor: pointer;display: block;width: 100%;margin-bottom: 0;padding: 0.3em;box-sizing: border-box;text-align: center;}#sk-container-id-4 label.sk-toggleable__label-arrow:before {content: \"▸\";float: left;margin-right: 0.25em;color: #696969;}#sk-container-id-4 label.sk-toggleable__label-arrow:hover:before {color: black;}#sk-container-id-4 div.sk-estimator:hover label.sk-toggleable__label-arrow:before {color: black;}#sk-container-id-4 div.sk-toggleable__content {max-height: 0;max-width: 0;overflow: hidden;text-align: left;background-color: #f0f8ff;}#sk-container-id-4 div.sk-toggleable__content pre {margin: 0.2em;color: black;border-radius: 0.25em;background-color: #f0f8ff;}#sk-container-id-4 input.sk-toggleable__control:checked~div.sk-toggleable__content {max-height: 200px;max-width: 100%;overflow: auto;}#sk-container-id-4 input.sk-toggleable__control:checked~label.sk-toggleable__label-arrow:before {content: \"▾\";}#sk-container-id-4 div.sk-estimator input.sk-toggleable__control:checked~label.sk-toggleable__label {background-color: #d4ebff;}#sk-container-id-4 div.sk-label input.sk-toggleable__control:checked~label.sk-toggleable__label {background-color: #d4ebff;}#sk-container-id-4 input.sk-hidden--visually {border: 0;clip: rect(1px 1px 1px 1px);clip: rect(1px, 1px, 1px, 1px);height: 1px;margin: -1px;overflow: hidden;padding: 0;position: absolute;width: 1px;}#sk-container-id-4 div.sk-estimator {font-family: monospace;background-color: #f0f8ff;border: 1px dotted black;border-radius: 0.25em;box-sizing: border-box;margin-bottom: 0.5em;}#sk-container-id-4 div.sk-estimator:hover {background-color: #d4ebff;}#sk-container-id-4 div.sk-parallel-item::after {content: \"\";width: 100%;border-bottom: 1px solid gray;flex-grow: 1;}#sk-container-id-4 div.sk-label:hover label.sk-toggleable__label {background-color: #d4ebff;}#sk-container-id-4 div.sk-serial::before {content: \"\";position: absolute;border-left: 1px solid gray;box-sizing: border-box;top: 0;bottom: 0;left: 50%;z-index: 0;}#sk-container-id-4 div.sk-serial {display: flex;flex-direction: column;align-items: center;background-color: white;padding-right: 0.2em;padding-left: 0.2em;position: relative;}#sk-container-id-4 div.sk-item {position: relative;z-index: 1;}#sk-container-id-4 div.sk-parallel {display: flex;align-items: stretch;justify-content: center;background-color: white;position: relative;}#sk-container-id-4 div.sk-item::before, #sk-container-id-4 div.sk-parallel-item::before {content: \"\";position: absolute;border-left: 1px solid gray;box-sizing: border-box;top: 0;bottom: 0;left: 50%;z-index: -1;}#sk-container-id-4 div.sk-parallel-item {display: flex;flex-direction: column;z-index: 1;position: relative;background-color: white;}#sk-container-id-4 div.sk-parallel-item:first-child::after {align-self: flex-end;width: 50%;}#sk-container-id-4 div.sk-parallel-item:last-child::after {align-self: flex-start;width: 50%;}#sk-container-id-4 div.sk-parallel-item:only-child::after {width: 0;}#sk-container-id-4 div.sk-dashed-wrapped {border: 1px dashed gray;margin: 0 0.4em 0.5em 0.4em;box-sizing: border-box;padding-bottom: 0.4em;background-color: white;}#sk-container-id-4 div.sk-label label {font-family: monospace;font-weight: bold;display: inline-block;line-height: 1.2em;}#sk-container-id-4 div.sk-label-container {text-align: center;}#sk-container-id-4 div.sk-container {/* jupyter's `normalize.less` sets `[hidden] { display: none; }` but bootstrap.min.css set `[hidden] { display: none !important; }` so we also need the `!important` here to be able to override the default hidden behavior on the sphinx rendered scikit-learn.org. See: https://github.com/scikit-learn/scikit-learn/issues/21755 */display: inline-block !important;position: relative;}#sk-container-id-4 div.sk-text-repr-fallback {display: none;}</style><div id=\"sk-container-id-4\" class=\"sk-top-container\"><div class=\"sk-text-repr-fallback\"><pre>LogisticRegression(C=20, max_iter=1000, penalty=&#x27;l1&#x27;, random_state=42,\n",
       "                   solver=&#x27;liblinear&#x27;)</pre><b>In a Jupyter environment, please rerun this cell to show the HTML representation or trust the notebook. <br />On GitHub, the HTML representation is unable to render, please try loading this page with nbviewer.org.</b></div><div class=\"sk-container\" hidden><div class=\"sk-item\"><div class=\"sk-estimator sk-toggleable\"><input class=\"sk-toggleable__control sk-hidden--visually\" id=\"sk-estimator-id-4\" type=\"checkbox\" checked><label for=\"sk-estimator-id-4\" class=\"sk-toggleable__label sk-toggleable__label-arrow\">LogisticRegression</label><div class=\"sk-toggleable__content\"><pre>LogisticRegression(C=20, max_iter=1000, penalty=&#x27;l1&#x27;, random_state=42,\n",
       "                   solver=&#x27;liblinear&#x27;)</pre></div></div></div></div></div>"
      ],
      "text/plain": [
       "LogisticRegression(C=20, max_iter=1000, penalty='l1', random_state=42,\n",
       "                   solver='liblinear')"
      ]
     },
     "execution_count": 60,
     "metadata": {},
     "output_type": "execute_result"
    }
   ],
   "source": [
    "clf_l1.fit(X_train, y_train)"
   ]
  },
  {
   "cell_type": "code",
   "execution_count": 61,
   "id": "c195311b",
   "metadata": {},
   "outputs": [
    {
     "name": "stdout",
     "output_type": "stream",
     "text": [
      "               precision    recall  f1-score   support\n",
      "\n",
      "     business       0.92      0.95      0.94       107\n",
      "entertainment       0.97      0.97      0.97        95\n",
      "     politics       0.93      0.98      0.95        85\n",
      "        sport       0.96      0.98      0.97       110\n",
      "         tech       1.00      0.88      0.94        95\n",
      "\n",
      "     accuracy                           0.95       492\n",
      "    macro avg       0.96      0.95      0.95       492\n",
      " weighted avg       0.95      0.95      0.95       492\n",
      "\n"
     ]
    }
   ],
   "source": [
    "y_pred_l1 = clf_l1.predict(X_test)\n",
    "print(classification_report(y_test, y_pred_l1))"
   ]
  },
  {
   "cell_type": "code",
   "execution_count": 64,
   "id": "0f084da9",
   "metadata": {},
   "outputs": [
    {
     "data": {
      "image/png": "[encoded data removed]",
      "text/plain": [
       "<Figure size 432x288 with 2 Axes>"
      ]
     },
     "metadata": {
      "needs_background": "light"
     },
     "output_type": "display_data"
    }
   ],
   "source": [
    "plot_matrix(y_test, y_pred_l1)"
   ]
  },
  {
   "cell_type": "code",
   "execution_count": 136,
   "id": "b736c42c",
   "metadata": {},
   "outputs": [
    {
     "data": {
      "text/plain": [
       "'business'"
      ]
     },
     "execution_count": 136,
     "metadata": {},
     "output_type": "execute_result"
    }
   ],
   "source": [
    "detect_catagory(clf_l1, article)"
   ]
  },
  {
   "cell_type": "code",
   "execution_count": 137,
   "id": "40652230",
   "metadata": {},
   "outputs": [
    {
     "data": {
      "text/plain": [
       "'business'"
      ]
     },
     "execution_count": 137,
     "metadata": {},
     "output_type": "execute_result"
    }
   ],
   "source": [
    "detect_catagory(clf_l2, article)"
   ]
  },
  {
   "cell_type": "markdown",
   "id": "529e928f",
   "metadata": {},
   "source": [
    "# 2. Support Vector Machine"
   ]
  },
  {
   "cell_type": "markdown",
   "id": "be3a1c92",
   "metadata": {},
   "source": [
    "### 1. Linear Kernal\n",
    "\n",
    "Linear Kernel is used when the data is Linearly separable, that is, it can be separated using a single Line. It is mostly used when there are a Large number of Features in a particular Data Set. One of the examples where there are a lot of features, is Text Classification, as each alphabet is a new feature. So we mostly use Linear Kernel in Text Classification"
   ]
  },
  {
   "cell_type": "code",
   "execution_count": 67,
   "id": "07c282ac",
   "metadata": {},
   "outputs": [
    {
     "data": {
      "text/plain": [
       "0.9796747967479674"
      ]
     },
     "execution_count": 67,
     "metadata": {},
     "output_type": "execute_result"
    }
   ],
   "source": [
    "from sklearn import svm\n",
    "\n",
    "svc_linear = svm.SVC(kernel ='linear', C = 1)\n",
    "svc_linear.fit(X_train, y_train)\n",
    "\n",
    "y_pred = svc_linear.predict(X_test)\n",
    "\n",
    "accuracy_score(y_pred, y_test)"
   ]
  },
  {
   "cell_type": "code",
   "execution_count": 68,
   "id": "efe54c80",
   "metadata": {},
   "outputs": [
    {
     "name": "stdout",
     "output_type": "stream",
     "text": [
      "               precision    recall  f1-score   support\n",
      "\n",
      "     business       0.98      0.98      0.98       107\n",
      "entertainment       0.98      0.99      0.98        95\n",
      "     politics       0.97      0.98      0.97        85\n",
      "        sport       0.98      0.99      0.99       110\n",
      "         tech       0.99      0.96      0.97        95\n",
      "\n",
      "     accuracy                           0.98       492\n",
      "    macro avg       0.98      0.98      0.98       492\n",
      " weighted avg       0.98      0.98      0.98       492\n",
      "\n"
     ]
    }
   ],
   "source": [
    "print(classification_report(y_test, y_pred))"
   ]
  },
  {
   "cell_type": "code",
   "execution_count": 70,
   "id": "53502fad",
   "metadata": {},
   "outputs": [
    {
     "data": {
      "image/png": "[encoded data removed]",
      "text/plain": [
       "<Figure size 432x288 with 2 Axes>"
      ]
     },
     "metadata": {
      "needs_background": "light"
     },
     "output_type": "display_data"
    }
   ],
   "source": [
    "plot_matrix(y_test, y_pred)"
   ]
  },
  {
   "cell_type": "markdown",
   "id": "2459dbd0",
   "metadata": {},
   "source": [
    "# 3. Random Forest Classifier"
   ]
  },
  {
   "cell_type": "code",
   "execution_count": 82,
   "id": "61574685",
   "metadata": {},
   "outputs": [
    {
     "name": "stdout",
     "output_type": "stream",
     "text": [
      "Accuracy : 0.9390243902439024\n"
     ]
    }
   ],
   "source": [
    "from sklearn.ensemble import RandomForestClassifier\n",
    "\n",
    "rfc1 = RandomForestClassifier(max_depth=10, random_state=18)\n",
    "\n",
    "rfc1.fit(X_train, y_train)\n",
    "y_predicted = rfc1.predict(X_test)\n",
    "print(\"Accuracy :\",accuracy_score(y_test, y_predicted))"
   ]
  },
  {
   "cell_type": "code",
   "execution_count": 83,
   "id": "23701bd7",
   "metadata": {},
   "outputs": [
    {
     "data": {
      "image/png": "[encoded data removed]",
      "text/plain": [
       "<Figure size 432x288 with 2 Axes>"
      ]
     },
     "metadata": {
      "needs_background": "light"
     },
     "output_type": "display_data"
    }
   ],
   "source": [
    "plot_matrix(y_test, y_predicted)"
   ]
  },
  {
   "cell_type": "code",
   "execution_count": 84,
   "id": "62fd3977",
   "metadata": {},
   "outputs": [
    {
     "name": "stdout",
     "output_type": "stream",
     "text": [
      "Accuracy : 0.9654471544715447\n"
     ]
    }
   ],
   "source": [
    "rfc2 = RandomForestClassifier(max_depth=20, random_state=25)\n",
    "\n",
    "rfc2.fit(X_train, y_train)\n",
    "y_predicted = rfc2.predict(X_test)\n",
    "print(\"Accuracy :\",accuracy_score(y_test, y_predicted))"
   ]
  },
  {
   "cell_type": "code",
   "execution_count": 85,
   "id": "232796a2",
   "metadata": {},
   "outputs": [
    {
     "data": {
      "image/png": "[encoded data removed]",
      "text/plain": [
       "<Figure size 432x288 with 2 Axes>"
      ]
     },
     "metadata": {
      "needs_background": "light"
     },
     "output_type": "display_data"
    }
   ],
   "source": [
    "plot_matrix(y_test, y_predicted)"
   ]
  },
  {
   "cell_type": "code",
   "execution_count": 86,
   "id": "51b41a49",
   "metadata": {},
   "outputs": [
    {
     "name": "stdout",
     "output_type": "stream",
     "text": [
      "Accuracy : 0.9735772357723578\n"
     ]
    }
   ],
   "source": [
    "rfc3 = RandomForestClassifier(max_depth=50, random_state=38)\n",
    "\n",
    "rfc3.fit(X_train, y_train)\n",
    "y_predicted = rfc3.predict(X_test)\n",
    "print(\"Accuracy :\",accuracy_score(y_test, y_predicted))"
   ]
  },
  {
   "cell_type": "code",
   "execution_count": 87,
   "id": "d8b5e169",
   "metadata": {},
   "outputs": [
    {
     "data": {
      "image/png": "[encoded data removed]",
      "text/plain": [
       "<Figure size 432x288 with 2 Axes>"
      ]
     },
     "metadata": {
      "needs_background": "light"
     },
     "output_type": "display_data"
    }
   ],
   "source": [
    "plot_matrix(y_test, y_predicted)"
   ]
  },
  {
   "cell_type": "code",
   "execution_count": 88,
   "id": "d1f0d2ca",
   "metadata": {},
   "outputs": [
    {
     "name": "stdout",
     "output_type": "stream",
     "text": [
      "Accuracy : 0.975609756097561\n"
     ]
    }
   ],
   "source": [
    "rfc4 = RandomForestClassifier(max_depth=100, random_state=80)\n",
    "\n",
    "rfc4.fit(X_train, y_train)\n",
    "y_predicted = rfc4.predict(X_test)\n",
    "print(\"Accuracy :\",accuracy_score(y_test, y_predicted))"
   ]
  },
  {
   "cell_type": "code",
   "execution_count": 89,
   "id": "4cd1cc1c",
   "metadata": {},
   "outputs": [
    {
     "data": {
      "image/png": "[encoded data removed]",
      "text/plain": [
       "<Figure size 432x288 with 2 Axes>"
      ]
     },
     "metadata": {
      "needs_background": "light"
     },
     "output_type": "display_data"
    }
   ],
   "source": [
    "plot_matrix(y_test, y_predicted)"
   ]
  },
  {
   "cell_type": "code",
   "execution_count": 90,
   "id": "d98818be",
   "metadata": {},
   "outputs": [
    {
     "name": "stdout",
     "output_type": "stream",
     "text": [
      "Accuracy : 0.9634146341463414\n"
     ]
    }
   ],
   "source": [
    "rfc5 = RandomForestClassifier(max_depth=200, random_state=150)\n",
    "\n",
    "rfc5.fit(X_train, y_train)\n",
    "y_predicted = rfc5.predict(X_test)\n",
    "print(\"Accuracy :\",accuracy_score(y_test, y_predicted))"
   ]
  },
  {
   "cell_type": "code",
   "execution_count": 91,
   "id": "8d215e24",
   "metadata": {},
   "outputs": [
    {
     "data": {
      "image/png": "[encoded data removed]",
      "text/plain": [
       "<Figure size 432x288 with 2 Axes>"
      ]
     },
     "metadata": {
      "needs_background": "light"
     },
     "output_type": "display_data"
    }
   ],
   "source": [
    "plot_matrix(y_test, y_predicted)"
   ]
  },
  {
   "cell_type": "code",
   "execution_count": 92,
   "id": "69d538e1",
   "metadata": {},
   "outputs": [
    {
     "name": "stdout",
     "output_type": "stream",
     "text": [
      "Accuracy : 0.9613821138211383\n"
     ]
    }
   ],
   "source": [
    "rfc6 = RandomForestClassifier(max_depth=300, random_state=280)\n",
    "\n",
    "rfc6.fit(X_train, y_train)\n",
    "y_predicted = rfc6.predict(X_test)\n",
    "print(\"Accuracy :\",accuracy_score(y_test, y_predicted))"
   ]
  },
  {
   "cell_type": "code",
   "execution_count": 93,
   "id": "439d611e",
   "metadata": {},
   "outputs": [
    {
     "data": {
      "image/png": "[encoded data removed]",
      "text/plain": [
       "<Figure size 432x288 with 2 Axes>"
      ]
     },
     "metadata": {
      "needs_background": "light"
     },
     "output_type": "display_data"
    }
   ],
   "source": [
    "plot_matrix(y_test, y_predicted)"
   ]
  },
  {
   "cell_type": "code",
   "execution_count": 94,
   "id": "10c7ce49",
   "metadata": {},
   "outputs": [
    {
     "name": "stdout",
     "output_type": "stream",
     "text": [
      "Accuracy : 0.9634146341463414\n"
     ]
    }
   ],
   "source": [
    "rfc7 = RandomForestClassifier(max_depth=400, random_state=320)\n",
    "\n",
    "rfc7.fit(X_train, y_train)\n",
    "y_predicted = rfc7.predict(X_test)\n",
    "print(\"Accuracy :\",accuracy_score(y_test, y_predicted))"
   ]
  },
  {
   "cell_type": "code",
   "execution_count": 95,
   "id": "d8d86a58",
   "metadata": {},
   "outputs": [
    {
     "data": {
      "image/png": "[encoded data removed]",
      "text/plain": [
       "<Figure size 432x288 with 2 Axes>"
      ]
     },
     "metadata": {
      "needs_background": "light"
     },
     "output_type": "display_data"
    }
   ],
   "source": [
    "plot_matrix(y_test, y_predicted)"
   ]
  },
  {
   "cell_type": "code",
   "execution_count": 96,
   "id": "b303ec1d",
   "metadata": {},
   "outputs": [
    {
     "name": "stdout",
     "output_type": "stream",
     "text": [
      "Accuracy : 0.9654471544715447\n"
     ]
    }
   ],
   "source": [
    "rfc8 = RandomForestClassifier(max_depth=800, random_state=500)\n",
    "\n",
    "rfc8.fit(X_train, y_train)\n",
    "y_predicted = rfc8.predict(X_test)\n",
    "print(\"Accuracy :\",accuracy_score(y_test, y_predicted))"
   ]
  },
  {
   "cell_type": "code",
   "execution_count": 97,
   "id": "4805c5b4",
   "metadata": {},
   "outputs": [
    {
     "data": {
      "image/png": "[encoded data removed]",
      "text/plain": [
       "<Figure size 432x288 with 2 Axes>"
      ]
     },
     "metadata": {
      "needs_background": "light"
     },
     "output_type": "display_data"
    }
   ],
   "source": [
    "plot_matrix(y_test, y_predicted)"
   ]
  },
  {
   "cell_type": "code",
   "execution_count": 98,
   "id": "044d19c8",
   "metadata": {},
   "outputs": [
    {
     "name": "stdout",
     "output_type": "stream",
     "text": [
      "Accuracy : 0.9695121951219512\n"
     ]
    }
   ],
   "source": [
    "rfc9 = RandomForestClassifier(max_depth=500, random_state=480)\n",
    "\n",
    "rfc9.fit(X_train, y_train)\n",
    "y_predicted = rfc9.predict(X_test)\n",
    "print(\"Accuracy :\",accuracy_score(y_test, y_predicted))"
   ]
  },
  {
   "cell_type": "code",
   "execution_count": 99,
   "id": "a7a88f89",
   "metadata": {},
   "outputs": [
    {
     "data": {
      "image/png": "[encoded data removed]",
      "text/plain": [
       "<Figure size 432x288 with 2 Axes>"
      ]
     },
     "metadata": {
      "needs_background": "light"
     },
     "output_type": "display_data"
    }
   ],
   "source": [
    "plot_matrix(y_test, y_predicted)"
   ]
  },
  {
   "cell_type": "code",
   "execution_count": 100,
   "id": "a9137512",
   "metadata": {},
   "outputs": [
    {
     "data": {
      "text/plain": [
       "0.9577181208053691"
      ]
     },
     "execution_count": 100,
     "metadata": {},
     "output_type": "execute_result"
    }
   ],
   "source": [
    "np.average(cross_val_score(rfc8, X, y, cv=10))"
   ]
  },
  {
   "cell_type": "markdown",
   "id": "224758ac",
   "metadata": {},
   "source": [
    "# 4. K Nearest Neighbors"
   ]
  },
  {
   "cell_type": "code",
   "execution_count": 103,
   "id": "05a10013",
   "metadata": {},
   "outputs": [
    {
     "name": "stdout",
     "output_type": "stream",
     "text": [
      "Accuracy : 0.9004065040650406\n",
      "               precision    recall  f1-score   support\n",
      "\n",
      "     business       0.84      0.93      0.88       107\n",
      "entertainment       0.90      0.92      0.91        95\n",
      "     politics       0.82      0.93      0.87        85\n",
      "        sport       1.00      0.90      0.95       110\n",
      "         tech       0.96      0.83      0.89        95\n",
      "\n",
      "     accuracy                           0.90       492\n",
      "    macro avg       0.90      0.90      0.90       492\n",
      " weighted avg       0.91      0.90      0.90       492\n",
      "\n"
     ]
    },
    {
     "data": {
      "image/png": "[encoded data removed]",
      "text/plain": [
       "<Figure size 432x288 with 2 Axes>"
      ]
     },
     "metadata": {
      "needs_background": "light"
     },
     "output_type": "display_data"
    }
   ],
   "source": [
    "from sklearn.neighbors import KNeighborsClassifier\n",
    "\n",
    "neigh = KNeighborsClassifier(n_neighbors=2)\n",
    "neigh.fit(X_train, y_train)\n",
    "\n",
    "y_pred = neigh.predict(X_test)\n",
    "\n",
    "print(\"Accuracy :\",accuracy_score(y_test, y_pred))\n",
    "\n",
    "print(classification_report(y_test, y_pred))\n",
    "\n",
    "plot_matrix(y_test, y_pred)"
   ]
  },
  {
   "cell_type": "markdown",
   "id": "4f6ec5f6",
   "metadata": {},
   "source": [
    "# 5. Naive Bayes\n",
    "\n",
    "\n",
    "1. Gaussian Naive Bayes\n",
    "2. Multinomial Naive Bayes\n",
    "3. Complement Naive Bayes\n",
    "4. Bernoulli Naive Bayes\n",
    "5. Categorical Naive Bayes\n",
    "6. Out-of-core naive Bayes model fitting\n"
   ]
  },
  {
   "cell_type": "markdown",
   "id": "1b31c391",
   "metadata": {},
   "source": [
    "### 1. Gaussian Naive Bayes"
   ]
  },
  {
   "cell_type": "code",
   "execution_count": 105,
   "id": "5a4b43ff",
   "metadata": {},
   "outputs": [
    {
     "name": "stdout",
     "output_type": "stream",
     "text": [
      "Accuracy : 0.9349593495934959\n",
      "               precision    recall  f1-score   support\n",
      "\n",
      "     business       0.94      0.88      0.91       107\n",
      "entertainment       0.93      0.98      0.95        95\n",
      "     politics       0.92      0.92      0.92        85\n",
      "        sport       0.99      0.97      0.98       110\n",
      "         tech       0.89      0.93      0.91        95\n",
      "\n",
      "     accuracy                           0.93       492\n",
      "    macro avg       0.93      0.93      0.93       492\n",
      " weighted avg       0.94      0.93      0.93       492\n",
      "\n"
     ]
    },
    {
     "data": {
      "image/png": "[encoded data removed]",
      "text/plain": [
       "<Figure size 432x288 with 2 Axes>"
      ]
     },
     "metadata": {
      "needs_background": "light"
     },
     "output_type": "display_data"
    }
   ],
   "source": [
    "from sklearn.naive_bayes import GaussianNB\n",
    "\n",
    "gnb = GaussianNB()\n",
    "gnb.fit(X_train.toarray(), y_train)\n",
    "y_predicted = gnb.predict(X_test.toarray())\n",
    "print(\"Accuracy :\",accuracy_score(y_test, y_predicted))\n",
    "\n",
    "print(classification_report(y_test, y_predicted))\n",
    "\n",
    "plot_matrix(y_test, y_predicted)"
   ]
  },
  {
   "cell_type": "markdown",
   "id": "0a08b626",
   "metadata": {},
   "source": [
    "### 2. Multinomial Naive Bayes\n"
   ]
  },
  {
   "cell_type": "code",
   "execution_count": 107,
   "id": "83eee1c0",
   "metadata": {},
   "outputs": [
    {
     "name": "stdout",
     "output_type": "stream",
     "text": [
      "Accuracy : 0.9715447154471545\n",
      "               precision    recall  f1-score   support\n",
      "\n",
      "     business       0.95      0.98      0.97       107\n",
      "entertainment       0.99      0.97      0.98        95\n",
      "     politics       0.94      0.96      0.95        85\n",
      "        sport       0.97      0.99      0.98       110\n",
      "         tech       1.00      0.95      0.97        95\n",
      "\n",
      "     accuracy                           0.97       492\n",
      "    macro avg       0.97      0.97      0.97       492\n",
      " weighted avg       0.97      0.97      0.97       492\n",
      "\n"
     ]
    },
    {
     "data": {
      "image/png": "[encoded data removed]",
      "text/plain": [
       "<Figure size 432x288 with 2 Axes>"
      ]
     },
     "metadata": {
      "needs_background": "light"
     },
     "output_type": "display_data"
    }
   ],
   "source": [
    "from sklearn.naive_bayes import MultinomialNB\n",
    "\n",
    "mnb = MultinomialNB()\n",
    "mnb.fit(X_train.toarray(), y_train)\n",
    "y_predicted = mnb.predict(X_test.toarray())\n",
    "print(\"Accuracy :\",accuracy_score(y_test, y_predicted))\n",
    "\n",
    "print(classification_report(y_test, y_predicted))\n",
    "plot_matrix(y_test, y_predicted)"
   ]
  },
  {
   "cell_type": "markdown",
   "id": "e821c34e",
   "metadata": {},
   "source": [
    "### 3. Complement Naive Bayes"
   ]
  },
  {
   "cell_type": "code",
   "execution_count": 108,
   "id": "6ce1fca0",
   "metadata": {},
   "outputs": [
    {
     "name": "stdout",
     "output_type": "stream",
     "text": [
      "Accuracy : 0.9776422764227642\n",
      "               precision    recall  f1-score   support\n",
      "\n",
      "     business       0.98      0.96      0.97       107\n",
      "entertainment       0.99      0.98      0.98        95\n",
      "     politics       0.94      0.99      0.97        85\n",
      "        sport       0.99      0.99      0.99       110\n",
      "         tech       0.98      0.97      0.97        95\n",
      "\n",
      "     accuracy                           0.98       492\n",
      "    macro avg       0.98      0.98      0.98       492\n",
      " weighted avg       0.98      0.98      0.98       492\n",
      "\n"
     ]
    },
    {
     "data": {
      "image/png": "[encoded data removed]",
      "text/plain": [
       "<Figure size 432x288 with 2 Axes>"
      ]
     },
     "metadata": {
      "needs_background": "light"
     },
     "output_type": "display_data"
    }
   ],
   "source": [
    "from sklearn.naive_bayes import ComplementNB\n",
    "\n",
    "cnb = ComplementNB()\n",
    "cnb.fit(X_train, y_train)\n",
    "y_predicted = cnb.predict(X_test.toarray())\n",
    "print(\"Accuracy :\",accuracy_score(y_test, y_predicted))\n",
    "\n",
    "print(classification_report(y_test, y_predicted))\n",
    "\n",
    "plot_matrix(y_test, y_predicted)"
   ]
  },
  {
   "cell_type": "markdown",
   "id": "6aaddb61",
   "metadata": {},
   "source": [
    "### 4. Bernoulli Naive Bayes"
   ]
  },
  {
   "cell_type": "code",
   "execution_count": 109,
   "id": "8e4f1647",
   "metadata": {},
   "outputs": [
    {
     "name": "stdout",
     "output_type": "stream",
     "text": [
      "Accuracy : 0.9288617886178862\n",
      "               precision    recall  f1-score   support\n",
      "\n",
      "     business       0.79      0.99      0.88       107\n",
      "entertainment       0.98      0.96      0.97        95\n",
      "     politics       0.97      0.85      0.91        85\n",
      "        sport       0.98      0.99      0.99       110\n",
      "         tech       0.99      0.83      0.90        95\n",
      "\n",
      "     accuracy                           0.93       492\n",
      "    macro avg       0.94      0.92      0.93       492\n",
      " weighted avg       0.94      0.93      0.93       492\n",
      "\n"
     ]
    },
    {
     "data": {
      "image/png": "[encoded data removed]",
      "text/plain": [
       "<Figure size 432x288 with 2 Axes>"
      ]
     },
     "metadata": {
      "needs_background": "light"
     },
     "output_type": "display_data"
    }
   ],
   "source": [
    "from sklearn.naive_bayes import BernoulliNB\n",
    "\n",
    "bnb = BernoulliNB()\n",
    "bnb.fit(X_train, y_train)\n",
    "y_predicted = bnb.predict(X_test)\n",
    "print(\"Accuracy :\",accuracy_score(y_test, y_predicted))\n",
    "\n",
    "print(classification_report(y_test, y_predicted))\n",
    "\n",
    "plot_matrix(y_test, y_predicted)"
   ]
  },
  {
   "cell_type": "markdown",
   "id": "c8419c71",
   "metadata": {},
   "source": [
    "## Save Model"
   ]
  },
  {
   "cell_type": "code",
   "execution_count": 138,
   "id": "6311714a",
   "metadata": {},
   "outputs": [],
   "source": [
    "import pickle as pk"
   ]
  },
  {
   "cell_type": "code",
   "execution_count": 139,
   "id": "58a8fede",
   "metadata": {},
   "outputs": [],
   "source": [
    "with open(\"cnb.pk\", \"wb\") as f:\n",
    "    pk.dump(cnb, f)"
   ]
  },
  {
   "cell_type": "code",
   "execution_count": 140,
   "id": "e0e2664d",
   "metadata": {},
   "outputs": [],
   "source": [
    "with open(\"cnb.pk\", \"rb\") as f:\n",
    "    Y = pk.load(f)"
   ]
  },
  {
   "cell_type": "code",
   "execution_count": 142,
   "id": "186efacd",
   "metadata": {},
   "outputs": [
    {
     "data": {
      "text/plain": [
       "'business'"
      ]
     },
     "execution_count": 142,
     "metadata": {},
     "output_type": "execute_result"
    }
   ],
   "source": [
    "detect_catagory(Y, article)"
   ]
  },
  {
   "cell_type": "code",
   "execution_count": 143,
   "id": "60141c94",
   "metadata": {},
   "outputs": [],
   "source": [
    "with open(\"TfIdf_Vectorizer.pk\", \"wb\") as f:\n",
    "    pk.dump(TfIdf_Vectorizer, f)"
   ]
  },
  {
   "cell_type": "code",
   "execution_count": 144,
   "id": "2965361b",
   "metadata": {},
   "outputs": [],
   "source": [
    "with open(\"TfIdf_Vectorizer.pk\", \"rb\") as f:\n",
    "    pk.load(f)"
   ]
  },
  {
   "cell_type": "markdown",
   "id": "a1ad4d45",
   "metadata": {},
   "source": [
    "# Test Some Random Articles"
   ]
  },
  {
   "cell_type": "code",
   "execution_count": 145,
   "id": "1c6fe15f",
   "metadata": {},
   "outputs": [],
   "source": [
    "business = \"\"\"\n",
    "New Delhi:\n",
    "\n",
    "SpiceJet employees on Wednesday alleged delay in the disbursal of salaries for the second straight month, with the budget airline saying the payments were being made in a \"graded format\".\n",
    "\n",
    "There was a delay in disbursal of salary for staff, including flight crew, for the month of July and many are yet to get the Form 16 for the financial year 2021-22 as well, SpiceJet employees claimed.\n",
    "\n",
    "\"The salary disbursal was timely for June. Also, the salaries are yet to match the pre-COVID-19 levels. The salaries being disbursed to captains and first officers are not even 50 per cent of what they used to be before the pandemic outbreak in March 2020,\" an employee told PTI.\n",
    "\n",
    "However, SpiceJet claimed it has started salary disbursal in a \"graded format\".\n",
    "\n",
    "\"We have started crediting salaries from today. Like the previous month, salary will be credited in a graded format,\" the airline said in a statement to PTI.\n",
    "\n",
    "In an internal communication Wednesday, the SpiceJet's Human Resources team informed employees about the delays citing that the \"previous few months have been difficult\" due to \"superlative fuel price hike\" and also \"historically lean period of July-September\".\n",
    "\n",
    "\"We have started to see some green shoots of relief with reduction in fuel price effective August 1. Passenger demand is also expected to be strong as we enter our traditional strong season in end-September,\" the communication read.\n",
    "\"\"\""
   ]
  },
  {
   "cell_type": "code",
   "execution_count": 146,
   "id": "7bdb4a92",
   "metadata": {},
   "outputs": [
    {
     "data": {
      "text/plain": [
       "'business'"
      ]
     },
     "execution_count": 146,
     "metadata": {},
     "output_type": "execute_result"
    }
   ],
   "source": [
    "detect_catagory(cnb, business)"
   ]
  },
  {
   "cell_type": "code",
   "execution_count": 147,
   "id": "b92038c8",
   "metadata": {},
   "outputs": [],
   "source": [
    "politics = \"\"\"\n",
    "BJP leader Sushil Kumar Modi took a dig at Bihar Chief Minister Nitish Kumar and his Telangana counterpart K Chandrashekar Rao, saying their meeting scheduled for Wednesday is a “get-together of two daydreamers\". Telangana Chief Minister Rao, popularly known as ‘KCR’, is scheduled to arrive in Patna on Wednesday and meet Kumar as both leaders aspire to build a united front against the BJP’s hegemony.\n",
    "\n",
    "KCR will also be paying cheques of compensation to family members of soldiers who were killed in the stand-off with Chinese troops in the Galwan Valley in eastern Ladakh. Taking a swipe at the meeting, Modi said it is a meeting of two leaders who are losing their base in their respective states and “desiring to become prime minister of the country\".\n",
    "\n",
    "“It is a meeting of two daydreamers who have no standing in front of Prime Minister Narendra Modi,\" the BJP leader told reporters. He dubbed the meeting as the “latest comedy show of opposition unity.\" Earlier this month, Nitish Kumar again switched sides, joined hands with the Rashtriya Janata Dal (RJD) of Lalu Prasad Yadav, after parting ways with the Bharatiya Janata Party (BJP).\n",
    "\n",
    "Sushil Modi was a deputy chief minister for more than a decade with Kumar as the chief minister in the JD(U)-BJP government in Bihar.\n",
    "\"\"\""
   ]
  },
  {
   "cell_type": "code",
   "execution_count": 148,
   "id": "a5cceb66",
   "metadata": {},
   "outputs": [
    {
     "data": {
      "text/plain": [
       "'politics'"
      ]
     },
     "execution_count": 148,
     "metadata": {},
     "output_type": "execute_result"
    }
   ],
   "source": [
    "detect_catagory(cnb, politics)"
   ]
  },
  {
   "cell_type": "code",
   "execution_count": 149,
   "id": "f6893fed",
   "metadata": {},
   "outputs": [],
   "source": [
    "sport = \"\"\"\n",
    "Sarfaraz Khan will be aiming to convert his stupendous domestic performances into big runs at the international level when he takes strike for India A in the first unofficial Test against New Zealand A from Thursday.\n",
    "\n",
    "The New Zealand A side comprises at least half a dozen of players who have represented the senior national team in some format over the years and would give competition to the home team. Most of the players in the Indian squad are the ones who played an A series in South Africa late last year and would like to consolidate their positions in the Test team’s pecking order. But no one would get the kind of traction that Sarfaraz is supposed to as he is back at the same venue where he scored a hundred in the Ranji Trophy final a couple of months ago. While the chosen ones are either proven domestic performers or the likes of Kuldeep Yadav, who would like to get his mojo back having missed out on the red ball domestic season last time. But in the case of the burly Mumbaikar, the attention would be much more because, after a near 1000-run Ranji Trophy season, he is literally knocking on the senior national team’s doors.\n",
    "\n",
    "India’s next Test assignment is in Bangladesh in December, after the T20 World Cup in Australia. In that squad, there could be at least one vacant middle order slot, if not two, and Sarfaraz is a serious contender to board the Dhaka-bound flight.\n",
    "\n",
    "A strong indication of that has been given by the selectors, who decided to drop Hanuma Vihari from the India A side, and he will be playing the Duleep Trophy for South Zone, like Shreyas Iyer for the West Zone.It can be said with some degree of certainty that the national selection committee is still not sanguine whether Vihari and Iyer are long-term solutions for India’s middle-order problems, with Cheteshwar Pujara and Ajinkya Rahane set to be phased out in the coming times. Hence the performances of Sarfaraz and the likes of Ruturaj Gaikwad would be closely monitored. Even skipper Priyank Panchal and his long-time A team partner Abhimanyu Easwaran would like to score heavily against bowlers like Matt Fisher, Benjamin Lister and Test spinner Rachin Ravindra. While Rohit Sharma and KL Rahul are India’s top opening pair and Shubman Gill being a floater in Tests, there is a place for another specialist opener, who could get opportunities in the future as the current skipper isn’t getting any younger.\n",
    "\"\"\""
   ]
  },
  {
   "cell_type": "code",
   "execution_count": 150,
   "id": "d4113e55",
   "metadata": {},
   "outputs": [
    {
     "data": {
      "text/plain": [
       "'sport'"
      ]
     },
     "execution_count": 150,
     "metadata": {},
     "output_type": "execute_result"
    }
   ],
   "source": [
    "detect_catagory(cnb, sport)"
   ]
  },
  {
   "cell_type": "code",
   "execution_count": null,
   "id": "edbc3fe6",
   "metadata": {},
   "outputs": [],
   "source": []
  }
 ],
 "metadata": {
  "kernelspec": {
   "display_name": "Python 3 (ipykernel)",
   "language": "python",
   "name": "python3"
  },
  "language_info": {
   "codemirror_mode": {
    "name": "ipython",
    "version": 3
   },
   "file_extension": ".py",
   "mimetype": "text/x-python",
   "name": "python",
   "nbconvert_exporter": "python",
   "pygments_lexer": "ipython3",
   "version": "3.9.12"
  }
 },
 "nbformat": 4,
 "nbformat_minor": 5
}
